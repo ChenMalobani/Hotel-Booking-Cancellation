{
  "nbformat": 4,
  "nbformat_minor": 0,
  "metadata": {
    "kernelspec": {
      "display_name": "Python 3",
      "language": "python",
      "name": "python3"
    },
    "language_info": {
      "codemirror_mode": {
        "name": "ipython",
        "version": 3
      },
      "file_extension": ".py",
      "mimetype": "text/x-python",
      "name": "python",
      "nbconvert_exporter": "python",
      "pygments_lexer": "ipython3",
      "version": "3.7.4"
    },
    "colab": {
      "name": "Hotel Booking.ipynb",
      "provenance": []
    }
  },
  "cells": [
    {
      "cell_type": "markdown",
      "metadata": {
        "id": "ky--W-7nGeJL",
        "colab_type": "text"
      },
      "source": [
        "# Hotel Booking\n",
        "\n",
        "Goal : Predict the chances of cancelation using data of costumers from multiple hotels.\n",
        "The data is given in a tabular form of 32 columns (20 numerical + 12 objects).\n",
        "\n",
        "Content:\n",
        "1. Import and read the data\n",
        "2. Data Analysis\n",
        "3. Model"
      ]
    },
    {
      "cell_type": "markdown",
      "metadata": {
        "id": "p7lj9hMoGeJN",
        "colab_type": "text"
      },
      "source": [
        "# 1. Import and read data:\n",
        "* Import libraries\n",
        "* Read and explore data : remove unimportant & incomplete data\n",
        "* Split into train-val-test"
      ]
    },
    {
      "cell_type": "code",
      "metadata": {
        "id": "80piXFiVGeJO",
        "colab_type": "code",
        "colab": {}
      },
      "source": [
        "import numpy as np\n",
        "import pandas as pd\n",
        "import matplotlib.pyplot as plt\n",
        "import seaborn as sns\n",
        "%matplotlib inline\n",
        "\n",
        "from sklearn.model_selection import train_test_split\n",
        "from sklearn.metrics import confusion_matrix\n",
        "from sklearn.metrics import accuracy_score\n",
        "from sklearn import preprocessing\n",
        "from sklearn.model_selection import GridSearchCV\n",
        "\n",
        "from sklearn.ensemble import RandomForestClassifier\n",
        "from sklearn.ensemble import GradientBoostingClassifier\n",
        "from sklearn.linear_model import LogisticRegression\n"
      ],
      "execution_count": null,
      "outputs": []
    },
    {
      "cell_type": "code",
      "metadata": {
        "id": "D7755MVEGeJV",
        "colab_type": "code",
        "colab": {},
        "outputId": "c173c753-edf6-4d3d-c292-66087fe11a76"
      },
      "source": [
        "path = r'C:\\Users\\omrig\\Documents\\Kaggle Projects\\hotel-booking-demand'\n",
        "file_name = '\\hotel_bookings.csv'\n",
        "data = pd.read_csv(path+file_name)\n",
        "data.head()"
      ],
      "execution_count": null,
      "outputs": [
        {
          "output_type": "execute_result",
          "data": {
            "text/html": [
              "<div>\n",
              "<style scoped>\n",
              "    .dataframe tbody tr th:only-of-type {\n",
              "        vertical-align: middle;\n",
              "    }\n",
              "\n",
              "    .dataframe tbody tr th {\n",
              "        vertical-align: top;\n",
              "    }\n",
              "\n",
              "    .dataframe thead th {\n",
              "        text-align: right;\n",
              "    }\n",
              "</style>\n",
              "<table border=\"1\" class=\"dataframe\">\n",
              "  <thead>\n",
              "    <tr style=\"text-align: right;\">\n",
              "      <th></th>\n",
              "      <th>hotel</th>\n",
              "      <th>is_canceled</th>\n",
              "      <th>lead_time</th>\n",
              "      <th>arrival_date_year</th>\n",
              "      <th>arrival_date_month</th>\n",
              "      <th>arrival_date_week_number</th>\n",
              "      <th>arrival_date_day_of_month</th>\n",
              "      <th>stays_in_weekend_nights</th>\n",
              "      <th>stays_in_week_nights</th>\n",
              "      <th>adults</th>\n",
              "      <th>...</th>\n",
              "      <th>deposit_type</th>\n",
              "      <th>agent</th>\n",
              "      <th>company</th>\n",
              "      <th>days_in_waiting_list</th>\n",
              "      <th>customer_type</th>\n",
              "      <th>adr</th>\n",
              "      <th>required_car_parking_spaces</th>\n",
              "      <th>total_of_special_requests</th>\n",
              "      <th>reservation_status</th>\n",
              "      <th>reservation_status_date</th>\n",
              "    </tr>\n",
              "  </thead>\n",
              "  <tbody>\n",
              "    <tr>\n",
              "      <td>0</td>\n",
              "      <td>Resort Hotel</td>\n",
              "      <td>0</td>\n",
              "      <td>342</td>\n",
              "      <td>2015</td>\n",
              "      <td>July</td>\n",
              "      <td>27</td>\n",
              "      <td>1</td>\n",
              "      <td>0</td>\n",
              "      <td>0</td>\n",
              "      <td>2</td>\n",
              "      <td>...</td>\n",
              "      <td>No Deposit</td>\n",
              "      <td>NaN</td>\n",
              "      <td>NaN</td>\n",
              "      <td>0</td>\n",
              "      <td>Transient</td>\n",
              "      <td>0.0</td>\n",
              "      <td>0</td>\n",
              "      <td>0</td>\n",
              "      <td>Check-Out</td>\n",
              "      <td>2015-07-01</td>\n",
              "    </tr>\n",
              "    <tr>\n",
              "      <td>1</td>\n",
              "      <td>Resort Hotel</td>\n",
              "      <td>0</td>\n",
              "      <td>737</td>\n",
              "      <td>2015</td>\n",
              "      <td>July</td>\n",
              "      <td>27</td>\n",
              "      <td>1</td>\n",
              "      <td>0</td>\n",
              "      <td>0</td>\n",
              "      <td>2</td>\n",
              "      <td>...</td>\n",
              "      <td>No Deposit</td>\n",
              "      <td>NaN</td>\n",
              "      <td>NaN</td>\n",
              "      <td>0</td>\n",
              "      <td>Transient</td>\n",
              "      <td>0.0</td>\n",
              "      <td>0</td>\n",
              "      <td>0</td>\n",
              "      <td>Check-Out</td>\n",
              "      <td>2015-07-01</td>\n",
              "    </tr>\n",
              "    <tr>\n",
              "      <td>2</td>\n",
              "      <td>Resort Hotel</td>\n",
              "      <td>0</td>\n",
              "      <td>7</td>\n",
              "      <td>2015</td>\n",
              "      <td>July</td>\n",
              "      <td>27</td>\n",
              "      <td>1</td>\n",
              "      <td>0</td>\n",
              "      <td>1</td>\n",
              "      <td>1</td>\n",
              "      <td>...</td>\n",
              "      <td>No Deposit</td>\n",
              "      <td>NaN</td>\n",
              "      <td>NaN</td>\n",
              "      <td>0</td>\n",
              "      <td>Transient</td>\n",
              "      <td>75.0</td>\n",
              "      <td>0</td>\n",
              "      <td>0</td>\n",
              "      <td>Check-Out</td>\n",
              "      <td>2015-07-02</td>\n",
              "    </tr>\n",
              "    <tr>\n",
              "      <td>3</td>\n",
              "      <td>Resort Hotel</td>\n",
              "      <td>0</td>\n",
              "      <td>13</td>\n",
              "      <td>2015</td>\n",
              "      <td>July</td>\n",
              "      <td>27</td>\n",
              "      <td>1</td>\n",
              "      <td>0</td>\n",
              "      <td>1</td>\n",
              "      <td>1</td>\n",
              "      <td>...</td>\n",
              "      <td>No Deposit</td>\n",
              "      <td>304.0</td>\n",
              "      <td>NaN</td>\n",
              "      <td>0</td>\n",
              "      <td>Transient</td>\n",
              "      <td>75.0</td>\n",
              "      <td>0</td>\n",
              "      <td>0</td>\n",
              "      <td>Check-Out</td>\n",
              "      <td>2015-07-02</td>\n",
              "    </tr>\n",
              "    <tr>\n",
              "      <td>4</td>\n",
              "      <td>Resort Hotel</td>\n",
              "      <td>0</td>\n",
              "      <td>14</td>\n",
              "      <td>2015</td>\n",
              "      <td>July</td>\n",
              "      <td>27</td>\n",
              "      <td>1</td>\n",
              "      <td>0</td>\n",
              "      <td>2</td>\n",
              "      <td>2</td>\n",
              "      <td>...</td>\n",
              "      <td>No Deposit</td>\n",
              "      <td>240.0</td>\n",
              "      <td>NaN</td>\n",
              "      <td>0</td>\n",
              "      <td>Transient</td>\n",
              "      <td>98.0</td>\n",
              "      <td>0</td>\n",
              "      <td>1</td>\n",
              "      <td>Check-Out</td>\n",
              "      <td>2015-07-03</td>\n",
              "    </tr>\n",
              "  </tbody>\n",
              "</table>\n",
              "<p>5 rows × 32 columns</p>\n",
              "</div>"
            ],
            "text/plain": [
              "          hotel  is_canceled  lead_time  arrival_date_year arrival_date_month  \\\n",
              "0  Resort Hotel            0        342               2015               July   \n",
              "1  Resort Hotel            0        737               2015               July   \n",
              "2  Resort Hotel            0          7               2015               July   \n",
              "3  Resort Hotel            0         13               2015               July   \n",
              "4  Resort Hotel            0         14               2015               July   \n",
              "\n",
              "   arrival_date_week_number  arrival_date_day_of_month  \\\n",
              "0                        27                          1   \n",
              "1                        27                          1   \n",
              "2                        27                          1   \n",
              "3                        27                          1   \n",
              "4                        27                          1   \n",
              "\n",
              "   stays_in_weekend_nights  stays_in_week_nights  adults  ...  deposit_type  \\\n",
              "0                        0                     0       2  ...    No Deposit   \n",
              "1                        0                     0       2  ...    No Deposit   \n",
              "2                        0                     1       1  ...    No Deposit   \n",
              "3                        0                     1       1  ...    No Deposit   \n",
              "4                        0                     2       2  ...    No Deposit   \n",
              "\n",
              "   agent company days_in_waiting_list customer_type   adr  \\\n",
              "0    NaN     NaN                    0     Transient   0.0   \n",
              "1    NaN     NaN                    0     Transient   0.0   \n",
              "2    NaN     NaN                    0     Transient  75.0   \n",
              "3  304.0     NaN                    0     Transient  75.0   \n",
              "4  240.0     NaN                    0     Transient  98.0   \n",
              "\n",
              "   required_car_parking_spaces  total_of_special_requests  reservation_status  \\\n",
              "0                            0                          0           Check-Out   \n",
              "1                            0                          0           Check-Out   \n",
              "2                            0                          0           Check-Out   \n",
              "3                            0                          0           Check-Out   \n",
              "4                            0                          1           Check-Out   \n",
              "\n",
              "  reservation_status_date  \n",
              "0              2015-07-01  \n",
              "1              2015-07-01  \n",
              "2              2015-07-02  \n",
              "3              2015-07-02  \n",
              "4              2015-07-03  \n",
              "\n",
              "[5 rows x 32 columns]"
            ]
          },
          "metadata": {
            "tags": []
          },
          "execution_count": 2
        }
      ]
    },
    {
      "cell_type": "code",
      "metadata": {
        "id": "9UvxbQwlGeJa",
        "colab_type": "code",
        "colab": {},
        "outputId": "f06e99f5-fbe9-4552-aba5-b9322f7e8f73"
      },
      "source": [
        "data.info(), len(data.columns)"
      ],
      "execution_count": null,
      "outputs": [
        {
          "output_type": "stream",
          "text": [
            "<class 'pandas.core.frame.DataFrame'>\n",
            "RangeIndex: 119390 entries, 0 to 119389\n",
            "Data columns (total 32 columns):\n",
            "hotel                             119390 non-null object\n",
            "is_canceled                       119390 non-null int64\n",
            "lead_time                         119390 non-null int64\n",
            "arrival_date_year                 119390 non-null int64\n",
            "arrival_date_month                119390 non-null object\n",
            "arrival_date_week_number          119390 non-null int64\n",
            "arrival_date_day_of_month         119390 non-null int64\n",
            "stays_in_weekend_nights           119390 non-null int64\n",
            "stays_in_week_nights              119390 non-null int64\n",
            "adults                            119390 non-null int64\n",
            "children                          119386 non-null float64\n",
            "babies                            119390 non-null int64\n",
            "meal                              119390 non-null object\n",
            "country                           118902 non-null object\n",
            "market_segment                    119390 non-null object\n",
            "distribution_channel              119390 non-null object\n",
            "is_repeated_guest                 119390 non-null int64\n",
            "previous_cancellations            119390 non-null int64\n",
            "previous_bookings_not_canceled    119390 non-null int64\n",
            "reserved_room_type                119390 non-null object\n",
            "assigned_room_type                119390 non-null object\n",
            "booking_changes                   119390 non-null int64\n",
            "deposit_type                      119390 non-null object\n",
            "agent                             103050 non-null float64\n",
            "company                           6797 non-null float64\n",
            "days_in_waiting_list              119390 non-null int64\n",
            "customer_type                     119390 non-null object\n",
            "adr                               119390 non-null float64\n",
            "required_car_parking_spaces       119390 non-null int64\n",
            "total_of_special_requests         119390 non-null int64\n",
            "reservation_status                119390 non-null object\n",
            "reservation_status_date           119390 non-null object\n",
            "dtypes: float64(4), int64(16), object(12)\n",
            "memory usage: 29.1+ MB\n"
          ],
          "name": "stdout"
        },
        {
          "output_type": "execute_result",
          "data": {
            "text/plain": [
              "(None, 32)"
            ]
          },
          "metadata": {
            "tags": []
          },
          "execution_count": 3
        }
      ]
    },
    {
      "cell_type": "code",
      "metadata": {
        "id": "_UMYKiyNGeJe",
        "colab_type": "code",
        "colab": {},
        "outputId": "0b981547-4988-43b2-f620-5bf77eef879c"
      },
      "source": [
        "np.abs(data.corr()['is_canceled']).sort_values(ascending=False)"
      ],
      "execution_count": null,
      "outputs": [
        {
          "output_type": "execute_result",
          "data": {
            "text/plain": [
              "is_canceled                       1.000000\n",
              "lead_time                         0.293123\n",
              "total_of_special_requests         0.234658\n",
              "required_car_parking_spaces       0.195498\n",
              "booking_changes                   0.144381\n",
              "previous_cancellations            0.110133\n",
              "is_repeated_guest                 0.084793\n",
              "agent                             0.083114\n",
              "adults                            0.060017\n",
              "previous_bookings_not_canceled    0.057358\n",
              "days_in_waiting_list              0.054186\n",
              "adr                               0.047557\n",
              "babies                            0.032491\n",
              "stays_in_week_nights              0.024765\n",
              "company                           0.020642\n",
              "arrival_date_year                 0.016660\n",
              "arrival_date_week_number          0.008148\n",
              "arrival_date_day_of_month         0.006130\n",
              "children                          0.005048\n",
              "stays_in_weekend_nights           0.001791\n",
              "Name: is_canceled, dtype: float64"
            ]
          },
          "metadata": {
            "tags": []
          },
          "execution_count": 4
        }
      ]
    },
    {
      "cell_type": "code",
      "metadata": {
        "id": "iHs3tHXOGeJj",
        "colab_type": "code",
        "colab": {},
        "outputId": "475e6711-30a3-40c4-8b92-ab3fb1e8bfaf"
      },
      "source": [
        "data.isna().sum()"
      ],
      "execution_count": null,
      "outputs": [
        {
          "output_type": "execute_result",
          "data": {
            "text/plain": [
              "hotel                                  0\n",
              "is_canceled                            0\n",
              "lead_time                              0\n",
              "arrival_date_year                      0\n",
              "arrival_date_month                     0\n",
              "arrival_date_week_number               0\n",
              "arrival_date_day_of_month              0\n",
              "stays_in_weekend_nights                0\n",
              "stays_in_week_nights                   0\n",
              "adults                                 0\n",
              "children                               4\n",
              "babies                                 0\n",
              "meal                                   0\n",
              "country                              488\n",
              "market_segment                         0\n",
              "distribution_channel                   0\n",
              "is_repeated_guest                      0\n",
              "previous_cancellations                 0\n",
              "previous_bookings_not_canceled         0\n",
              "reserved_room_type                     0\n",
              "assigned_room_type                     0\n",
              "booking_changes                        0\n",
              "deposit_type                           0\n",
              "agent                              16340\n",
              "company                           112593\n",
              "days_in_waiting_list                   0\n",
              "customer_type                          0\n",
              "adr                                    0\n",
              "required_car_parking_spaces            0\n",
              "total_of_special_requests              0\n",
              "reservation_status                     0\n",
              "reservation_status_date                0\n",
              "dtype: int64"
            ]
          },
          "metadata": {
            "tags": []
          },
          "execution_count": 5
        }
      ]
    },
    {
      "cell_type": "code",
      "metadata": {
        "id": "eHCyOmuwGeJn",
        "colab_type": "code",
        "colab": {},
        "outputId": "af182750-4d4a-4ef9-918b-6b3e8c6f8307"
      },
      "source": [
        "data = data.drop(labels = ['country', 'agent', 'company'], axis =1)\n",
        "data.isna().sum()"
      ],
      "execution_count": null,
      "outputs": [
        {
          "output_type": "execute_result",
          "data": {
            "text/plain": [
              "hotel                             0\n",
              "is_canceled                       0\n",
              "lead_time                         0\n",
              "arrival_date_year                 0\n",
              "arrival_date_month                0\n",
              "arrival_date_week_number          0\n",
              "arrival_date_day_of_month         0\n",
              "stays_in_weekend_nights           0\n",
              "stays_in_week_nights              0\n",
              "adults                            0\n",
              "children                          4\n",
              "babies                            0\n",
              "meal                              0\n",
              "market_segment                    0\n",
              "distribution_channel              0\n",
              "is_repeated_guest                 0\n",
              "previous_cancellations            0\n",
              "previous_bookings_not_canceled    0\n",
              "reserved_room_type                0\n",
              "assigned_room_type                0\n",
              "booking_changes                   0\n",
              "deposit_type                      0\n",
              "days_in_waiting_list              0\n",
              "customer_type                     0\n",
              "adr                               0\n",
              "required_car_parking_spaces       0\n",
              "total_of_special_requests         0\n",
              "reservation_status                0\n",
              "reservation_status_date           0\n",
              "dtype: int64"
            ]
          },
          "metadata": {
            "tags": []
          },
          "execution_count": 6
        }
      ]
    },
    {
      "cell_type": "code",
      "metadata": {
        "id": "DNd7S0IHGeJr",
        "colab_type": "code",
        "colab": {},
        "outputId": "da3a0457-7f35-487a-8b7c-6cfc7c9bef3b"
      },
      "source": [
        "# split the data to train-val-test\n",
        "train_val, test = train_test_split(data, train_size=0.9, test_size=0.1, random_state=42)\n",
        "train,val = train_test_split(train_val, train_size = 0.89, test_size=0.11, random_state=42)\n",
        "len(data), len(train), len(val), len(test), len(train)/len(data)"
      ],
      "execution_count": null,
      "outputs": [
        {
          "output_type": "execute_result",
          "data": {
            "text/plain": [
              "(119390, 95631, 11820, 11939, 0.8009967333947566)"
            ]
          },
          "metadata": {
            "tags": []
          },
          "execution_count": 7
        }
      ]
    },
    {
      "cell_type": "markdown",
      "metadata": {
        "id": "WcrK_mrYGeJw",
        "colab_type": "text"
      },
      "source": [
        "# 2. Data analysis\n",
        "Includes:\n",
        "* Data visualization\n",
        "* Data cleaning\n",
        "* Feature Engineering"
      ]
    },
    {
      "cell_type": "markdown",
      "metadata": {
        "id": "rbKATX2mGeJx",
        "colab_type": "text"
      },
      "source": [
        "### Features\n",
        "\n",
        "* is_canceled : Value : indicating if the booking was canceled (1) or not (0)\n",
        "* lead_time : Number of days that elapsed between the entering date of the booking into the PMS and the arrival date\n",
        "* arrival_date_year : Year of arrival date\n",
        "\n",
        "* arrival_date_week_number : Week number of year for arrival date\n",
        "* arrival_date_day_of_month : Day of arrival date\n",
        "* stays_in_weekend_nights : Number of weekend nights (Saturday or Sunday) the guest stayed or booked to stay at the hotel\n",
        "* stays_in_week_nights : Number of week nights (Monday to Friday) the guest stayed or booked to stay at the hotel\n",
        "* adults : Number of adults\n",
        "* children : Number of children\n",
        "* babies : Number of babies\n",
        "\n",
        "* country : Country of origin. Categories are represented in the ISO 3155–3:2013 format\n",
        "\n",
        "* is_repeated_guest : Value indicating if the booking name was from a repeated guest (1) or not (0)\n",
        "* previous_cancellations : Number of previous bookings that were cancelled by the customer prior to the current booking\n",
        "* previous_bookings_not_canceled : Number of previous bookings not cancelled by the customer prior to the current booking\n",
        "\n",
        "* booking_changes : Number of changes/amendments made to the booking from the moment the booking was entered on the PMS until the moment of check-in or cancellation\n",
        "\n",
        "* agentID of the travel agency that made the booking\n",
        "* companyID of the company/entity that made the booking or responsible for paying the booking. ID is presented instead of designation for anonymity reasons\n",
        "* days_in_waiting_list - Number of days the booking was in the waiting list before it was confirmed to the customer\n",
        "\n",
        "* adr : Average Daily Rate as defined by dividing the sum of all lodging transactions by the total number of staying nights\n",
        "* required_car_parking_spaces : Number of car parking spaces required by the customer\n",
        "* total_of_special_requests : Number of special requests made by the customer (e.g. twin bed or high floor)\n",
        "\n",
        "* reservation_status_date : Date at which the last status was set. This variable can be used in conjunction with the ReservationStatus to understand when was the booking canceled or when did the customer checked-out of the hotel"
      ]
    },
    {
      "cell_type": "markdown",
      "metadata": {
        "id": "dd_oASwhGeJx",
        "colab_type": "text"
      },
      "source": [
        "## Top Correlated Features"
      ]
    },
    {
      "cell_type": "code",
      "metadata": {
        "id": "NgaKfvXUGeJy",
        "colab_type": "code",
        "colab": {},
        "outputId": "da0522c3-ac74-4872-ccc3-ee491fb3910d"
      },
      "source": [
        "# Check most correlated features\n",
        "most_corr = np.abs(train.corr()['is_canceled']).sort_values(ascending=False)[1:7]\n",
        "most_corr"
      ],
      "execution_count": null,
      "outputs": [
        {
          "output_type": "execute_result",
          "data": {
            "text/plain": [
              "lead_time                      0.292255\n",
              "total_of_special_requests      0.233232\n",
              "required_car_parking_spaces    0.196766\n",
              "booking_changes                0.144194\n",
              "previous_cancellations         0.110444\n",
              "is_repeated_guest              0.086222\n",
              "Name: is_canceled, dtype: float64"
            ]
          },
          "metadata": {
            "tags": []
          },
          "execution_count": 8
        }
      ]
    },
    {
      "cell_type": "code",
      "metadata": {
        "id": "EUFp7h_rGeJ1",
        "colab_type": "code",
        "colab": {}
      },
      "source": [
        "#sns.pairplot(train[most_corr.index])"
      ],
      "execution_count": null,
      "outputs": []
    },
    {
      "cell_type": "code",
      "metadata": {
        "id": "e5G1TgJ9GeJ4",
        "colab_type": "code",
        "colab": {},
        "outputId": "dc25f1ba-9cea-4500-fa6d-5e4c6e66bf7b"
      },
      "source": [
        "train['is_canceled'].value_counts(normalize = True)"
      ],
      "execution_count": null,
      "outputs": [
        {
          "output_type": "execute_result",
          "data": {
            "text/plain": [
              "0    0.630779\n",
              "1    0.369221\n",
              "Name: is_canceled, dtype: float64"
            ]
          },
          "metadata": {
            "tags": []
          },
          "execution_count": 10
        }
      ]
    },
    {
      "cell_type": "markdown",
      "metadata": {
        "id": "jae5OKfiGeJ7",
        "colab_type": "text"
      },
      "source": [
        "### lead_time \n",
        "Number of days that elapsed between the entering date of the booking into the PMS and the arrival date\n",
        "We will use lead-time as a one-feature-desicion criterion"
      ]
    },
    {
      "cell_type": "code",
      "metadata": {
        "id": "ozGXqCyyGeJ8",
        "colab_type": "code",
        "colab": {},
        "outputId": "db32b88a-79bd-4485-fcc5-627a79e99f8e"
      },
      "source": [
        "train['lead_time'].plot(kind='kde')"
      ],
      "execution_count": null,
      "outputs": [
        {
          "output_type": "execute_result",
          "data": {
            "text/plain": [
              "<matplotlib.axes._subplots.AxesSubplot at 0x2c1c9eec188>"
            ]
          },
          "metadata": {
            "tags": []
          },
          "execution_count": 11
        },
        {
          "output_type": "display_data",
          "data": {
            "image/png": "[encoded data removed]",
            "text/plain": [
              "<Figure size 432x288 with 1 Axes>"
            ]
          },
          "metadata": {
            "tags": [],
            "needs_background": "light"
          }
        }
      ]
    },
    {
      "cell_type": "code",
      "metadata": {
        "id": "UfVu7X-MGeKA",
        "colab_type": "code",
        "colab": {},
        "outputId": "b8dee53a-247e-4bda-901a-759ee143baee"
      },
      "source": [
        "train['lead_time'].quantile(np.arange(0.1,1,0.1))\n",
        "#np.arange(0.1,1,0.1)"
      ],
      "execution_count": null,
      "outputs": [
        {
          "output_type": "execute_result",
          "data": {
            "text/plain": [
              "0.1      2.0\n",
              "0.2     11.0\n",
              "0.3     26.0\n",
              "0.4     44.0\n",
              "0.5     69.0\n",
              "0.6     99.0\n",
              "0.7    137.0\n",
              "0.8    184.0\n",
              "0.9    265.0\n",
              "Name: lead_time, dtype: float64"
            ]
          },
          "metadata": {
            "tags": []
          },
          "execution_count": 12
        }
      ]
    },
    {
      "cell_type": "code",
      "metadata": {
        "id": "ZX4cKdtZGeKD",
        "colab_type": "code",
        "colab": {},
        "outputId": "610b15e2-0212-4327-b9ce-e94216938934"
      },
      "source": [
        "qlt = pd.qcut(train['lead_time'],10, labels=False)\n",
        "qlt_df=pd.concat([qlt, train['is_canceled']], axis=1)\n",
        "qlt_df"
      ],
      "execution_count": null,
      "outputs": [
        {
          "output_type": "execute_result",
          "data": {
            "text/html": [
              "<div>\n",
              "<style scoped>\n",
              "    .dataframe tbody tr th:only-of-type {\n",
              "        vertical-align: middle;\n",
              "    }\n",
              "\n",
              "    .dataframe tbody tr th {\n",
              "        vertical-align: top;\n",
              "    }\n",
              "\n",
              "    .dataframe thead th {\n",
              "        text-align: right;\n",
              "    }\n",
              "</style>\n",
              "<table border=\"1\" class=\"dataframe\">\n",
              "  <thead>\n",
              "    <tr style=\"text-align: right;\">\n",
              "      <th></th>\n",
              "      <th>lead_time</th>\n",
              "      <th>is_canceled</th>\n",
              "    </tr>\n",
              "  </thead>\n",
              "  <tbody>\n",
              "    <tr>\n",
              "      <td>17776</td>\n",
              "      <td>1</td>\n",
              "      <td>0</td>\n",
              "    </tr>\n",
              "    <tr>\n",
              "      <td>44109</td>\n",
              "      <td>3</td>\n",
              "      <td>1</td>\n",
              "    </tr>\n",
              "    <tr>\n",
              "      <td>77071</td>\n",
              "      <td>8</td>\n",
              "      <td>0</td>\n",
              "    </tr>\n",
              "    <tr>\n",
              "      <td>76770</td>\n",
              "      <td>9</td>\n",
              "      <td>1</td>\n",
              "    </tr>\n",
              "    <tr>\n",
              "      <td>58274</td>\n",
              "      <td>3</td>\n",
              "      <td>1</td>\n",
              "    </tr>\n",
              "    <tr>\n",
              "      <td>...</td>\n",
              "      <td>...</td>\n",
              "      <td>...</td>\n",
              "    </tr>\n",
              "    <tr>\n",
              "      <td>69605</td>\n",
              "      <td>6</td>\n",
              "      <td>1</td>\n",
              "    </tr>\n",
              "    <tr>\n",
              "      <td>60772</td>\n",
              "      <td>7</td>\n",
              "      <td>1</td>\n",
              "    </tr>\n",
              "    <tr>\n",
              "      <td>1898</td>\n",
              "      <td>7</td>\n",
              "      <td>1</td>\n",
              "    </tr>\n",
              "    <tr>\n",
              "      <td>74743</td>\n",
              "      <td>9</td>\n",
              "      <td>1</td>\n",
              "    </tr>\n",
              "    <tr>\n",
              "      <td>82769</td>\n",
              "      <td>4</td>\n",
              "      <td>1</td>\n",
              "    </tr>\n",
              "  </tbody>\n",
              "</table>\n",
              "<p>95631 rows × 2 columns</p>\n",
              "</div>"
            ],
            "text/plain": [
              "       lead_time  is_canceled\n",
              "17776          1            0\n",
              "44109          3            1\n",
              "77071          8            0\n",
              "76770          9            1\n",
              "58274          3            1\n",
              "...          ...          ...\n",
              "69605          6            1\n",
              "60772          7            1\n",
              "1898           7            1\n",
              "74743          9            1\n",
              "82769          4            1\n",
              "\n",
              "[95631 rows x 2 columns]"
            ]
          },
          "metadata": {
            "tags": []
          },
          "execution_count": 13
        }
      ]
    },
    {
      "cell_type": "code",
      "metadata": {
        "id": "NdzRV9XvGeKG",
        "colab_type": "code",
        "colab": {},
        "outputId": "72e91f17-320e-48ff-d48b-9258ebef46cf"
      },
      "source": [
        "sns.barplot(x= 'lead_time', y='is_canceled', data=qlt_df, )"
      ],
      "execution_count": null,
      "outputs": [
        {
          "output_type": "execute_result",
          "data": {
            "text/plain": [
              "<matplotlib.axes._subplots.AxesSubplot at 0x2c1d2c238c8>"
            ]
          },
          "metadata": {
            "tags": []
          },
          "execution_count": 14
        },
        {
          "output_type": "display_data",
          "data": {
            "image/png": "[encoded data removed]",
            "text/plain": [
              "<Figure size 432x288 with 1 Axes>"
            ]
          },
          "metadata": {
            "tags": [],
            "needs_background": "light"
          }
        }
      ]
    },
    {
      "cell_type": "code",
      "metadata": {
        "id": "Vy6PyR1TGeKK",
        "colab_type": "code",
        "colab": {},
        "outputId": "b9ec2ff3-a562-44a4-8582-de9bd2817d20"
      },
      "source": [
        "qlt_df['is_canceled'].groupby(qlt_df['lead_time']).value_counts(normalize=True)"
      ],
      "execution_count": null,
      "outputs": [
        {
          "output_type": "execute_result",
          "data": {
            "text/plain": [
              "lead_time  is_canceled\n",
              "0          0              0.918026\n",
              "           1              0.081974\n",
              "1          0              0.849933\n",
              "           1              0.150067\n",
              "2          0              0.718812\n",
              "           1              0.281188\n",
              "3          0              0.642857\n",
              "           1              0.357143\n",
              "4          0              0.612533\n",
              "           1              0.387467\n",
              "5          0              0.598962\n",
              "           1              0.401038\n",
              "6          0              0.570161\n",
              "           1              0.429839\n",
              "7          0              0.532029\n",
              "           1              0.467971\n",
              "8          0              0.526045\n",
              "           1              0.473955\n",
              "9          1              0.667975\n",
              "           0              0.332025\n",
              "Name: is_canceled, dtype: float64"
            ]
          },
          "metadata": {
            "tags": []
          },
          "execution_count": 15
        }
      ]
    },
    {
      "cell_type": "code",
      "metadata": {
        "id": "LJ7P3SEdGeKN",
        "colab_type": "code",
        "colab": {},
        "outputId": "8580a902-d8b9-477d-ad40-76e5423c21b7"
      },
      "source": [
        "qlt_df['lead_time'].groupby(qlt_df['is_canceled']).value_counts(normalize=True)"
      ],
      "execution_count": null,
      "outputs": [
        {
          "output_type": "execute_result",
          "data": {
            "text/plain": [
              "is_canceled  lead_time\n",
              "0            0            0.145552\n",
              "             1            0.136517\n",
              "             2            0.113955\n",
              "             3            0.100859\n",
              "             4            0.099168\n",
              "             5            0.093763\n",
              "             6            0.089453\n",
              "             7            0.085640\n",
              "             8            0.083203\n",
              "             9            0.051888\n",
              "1            9            0.178340\n",
              "             7            0.128692\n",
              "             8            0.128069\n",
              "             6            0.115211\n",
              "             5            0.107253\n",
              "             4            0.107168\n",
              "             3            0.095726\n",
              "             2            0.076156\n",
              "             1            0.041179\n",
              "             0            0.022204\n",
              "Name: lead_time, dtype: float64"
            ]
          },
          "metadata": {
            "tags": []
          },
          "execution_count": 16
        }
      ]
    },
    {
      "cell_type": "code",
      "metadata": {
        "id": "K0cmajjNGeKQ",
        "colab_type": "code",
        "colab": {},
        "outputId": "67e75bed-76b2-4b22-c531-1af2d88e41a6"
      },
      "source": [
        "qlt_df['lead_time'].groupby(qlt_df['is_canceled']).value_counts(normalize=True)[1].plot(kind='bar')"
      ],
      "execution_count": null,
      "outputs": [
        {
          "output_type": "execute_result",
          "data": {
            "text/plain": [
              "<matplotlib.axes._subplots.AxesSubplot at 0x2c1d3060f08>"
            ]
          },
          "metadata": {
            "tags": []
          },
          "execution_count": 17
        },
        {
          "output_type": "display_data",
          "data": {
            "image/png": "[encoded data removed]",
            "text/plain": [
              "<Figure size 432x288 with 1 Axes>"
            ]
          },
          "metadata": {
            "tags": [],
            "needs_background": "light"
          }
        }
      ]
    },
    {
      "cell_type": "markdown",
      "metadata": {
        "id": "DpPuIHkkGeKU",
        "colab_type": "text"
      },
      "source": [
        "### Preliminary Accuracy Estimation\n",
        "we will create an accuracy dataframe to monitor the quality of prediction at any step"
      ]
    },
    {
      "cell_type": "code",
      "metadata": {
        "id": "LhvBF6FWGeKU",
        "colab_type": "code",
        "colab": {}
      },
      "source": [
        "df_prediction = pd.DataFrame(columns = ['Score'])"
      ],
      "execution_count": null,
      "outputs": []
    },
    {
      "cell_type": "markdown",
      "metadata": {
        "id": "snkDVcIHGeKX",
        "colab_type": "text"
      },
      "source": [
        "#### One-feature-decision"
      ]
    },
    {
      "cell_type": "code",
      "metadata": {
        "id": "VTijO5ueGeKY",
        "colab_type": "code",
        "colab": {},
        "outputId": "16e67f7a-723c-47d8-a49b-5cafeaa74afb"
      },
      "source": [
        "qlt_df['Decision'] = 0\n",
        "#cond1  = (qlt_df['lead_time']==(11.0, 26.0]) | (qlt_df['lead_time']==(2.0, 11.0]) | ( qlt_df['lead_time']==(-0.001, 2.0])\n",
        "qlt_df.loc[qlt_df['lead_time']>=7, 'Decision'] = 1\n",
        "qlt_df"
      ],
      "execution_count": null,
      "outputs": [
        {
          "output_type": "execute_result",
          "data": {
            "text/html": [
              "<div>\n",
              "<style scoped>\n",
              "    .dataframe tbody tr th:only-of-type {\n",
              "        vertical-align: middle;\n",
              "    }\n",
              "\n",
              "    .dataframe tbody tr th {\n",
              "        vertical-align: top;\n",
              "    }\n",
              "\n",
              "    .dataframe thead th {\n",
              "        text-align: right;\n",
              "    }\n",
              "</style>\n",
              "<table border=\"1\" class=\"dataframe\">\n",
              "  <thead>\n",
              "    <tr style=\"text-align: right;\">\n",
              "      <th></th>\n",
              "      <th>lead_time</th>\n",
              "      <th>is_canceled</th>\n",
              "      <th>Decision</th>\n",
              "    </tr>\n",
              "  </thead>\n",
              "  <tbody>\n",
              "    <tr>\n",
              "      <td>17776</td>\n",
              "      <td>1</td>\n",
              "      <td>0</td>\n",
              "      <td>0</td>\n",
              "    </tr>\n",
              "    <tr>\n",
              "      <td>44109</td>\n",
              "      <td>3</td>\n",
              "      <td>1</td>\n",
              "      <td>0</td>\n",
              "    </tr>\n",
              "    <tr>\n",
              "      <td>77071</td>\n",
              "      <td>8</td>\n",
              "      <td>0</td>\n",
              "      <td>1</td>\n",
              "    </tr>\n",
              "    <tr>\n",
              "      <td>76770</td>\n",
              "      <td>9</td>\n",
              "      <td>1</td>\n",
              "      <td>1</td>\n",
              "    </tr>\n",
              "    <tr>\n",
              "      <td>58274</td>\n",
              "      <td>3</td>\n",
              "      <td>1</td>\n",
              "      <td>0</td>\n",
              "    </tr>\n",
              "    <tr>\n",
              "      <td>...</td>\n",
              "      <td>...</td>\n",
              "      <td>...</td>\n",
              "      <td>...</td>\n",
              "    </tr>\n",
              "    <tr>\n",
              "      <td>69605</td>\n",
              "      <td>6</td>\n",
              "      <td>1</td>\n",
              "      <td>0</td>\n",
              "    </tr>\n",
              "    <tr>\n",
              "      <td>60772</td>\n",
              "      <td>7</td>\n",
              "      <td>1</td>\n",
              "      <td>1</td>\n",
              "    </tr>\n",
              "    <tr>\n",
              "      <td>1898</td>\n",
              "      <td>7</td>\n",
              "      <td>1</td>\n",
              "      <td>1</td>\n",
              "    </tr>\n",
              "    <tr>\n",
              "      <td>74743</td>\n",
              "      <td>9</td>\n",
              "      <td>1</td>\n",
              "      <td>1</td>\n",
              "    </tr>\n",
              "    <tr>\n",
              "      <td>82769</td>\n",
              "      <td>4</td>\n",
              "      <td>1</td>\n",
              "      <td>0</td>\n",
              "    </tr>\n",
              "  </tbody>\n",
              "</table>\n",
              "<p>95631 rows × 3 columns</p>\n",
              "</div>"
            ],
            "text/plain": [
              "       lead_time  is_canceled  Decision\n",
              "17776          1            0         0\n",
              "44109          3            1         0\n",
              "77071          8            0         1\n",
              "76770          9            1         1\n",
              "58274          3            1         0\n",
              "...          ...          ...       ...\n",
              "69605          6            1         0\n",
              "60772          7            1         1\n",
              "1898           7            1         1\n",
              "74743          9            1         1\n",
              "82769          4            1         0\n",
              "\n",
              "[95631 rows x 3 columns]"
            ]
          },
          "metadata": {
            "tags": []
          },
          "execution_count": 19
        }
      ]
    },
    {
      "cell_type": "code",
      "metadata": {
        "id": "TBerjwRiGeKb",
        "colab_type": "code",
        "colab": {},
        "outputId": "5d3d4564-f908-4241-cf68-035f7581c1a5"
      },
      "source": [
        "qlt_df['Decision'].value_counts(normalize=True)"
      ],
      "execution_count": null,
      "outputs": [
        {
          "output_type": "execute_result",
          "data": {
            "text/plain": [
              "0    0.700118\n",
              "1    0.299882\n",
              "Name: Decision, dtype: float64"
            ]
          },
          "metadata": {
            "tags": []
          },
          "execution_count": 20
        }
      ]
    },
    {
      "cell_type": "code",
      "metadata": {
        "id": "qtvGdF-HGeKe",
        "colab_type": "code",
        "colab": {}
      },
      "source": [
        "def print_score(prediction,validation,name):\n",
        "    acc = np.round(accuracy_score(validation,prediction) * 100, 2)\n",
        "    print('Accuracy Score : ',acc)\n",
        "    df_prediction.loc[name,'Score'] = acc\n",
        "    cm_norm = confusion_matrix(prediction,validation)/(confusion_matrix(prediction,validation).sum())\n",
        "    return sns.heatmap(cm_norm, cmap='hot', annot=True)"
      ],
      "execution_count": null,
      "outputs": []
    },
    {
      "cell_type": "code",
      "metadata": {
        "id": "n4kOno7wGeKi",
        "colab_type": "code",
        "colab": {},
        "outputId": "449af40d-2b97-45ca-81f5-20785ee1e856"
      },
      "source": [
        "print_score(qlt_df['Decision'],qlt_df['is_canceled'],'Top 1 Numeric Feat')"
      ],
      "execution_count": null,
      "outputs": [
        {
          "output_type": "stream",
          "text": [
            "Accuracy Score :  65.22\n"
          ],
          "name": "stdout"
        },
        {
          "output_type": "execute_result",
          "data": {
            "text/plain": [
              "<matplotlib.axes._subplots.AxesSubplot at 0x2c1d31071c8>"
            ]
          },
          "metadata": {
            "tags": []
          },
          "execution_count": 22
        },
        {
          "output_type": "display_data",
          "data": {
            "image/png": "[encoded data removed]",
            "text/plain": [
              "<Figure size 432x288 with 2 Axes>"
            ]
          },
          "metadata": {
            "tags": [],
            "needs_background": "light"
          }
        }
      ]
    },
    {
      "cell_type": "markdown",
      "metadata": {
        "id": "JERVJFD3GeKn",
        "colab_type": "text"
      },
      "source": [
        "Intuitvely, the longer the lead-time is the probability of canceltion is growing.\n",
        "* for the bottom centile (up to 2 days) the chances for cancelation are 8%\n",
        "* for the 8th and 9th centile (137-265 days) the chances for cancelation are ~50%\n",
        "* for the upper centile (more than a year) the chances for cancelation are 67%\n",
        "* Prediction based solely on lead_time is no better than all-True ~65%"
      ]
    },
    {
      "cell_type": "markdown",
      "metadata": {
        "id": "UCHwYjcpGeKn",
        "colab_type": "text"
      },
      "source": [
        "#### Top-5 correlated Festures based Decision\n",
        "We will check the accuracy achieved for a minimal number of features without any feature engineering"
      ]
    },
    {
      "cell_type": "code",
      "metadata": {
        "id": "kgD5UX1wGeKo",
        "colab_type": "code",
        "colab": {},
        "outputId": "fee1b179-6c87-4e44-a075-be7ce92d53d1"
      },
      "source": [
        "train_5 = train[most_corr.index.values]\n",
        "train_5.head()"
      ],
      "execution_count": null,
      "outputs": [
        {
          "output_type": "execute_result",
          "data": {
            "text/html": [
              "<div>\n",
              "<style scoped>\n",
              "    .dataframe tbody tr th:only-of-type {\n",
              "        vertical-align: middle;\n",
              "    }\n",
              "\n",
              "    .dataframe tbody tr th {\n",
              "        vertical-align: top;\n",
              "    }\n",
              "\n",
              "    .dataframe thead th {\n",
              "        text-align: right;\n",
              "    }\n",
              "</style>\n",
              "<table border=\"1\" class=\"dataframe\">\n",
              "  <thead>\n",
              "    <tr style=\"text-align: right;\">\n",
              "      <th></th>\n",
              "      <th>lead_time</th>\n",
              "      <th>total_of_special_requests</th>\n",
              "      <th>required_car_parking_spaces</th>\n",
              "      <th>booking_changes</th>\n",
              "      <th>previous_cancellations</th>\n",
              "      <th>is_repeated_guest</th>\n",
              "    </tr>\n",
              "  </thead>\n",
              "  <tbody>\n",
              "    <tr>\n",
              "      <td>17776</td>\n",
              "      <td>11</td>\n",
              "      <td>3</td>\n",
              "      <td>1</td>\n",
              "      <td>0</td>\n",
              "      <td>0</td>\n",
              "      <td>0</td>\n",
              "    </tr>\n",
              "    <tr>\n",
              "      <td>44109</td>\n",
              "      <td>30</td>\n",
              "      <td>0</td>\n",
              "      <td>0</td>\n",
              "      <td>0</td>\n",
              "      <td>0</td>\n",
              "      <td>0</td>\n",
              "    </tr>\n",
              "    <tr>\n",
              "      <td>77071</td>\n",
              "      <td>219</td>\n",
              "      <td>0</td>\n",
              "      <td>0</td>\n",
              "      <td>0</td>\n",
              "      <td>0</td>\n",
              "      <td>0</td>\n",
              "    </tr>\n",
              "    <tr>\n",
              "      <td>76770</td>\n",
              "      <td>395</td>\n",
              "      <td>0</td>\n",
              "      <td>0</td>\n",
              "      <td>0</td>\n",
              "      <td>1</td>\n",
              "      <td>0</td>\n",
              "    </tr>\n",
              "    <tr>\n",
              "      <td>58274</td>\n",
              "      <td>42</td>\n",
              "      <td>1</td>\n",
              "      <td>0</td>\n",
              "      <td>0</td>\n",
              "      <td>0</td>\n",
              "      <td>0</td>\n",
              "    </tr>\n",
              "  </tbody>\n",
              "</table>\n",
              "</div>"
            ],
            "text/plain": [
              "       lead_time  total_of_special_requests  required_car_parking_spaces  \\\n",
              "17776         11                          3                            1   \n",
              "44109         30                          0                            0   \n",
              "77071        219                          0                            0   \n",
              "76770        395                          0                            0   \n",
              "58274         42                          1                            0   \n",
              "\n",
              "       booking_changes  previous_cancellations  is_repeated_guest  \n",
              "17776                0                       0                  0  \n",
              "44109                0                       0                  0  \n",
              "77071                0                       0                  0  \n",
              "76770                0                       1                  0  \n",
              "58274                0                       0                  0  "
            ]
          },
          "metadata": {
            "tags": []
          },
          "execution_count": 23
        }
      ]
    },
    {
      "cell_type": "code",
      "metadata": {
        "id": "n0Xd1NnoGeKs",
        "colab_type": "code",
        "colab": {},
        "outputId": "0a560762-8681-4254-a2c1-83beb254b07d"
      },
      "source": [
        "train_5.info()"
      ],
      "execution_count": null,
      "outputs": [
        {
          "output_type": "stream",
          "text": [
            "<class 'pandas.core.frame.DataFrame'>\n",
            "Int64Index: 95631 entries, 17776 to 82769\n",
            "Data columns (total 6 columns):\n",
            "lead_time                      95631 non-null int64\n",
            "total_of_special_requests      95631 non-null int64\n",
            "required_car_parking_spaces    95631 non-null int64\n",
            "booking_changes                95631 non-null int64\n",
            "previous_cancellations         95631 non-null int64\n",
            "is_repeated_guest              95631 non-null int64\n",
            "dtypes: int64(6)\n",
            "memory usage: 7.6 MB\n"
          ],
          "name": "stdout"
        }
      ]
    },
    {
      "cell_type": "code",
      "metadata": {
        "id": "07oBzyxrGeKx",
        "colab_type": "code",
        "colab": {},
        "outputId": "6feae961-c9e0-4a5a-fb4d-9471d56253b9"
      },
      "source": [
        "val_5 = val[most_corr.index.values]\n",
        "val_5.info()"
      ],
      "execution_count": null,
      "outputs": [
        {
          "output_type": "stream",
          "text": [
            "<class 'pandas.core.frame.DataFrame'>\n",
            "Int64Index: 11820 entries, 79254 to 96045\n",
            "Data columns (total 6 columns):\n",
            "lead_time                      11820 non-null int64\n",
            "total_of_special_requests      11820 non-null int64\n",
            "required_car_parking_spaces    11820 non-null int64\n",
            "booking_changes                11820 non-null int64\n",
            "previous_cancellations         11820 non-null int64\n",
            "is_repeated_guest              11820 non-null int64\n",
            "dtypes: int64(6)\n",
            "memory usage: 646.4 KB\n"
          ],
          "name": "stdout"
        }
      ]
    },
    {
      "cell_type": "code",
      "metadata": {
        "id": "2xSajv0DGeK0",
        "colab_type": "code",
        "colab": {}
      },
      "source": [
        "target_5 = train['is_canceled']\n",
        "target_val_5 = val['is_canceled']"
      ],
      "execution_count": null,
      "outputs": []
    },
    {
      "cell_type": "code",
      "metadata": {
        "id": "BAspYuGRGeK3",
        "colab_type": "code",
        "colab": {},
        "outputId": "af66b607-3bd4-4e3b-a54e-00dd8cc49ee6"
      },
      "source": [
        "rf_5 = RandomForestClassifier()\n",
        "rf_5.fit(train_5, target_5)"
      ],
      "execution_count": null,
      "outputs": [
        {
          "output_type": "stream",
          "text": [
            "C:\\Users\\omrig\\Anaconda3\\lib\\site-packages\\sklearn\\ensemble\\forest.py:245: FutureWarning: The default value of n_estimators will change from 10 in version 0.20 to 100 in 0.22.\n",
            "  \"10 in version 0.20 to 100 in 0.22.\", FutureWarning)\n"
          ],
          "name": "stderr"
        },
        {
          "output_type": "execute_result",
          "data": {
            "text/plain": [
              "RandomForestClassifier(bootstrap=True, class_weight=None, criterion='gini',\n",
              "                       max_depth=None, max_features='auto', max_leaf_nodes=None,\n",
              "                       min_impurity_decrease=0.0, min_impurity_split=None,\n",
              "                       min_samples_leaf=1, min_samples_split=2,\n",
              "                       min_weight_fraction_leaf=0.0, n_estimators=10,\n",
              "                       n_jobs=None, oob_score=False, random_state=None,\n",
              "                       verbose=0, warm_start=False)"
            ]
          },
          "metadata": {
            "tags": []
          },
          "execution_count": 27
        }
      ]
    },
    {
      "cell_type": "code",
      "metadata": {
        "id": "7qG3LjV4GeK6",
        "colab_type": "code",
        "colab": {},
        "outputId": "0ccd9c00-73df-42eb-88e3-72faef685a16"
      },
      "source": [
        "rf5_pred = rf_5.predict(val_5)\n",
        "print_score(rf5_pred,target_val_5,'Top 5 Numeric Feat')"
      ],
      "execution_count": null,
      "outputs": [
        {
          "output_type": "stream",
          "text": [
            "Accuracy Score :  75.44\n"
          ],
          "name": "stdout"
        },
        {
          "output_type": "execute_result",
          "data": {
            "text/plain": [
              "<matplotlib.axes._subplots.AxesSubplot at 0x2c1d2cf13c8>"
            ]
          },
          "metadata": {
            "tags": []
          },
          "execution_count": 28
        },
        {
          "output_type": "display_data",
          "data": {
            "image/png": "[encoded data removed]",
            "text/plain": [
              "<Figure size 432x288 with 2 Axes>"
            ]
          },
          "metadata": {
            "tags": [],
            "needs_background": "light"
          }
        }
      ]
    },
    {
      "cell_type": "markdown",
      "metadata": {
        "id": "1ngs3RcwGeK9",
        "colab_type": "text"
      },
      "source": [
        "Preliminary accuracy estimations shows that one feature is sufficient to reach an accuracy level of ~70% and five features are can yield a prediction with ~75% accuracy. Involvement of more features by categorical encoding, feature enginnering and hyperparameters optimization should give rise to a better result"
      ]
    },
    {
      "cell_type": "markdown",
      "metadata": {
        "id": "RnDigbWzGeLA",
        "colab_type": "text"
      },
      "source": [
        "### total_of_special_requests\n",
        "Number of special requests made by the customer (e.g. twin bed or high floor)"
      ]
    },
    {
      "cell_type": "code",
      "metadata": {
        "id": "4NmMKm3VGeLB",
        "colab_type": "code",
        "colab": {},
        "outputId": "c8011a74-dd41-4256-845e-768b65b1f119"
      },
      "source": [
        "train['total_of_special_requests'].value_counts(normalize=True).plot(kind='bar')"
      ],
      "execution_count": null,
      "outputs": [
        {
          "output_type": "execute_result",
          "data": {
            "text/plain": [
              "<matplotlib.axes._subplots.AxesSubplot at 0x2c1d2dcdf08>"
            ]
          },
          "metadata": {
            "tags": []
          },
          "execution_count": 29
        },
        {
          "output_type": "display_data",
          "data": {
            "image/png": "[encoded data removed]",
            "text/plain": [
              "<Figure size 432x288 with 1 Axes>"
            ]
          },
          "metadata": {
            "tags": [],
            "needs_background": "light"
          }
        }
      ]
    },
    {
      "cell_type": "code",
      "metadata": {
        "id": "wD9ouM-cGeLE",
        "colab_type": "code",
        "colab": {},
        "outputId": "d4ce8115-7061-4c84-aed0-aa29256363ff"
      },
      "source": [
        "train['is_canceled'].groupby(train['total_of_special_requests']).value_counts(normalize=True)"
      ],
      "execution_count": null,
      "outputs": [
        {
          "output_type": "execute_result",
          "data": {
            "text/plain": [
              "total_of_special_requests  is_canceled\n",
              "0                          0              0.524791\n",
              "                           1              0.475209\n",
              "1                          0              0.780207\n",
              "                           1              0.219793\n",
              "2                          0              0.779494\n",
              "                           1              0.220506\n",
              "3                          0              0.821393\n",
              "                           1              0.178607\n",
              "4                          0              0.891386\n",
              "                           1              0.108614\n",
              "5                          0              0.928571\n",
              "                           1              0.071429\n",
              "Name: is_canceled, dtype: float64"
            ]
          },
          "metadata": {
            "tags": []
          },
          "execution_count": 30
        }
      ]
    },
    {
      "cell_type": "code",
      "metadata": {
        "id": "MYu5UYpUGeLG",
        "colab_type": "code",
        "colab": {},
        "outputId": "f627650e-cfa9-4689-8884-620e5705745e"
      },
      "source": [
        "sns.barplot(x='total_of_special_requests', y='is_canceled', data=train)"
      ],
      "execution_count": null,
      "outputs": [
        {
          "output_type": "execute_result",
          "data": {
            "text/plain": [
              "<matplotlib.axes._subplots.AxesSubplot at 0x2c1d2cdae08>"
            ]
          },
          "metadata": {
            "tags": []
          },
          "execution_count": 31
        },
        {
          "output_type": "display_data",
          "data": {
            "image/png": "[encoded data removed]",
            "text/plain": [
              "<Figure size 432x288 with 1 Axes>"
            ]
          },
          "metadata": {
            "tags": [],
            "needs_background": "light"
          }
        }
      ]
    },
    {
      "cell_type": "code",
      "metadata": {
        "id": "3q4GfnJBGeLJ",
        "colab_type": "code",
        "colab": {},
        "outputId": "fe1d8a59-834e-4fb3-9a5d-3f10d34c4ff2"
      },
      "source": [
        "qlt_df['total_of_special_requests']=train['total_of_special_requests']\n",
        "qlt_df.pivot_table(index='lead_time', columns='total_of_special_requests', values='is_canceled')"
      ],
      "execution_count": null,
      "outputs": [
        {
          "output_type": "execute_result",
          "data": {
            "text/html": [
              "<div>\n",
              "<style scoped>\n",
              "    .dataframe tbody tr th:only-of-type {\n",
              "        vertical-align: middle;\n",
              "    }\n",
              "\n",
              "    .dataframe tbody tr th {\n",
              "        vertical-align: top;\n",
              "    }\n",
              "\n",
              "    .dataframe thead th {\n",
              "        text-align: right;\n",
              "    }\n",
              "</style>\n",
              "<table border=\"1\" class=\"dataframe\">\n",
              "  <thead>\n",
              "    <tr style=\"text-align: right;\">\n",
              "      <th>total_of_special_requests</th>\n",
              "      <th>0</th>\n",
              "      <th>1</th>\n",
              "      <th>2</th>\n",
              "      <th>3</th>\n",
              "      <th>4</th>\n",
              "      <th>5</th>\n",
              "    </tr>\n",
              "    <tr>\n",
              "      <th>lead_time</th>\n",
              "      <th></th>\n",
              "      <th></th>\n",
              "      <th></th>\n",
              "      <th></th>\n",
              "      <th></th>\n",
              "      <th></th>\n",
              "    </tr>\n",
              "  </thead>\n",
              "  <tbody>\n",
              "    <tr>\n",
              "      <td>0</td>\n",
              "      <td>0.099624</td>\n",
              "      <td>0.046475</td>\n",
              "      <td>0.057516</td>\n",
              "      <td>0.088710</td>\n",
              "      <td>0.076923</td>\n",
              "      <td>NaN</td>\n",
              "    </tr>\n",
              "    <tr>\n",
              "      <td>1</td>\n",
              "      <td>0.191000</td>\n",
              "      <td>0.109003</td>\n",
              "      <td>0.098546</td>\n",
              "      <td>0.079295</td>\n",
              "      <td>0.120000</td>\n",
              "      <td>NaN</td>\n",
              "    </tr>\n",
              "    <tr>\n",
              "      <td>2</td>\n",
              "      <td>0.357819</td>\n",
              "      <td>0.221455</td>\n",
              "      <td>0.163087</td>\n",
              "      <td>0.154506</td>\n",
              "      <td>0.142857</td>\n",
              "      <td>0.00</td>\n",
              "    </tr>\n",
              "    <tr>\n",
              "      <td>3</td>\n",
              "      <td>0.445022</td>\n",
              "      <td>0.259465</td>\n",
              "      <td>0.239243</td>\n",
              "      <td>0.192118</td>\n",
              "      <td>0.173913</td>\n",
              "      <td>0.25</td>\n",
              "    </tr>\n",
              "    <tr>\n",
              "      <td>4</td>\n",
              "      <td>0.506237</td>\n",
              "      <td>0.258314</td>\n",
              "      <td>0.215146</td>\n",
              "      <td>0.171296</td>\n",
              "      <td>0.228571</td>\n",
              "      <td>0.20</td>\n",
              "    </tr>\n",
              "    <tr>\n",
              "      <td>5</td>\n",
              "      <td>0.512150</td>\n",
              "      <td>0.255469</td>\n",
              "      <td>0.259082</td>\n",
              "      <td>0.188285</td>\n",
              "      <td>0.000000</td>\n",
              "      <td>0.00</td>\n",
              "    </tr>\n",
              "    <tr>\n",
              "      <td>6</td>\n",
              "      <td>0.553614</td>\n",
              "      <td>0.258797</td>\n",
              "      <td>0.273754</td>\n",
              "      <td>0.217778</td>\n",
              "      <td>0.083333</td>\n",
              "      <td>0.00</td>\n",
              "    </tr>\n",
              "    <tr>\n",
              "      <td>7</td>\n",
              "      <td>0.611613</td>\n",
              "      <td>0.260653</td>\n",
              "      <td>0.278761</td>\n",
              "      <td>0.158416</td>\n",
              "      <td>0.000000</td>\n",
              "      <td>0.00</td>\n",
              "    </tr>\n",
              "    <tr>\n",
              "      <td>8</td>\n",
              "      <td>0.585147</td>\n",
              "      <td>0.307913</td>\n",
              "      <td>0.306959</td>\n",
              "      <td>0.264423</td>\n",
              "      <td>0.127660</td>\n",
              "      <td>0.00</td>\n",
              "    </tr>\n",
              "    <tr>\n",
              "      <td>9</td>\n",
              "      <td>0.785360</td>\n",
              "      <td>0.239018</td>\n",
              "      <td>0.382716</td>\n",
              "      <td>0.304762</td>\n",
              "      <td>0.050000</td>\n",
              "      <td>NaN</td>\n",
              "    </tr>\n",
              "  </tbody>\n",
              "</table>\n",
              "</div>"
            ],
            "text/plain": [
              "total_of_special_requests         0         1         2         3         4  \\\n",
              "lead_time                                                                     \n",
              "0                          0.099624  0.046475  0.057516  0.088710  0.076923   \n",
              "1                          0.191000  0.109003  0.098546  0.079295  0.120000   \n",
              "2                          0.357819  0.221455  0.163087  0.154506  0.142857   \n",
              "3                          0.445022  0.259465  0.239243  0.192118  0.173913   \n",
              "4                          0.506237  0.258314  0.215146  0.171296  0.228571   \n",
              "5                          0.512150  0.255469  0.259082  0.188285  0.000000   \n",
              "6                          0.553614  0.258797  0.273754  0.217778  0.083333   \n",
              "7                          0.611613  0.260653  0.278761  0.158416  0.000000   \n",
              "8                          0.585147  0.307913  0.306959  0.264423  0.127660   \n",
              "9                          0.785360  0.239018  0.382716  0.304762  0.050000   \n",
              "\n",
              "total_of_special_requests     5  \n",
              "lead_time                        \n",
              "0                           NaN  \n",
              "1                           NaN  \n",
              "2                          0.00  \n",
              "3                          0.25  \n",
              "4                          0.20  \n",
              "5                          0.00  \n",
              "6                          0.00  \n",
              "7                          0.00  \n",
              "8                          0.00  \n",
              "9                           NaN  "
            ]
          },
          "metadata": {
            "tags": []
          },
          "execution_count": 32
        }
      ]
    },
    {
      "cell_type": "markdown",
      "metadata": {
        "id": "KjcysRhlGeLM",
        "colab_type": "text"
      },
      "source": [
        "More special requests reduce the probability of cancelation "
      ]
    },
    {
      "cell_type": "markdown",
      "metadata": {
        "id": "aIT8yRWyGeLN",
        "colab_type": "text"
      },
      "source": [
        "### required_car_parking_spaces\n",
        "The values of this feature arise several questions: \n",
        "* Is car space is actually a type of special request? in the sense that it indicates planning and ingagement\n",
        "* Are car spaces correlated with the type of need? for example, in buissness trips or resorts it is more common to travel without a car\n",
        "* Is more than one car space imply planning of many members? a fact that may increase the engagement but also the logistic complication"
      ]
    },
    {
      "cell_type": "code",
      "metadata": {
        "id": "83alv2eWGeLN",
        "colab_type": "code",
        "colab": {},
        "outputId": "56486020-f694-48d2-a5af-0b65e067a70c"
      },
      "source": [
        "train['required_car_parking_spaces'].value_counts(normalize=True)"
      ],
      "execution_count": null,
      "outputs": [
        {
          "output_type": "execute_result",
          "data": {
            "text/plain": [
              "0    0.937175\n",
              "1    0.062553\n",
              "2    0.000251\n",
              "8    0.000010\n",
              "3    0.000010\n",
              "Name: required_car_parking_spaces, dtype: float64"
            ]
          },
          "metadata": {
            "tags": []
          },
          "execution_count": 33
        }
      ]
    },
    {
      "cell_type": "code",
      "metadata": {
        "id": "Iu45C-lGGeLR",
        "colab_type": "code",
        "colab": {},
        "outputId": "2acf6054-0788-476b-c8b5-e73f2a19ed44"
      },
      "source": [
        "train['required_car_parking_spaces'].value_counts()"
      ],
      "execution_count": null,
      "outputs": [
        {
          "output_type": "execute_result",
          "data": {
            "text/plain": [
              "0    89623\n",
              "1     5982\n",
              "2       24\n",
              "8        1\n",
              "3        1\n",
              "Name: required_car_parking_spaces, dtype: int64"
            ]
          },
          "metadata": {
            "tags": []
          },
          "execution_count": 34
        }
      ]
    },
    {
      "cell_type": "code",
      "metadata": {
        "id": "J02vea9XGeLV",
        "colab_type": "code",
        "colab": {},
        "outputId": "1487d165-37b5-4560-a4bf-8ff011c195a7"
      },
      "source": [
        "# it is obvious that more than two cars are rare and stated in a different category, \n",
        "#therefore we will change the classification of this feature, not enough data for 3 cars or more\n",
        "train.loc[train['required_car_parking_spaces']>1,'required_car_parking_spaces']=2\n",
        "val.loc[val['required_car_parking_spaces']>1,'required_car_parking_spaces']=2\n",
        "test.loc[test['required_car_parking_spaces']>1,'required_car_parking_spaces']=2\n",
        "train['required_car_parking_spaces'].value_counts()"
      ],
      "execution_count": null,
      "outputs": [
        {
          "output_type": "stream",
          "text": [
            "C:\\Users\\omrig\\Anaconda3\\lib\\site-packages\\pandas\\core\\indexing.py:494: SettingWithCopyWarning: \n",
            "A value is trying to be set on a copy of a slice from a DataFrame.\n",
            "Try using .loc[row_indexer,col_indexer] = value instead\n",
            "\n",
            "See the caveats in the documentation: http://pandas.pydata.org/pandas-docs/stable/user_guide/indexing.html#returning-a-view-versus-a-copy\n",
            "  self.obj[item] = s\n"
          ],
          "name": "stderr"
        },
        {
          "output_type": "execute_result",
          "data": {
            "text/plain": [
              "0    89623\n",
              "1     5982\n",
              "2       26\n",
              "Name: required_car_parking_spaces, dtype: int64"
            ]
          },
          "metadata": {
            "tags": []
          },
          "execution_count": 35
        }
      ]
    },
    {
      "cell_type": "code",
      "metadata": {
        "id": "QhcsLyhjGeLZ",
        "colab_type": "code",
        "colab": {},
        "outputId": "7e418cc1-8990-47bc-d3d6-769ceef01f21"
      },
      "source": [
        "train['is_canceled'].groupby(train['required_car_parking_spaces']).value_counts(normalize=True)"
      ],
      "execution_count": null,
      "outputs": [
        {
          "output_type": "execute_result",
          "data": {
            "text/plain": [
              "required_car_parking_spaces  is_canceled\n",
              "0                            0              0.606027\n",
              "                             1              0.393973\n",
              "1                            0              1.000000\n",
              "2                            0              1.000000\n",
              "Name: is_canceled, dtype: float64"
            ]
          },
          "metadata": {
            "tags": []
          },
          "execution_count": 36
        }
      ]
    },
    {
      "cell_type": "code",
      "metadata": {
        "id": "Vro7ApVcGeLc",
        "colab_type": "code",
        "colab": {},
        "outputId": "4ba7a06f-3dbb-470b-f63d-5d64757936f2"
      },
      "source": [
        "sns.barplot(x = 'required_car_parking_spaces',y ='is_canceled', data=train)"
      ],
      "execution_count": null,
      "outputs": [
        {
          "output_type": "execute_result",
          "data": {
            "text/plain": [
              "<matplotlib.axes._subplots.AxesSubplot at 0x2c1d323c2c8>"
            ]
          },
          "metadata": {
            "tags": []
          },
          "execution_count": 37
        },
        {
          "output_type": "display_data",
          "data": {
            "image/png": "[encoded data removed]",
            "text/plain": [
              "<Figure size 432x288 with 1 Axes>"
            ]
          },
          "metadata": {
            "tags": [],
            "needs_background": "light"
          }
        }
      ]
    },
    {
      "cell_type": "markdown",
      "metadata": {
        "id": "WkK_TfXSGeLf",
        "colab_type": "text"
      },
      "source": [
        "The only cancelations are from people that does not ask for a parking space (who are 93% of the population)\n",
        "the 7% who ask for a parking space do not cancel"
      ]
    },
    {
      "cell_type": "code",
      "metadata": {
        "id": "w2d7uUKGGeLf",
        "colab_type": "code",
        "colab": {},
        "outputId": "f7408a01-27a9-4bbb-e53d-3d9a06fb12f7"
      },
      "source": [
        "np.abs(train.corr()['required_car_parking_spaces']).sort_values(ascending=False)[1:7]"
      ],
      "execution_count": null,
      "outputs": [
        {
          "output_type": "execute_result",
          "data": {
            "text/plain": [
              "is_canceled                  0.197639\n",
              "lead_time                    0.118087\n",
              "total_of_special_requests    0.083828\n",
              "is_repeated_guest            0.076542\n",
              "booking_changes              0.065515\n",
              "children                     0.059141\n",
              "Name: required_car_parking_spaces, dtype: float64"
            ]
          },
          "metadata": {
            "tags": []
          },
          "execution_count": 38
        }
      ]
    },
    {
      "cell_type": "markdown",
      "metadata": {
        "id": "73ach_jxGeLj",
        "colab_type": "text"
      },
      "source": [
        "#### hotel"
      ]
    },
    {
      "cell_type": "code",
      "metadata": {
        "id": "99wdJKfnGeLk",
        "colab_type": "code",
        "colab": {},
        "outputId": "f1c349be-bb24-4184-de7d-8e7fdcffea83"
      },
      "source": [
        "train['hotel'].groupby(train['required_car_parking_spaces']).value_counts()"
      ],
      "execution_count": null,
      "outputs": [
        {
          "output_type": "execute_result",
          "data": {
            "text/plain": [
              "required_car_parking_spaces  hotel       \n",
              "0                            City Hotel      62020\n",
              "                             Resort Hotel    27603\n",
              "1                            Resort Hotel     4420\n",
              "                             City Hotel       1562\n",
              "2                            Resort Hotel       22\n",
              "                             City Hotel          4\n",
              "Name: hotel, dtype: int64"
            ]
          },
          "metadata": {
            "tags": []
          },
          "execution_count": 39
        }
      ]
    },
    {
      "cell_type": "code",
      "metadata": {
        "id": "w29OlWjjGeLp",
        "colab_type": "code",
        "colab": {},
        "outputId": "79d9c703-a337-46d1-f6c9-0cb66b0a412b"
      },
      "source": [
        "train['required_car_parking_spaces'].groupby(train['hotel']).value_counts(normalize=True)"
      ],
      "execution_count": null,
      "outputs": [
        {
          "output_type": "execute_result",
          "data": {
            "text/plain": [
              "hotel         required_car_parking_spaces\n",
              "City Hotel    0                              0.975372\n",
              "              1                              0.024565\n",
              "              2                              0.000063\n",
              "Resort Hotel  0                              0.861382\n",
              "              1                              0.137931\n",
              "              2                              0.000687\n",
              "Name: required_car_parking_spaces, dtype: float64"
            ]
          },
          "metadata": {
            "tags": []
          },
          "execution_count": 40
        }
      ]
    },
    {
      "cell_type": "code",
      "metadata": {
        "id": "qxiXVpVFGeLs",
        "colab_type": "code",
        "colab": {},
        "outputId": "960de359-821e-41b8-a32b-5a7b98d3f928"
      },
      "source": [
        "sns.barplot(x='required_car_parking_spaces', y='hotel', data=train)"
      ],
      "execution_count": null,
      "outputs": [
        {
          "output_type": "execute_result",
          "data": {
            "text/plain": [
              "<matplotlib.axes._subplots.AxesSubplot at 0x2c1d32e6608>"
            ]
          },
          "metadata": {
            "tags": []
          },
          "execution_count": 41
        },
        {
          "output_type": "display_data",
          "data": {
            "image/png": "[encoded data removed]",
            "text/plain": [
              "<Figure size 432x288 with 1 Axes>"
            ]
          },
          "metadata": {
            "tags": [],
            "needs_background": "light"
          }
        }
      ]
    },
    {
      "cell_type": "code",
      "metadata": {
        "id": "lzikFYjbGeLx",
        "colab_type": "code",
        "colab": {},
        "outputId": "691d2746-3c61-4f35-f8e6-d48b30ae551b"
      },
      "source": [
        "# Checking if cancelation is correlated to the type of hotel, regardless to parking spaces\n",
        "train['is_canceled'].groupby(train['hotel']).value_counts(normalize=True)"
      ],
      "execution_count": null,
      "outputs": [
        {
          "output_type": "execute_result",
          "data": {
            "text/plain": [
              "hotel         is_canceled\n",
              "City Hotel    0              0.583949\n",
              "              1              0.416051\n",
              "Resort Hotel  0              0.723701\n",
              "              1              0.276299\n",
              "Name: is_canceled, dtype: float64"
            ]
          },
          "metadata": {
            "tags": []
          },
          "execution_count": 42
        }
      ]
    },
    {
      "cell_type": "markdown",
      "metadata": {
        "id": "PcEnRR9mGeL1",
        "colab_type": "text"
      },
      "source": [
        "* Most reservations are without parking space request (94%), request of more than one parking space is rare, more than two is an outlier\n",
        "* parking space requests are more common in resorts, however it is not highly correlated\n",
        "* the 7% who ask for a parking space do not cancel the booking"
      ]
    },
    {
      "cell_type": "markdown",
      "metadata": {
        "id": "b3wVViCSGeL2",
        "colab_type": "text"
      },
      "source": [
        "### booking_changes\n",
        "Number of changes/amendments made to the booking from the moment the booking was entered on the PMS until the moment of check-in or cancellation"
      ]
    },
    {
      "cell_type": "code",
      "metadata": {
        "id": "io6tdibMGeL3",
        "colab_type": "code",
        "colab": {},
        "outputId": "2baeded3-045c-46cf-9ae4-05e9ee396400"
      },
      "source": [
        "train['booking_changes'].value_counts(normalize=True).plot(kind='bar')"
      ],
      "execution_count": null,
      "outputs": [
        {
          "output_type": "execute_result",
          "data": {
            "text/plain": [
              "<matplotlib.axes._subplots.AxesSubplot at 0x2c1d335ad88>"
            ]
          },
          "metadata": {
            "tags": []
          },
          "execution_count": 43
        },
        {
          "output_type": "display_data",
          "data": {
            "image/png": "[encoded data removed]",
            "text/plain": [
              "<Figure size 432x288 with 1 Axes>"
            ]
          },
          "metadata": {
            "tags": [],
            "needs_background": "light"
          }
        }
      ]
    },
    {
      "cell_type": "code",
      "metadata": {
        "id": "ZMnkhIPcGeL5",
        "colab_type": "code",
        "colab": {},
        "outputId": "5166b742-4f6e-4453-e3d2-2deb6e0bab5e"
      },
      "source": [
        "train['booking_changes'].value_counts(),train['booking_changes'].value_counts(normalize=True)"
      ],
      "execution_count": null,
      "outputs": [
        {
          "output_type": "execute_result",
          "data": {
            "text/plain": [
              "(0     81064\n",
              " 1     10251\n",
              " 2      3056\n",
              " 3       748\n",
              " 4       294\n",
              " 5        98\n",
              " 6        56\n",
              " 7        22\n",
              " 8        12\n",
              " 9         7\n",
              " 10        4\n",
              " 13        3\n",
              " 14        3\n",
              " 11        2\n",
              " 12        2\n",
              " 15        2\n",
              " 16        2\n",
              " 17        2\n",
              " 20        1\n",
              " 18        1\n",
              " 21        1\n",
              " Name: booking_changes, dtype: int64, 0     0.847675\n",
              " 1     0.107193\n",
              " 2     0.031956\n",
              " 3     0.007822\n",
              " 4     0.003074\n",
              " 5     0.001025\n",
              " 6     0.000586\n",
              " 7     0.000230\n",
              " 8     0.000125\n",
              " 9     0.000073\n",
              " 10    0.000042\n",
              " 13    0.000031\n",
              " 14    0.000031\n",
              " 11    0.000021\n",
              " 12    0.000021\n",
              " 15    0.000021\n",
              " 16    0.000021\n",
              " 17    0.000021\n",
              " 20    0.000010\n",
              " 18    0.000010\n",
              " 21    0.000010\n",
              " Name: booking_changes, dtype: float64)"
            ]
          },
          "metadata": {
            "tags": []
          },
          "execution_count": 44
        }
      ]
    },
    {
      "cell_type": "code",
      "metadata": {
        "id": "FmO3-XGKGeL-",
        "colab_type": "code",
        "colab": {},
        "outputId": "3a822fcc-088d-4ddc-9f5c-3f7f48d7b6dc"
      },
      "source": [
        "train.loc[train['booking_changes']>5,'booking_changes']=6\n",
        "val.loc[val['booking_changes']>5,'booking_changes']=6\n",
        "test.loc[test['booking_changes']>5,'booking_changes']=6\n",
        "train['booking_changes'].value_counts(normalize=True)"
      ],
      "execution_count": null,
      "outputs": [
        {
          "output_type": "execute_result",
          "data": {
            "text/plain": [
              "0    0.847675\n",
              "1    0.107193\n",
              "2    0.031956\n",
              "3    0.007822\n",
              "4    0.003074\n",
              "6    0.001255\n",
              "5    0.001025\n",
              "Name: booking_changes, dtype: float64"
            ]
          },
          "metadata": {
            "tags": []
          },
          "execution_count": 45
        }
      ]
    },
    {
      "cell_type": "code",
      "metadata": {
        "id": "avYeDykQGeMC",
        "colab_type": "code",
        "colab": {},
        "outputId": "a3153a21-a9f4-4d12-d337-2c1391e3e489"
      },
      "source": [
        "train['is_canceled'].groupby(train['booking_changes']).value_counts(normalize=True)\n"
      ],
      "execution_count": null,
      "outputs": [
        {
          "output_type": "execute_result",
          "data": {
            "text/plain": [
              "booking_changes  is_canceled\n",
              "0                0              0.592359\n",
              "                 1              0.407641\n",
              "1                0              0.859136\n",
              "                 1              0.140864\n",
              "2                0              0.802356\n",
              "                 1              0.197644\n",
              "3                0              0.844920\n",
              "                 1              0.155080\n",
              "4                0              0.802721\n",
              "                 1              0.197279\n",
              "5                0              0.816327\n",
              "                 1              0.183673\n",
              "6                0              0.800000\n",
              "                 1              0.200000\n",
              "Name: is_canceled, dtype: float64"
            ]
          },
          "metadata": {
            "tags": []
          },
          "execution_count": 46
        }
      ]
    },
    {
      "cell_type": "code",
      "metadata": {
        "id": "VcuubFreGeMH",
        "colab_type": "code",
        "colab": {},
        "outputId": "ae116f1a-28d9-4b9c-cd6c-32151f47e57f"
      },
      "source": [
        "sns.barplot(x='booking_changes',y='is_canceled',data=train)"
      ],
      "execution_count": null,
      "outputs": [
        {
          "output_type": "execute_result",
          "data": {
            "text/plain": [
              "<matplotlib.axes._subplots.AxesSubplot at 0x2c1d3431908>"
            ]
          },
          "metadata": {
            "tags": []
          },
          "execution_count": 47
        },
        {
          "output_type": "display_data",
          "data": {
            "image/png": "[encoded data removed]",
            "text/plain": [
              "<Figure size 432x288 with 1 Axes>"
            ]
          },
          "metadata": {
            "tags": [],
            "needs_background": "light"
          }
        }
      ]
    },
    {
      "cell_type": "markdown",
      "metadata": {
        "id": "1-NkfhjEGeMJ",
        "colab_type": "text"
      },
      "source": [
        "looks like there is no significant difference between one change and multiple changes as far as it goes to cancellation"
      ]
    },
    {
      "cell_type": "code",
      "metadata": {
        "id": "dLSH1NbtGeMK",
        "colab_type": "code",
        "colab": {},
        "outputId": "1ae632cd-4f3b-44fc-a47f-b12beb953152"
      },
      "source": [
        "train['is_change']=0\n",
        "train.loc[train['booking_changes']>0,'is_change']=1\n",
        "train[['is_change','booking_changes']][10:30]"
      ],
      "execution_count": null,
      "outputs": [
        {
          "output_type": "stream",
          "text": [
            "C:\\Users\\omrig\\Anaconda3\\lib\\site-packages\\ipykernel_launcher.py:1: SettingWithCopyWarning: \n",
            "A value is trying to be set on a copy of a slice from a DataFrame.\n",
            "Try using .loc[row_indexer,col_indexer] = value instead\n",
            "\n",
            "See the caveats in the documentation: http://pandas.pydata.org/pandas-docs/stable/user_guide/indexing.html#returning-a-view-versus-a-copy\n",
            "  \"\"\"Entry point for launching an IPython kernel.\n"
          ],
          "name": "stderr"
        },
        {
          "output_type": "execute_result",
          "data": {
            "text/html": [
              "<div>\n",
              "<style scoped>\n",
              "    .dataframe tbody tr th:only-of-type {\n",
              "        vertical-align: middle;\n",
              "    }\n",
              "\n",
              "    .dataframe tbody tr th {\n",
              "        vertical-align: top;\n",
              "    }\n",
              "\n",
              "    .dataframe thead th {\n",
              "        text-align: right;\n",
              "    }\n",
              "</style>\n",
              "<table border=\"1\" class=\"dataframe\">\n",
              "  <thead>\n",
              "    <tr style=\"text-align: right;\">\n",
              "      <th></th>\n",
              "      <th>is_change</th>\n",
              "      <th>booking_changes</th>\n",
              "    </tr>\n",
              "  </thead>\n",
              "  <tbody>\n",
              "    <tr>\n",
              "      <td>69888</td>\n",
              "      <td>0</td>\n",
              "      <td>0</td>\n",
              "    </tr>\n",
              "    <tr>\n",
              "      <td>22052</td>\n",
              "      <td>0</td>\n",
              "      <td>0</td>\n",
              "    </tr>\n",
              "    <tr>\n",
              "      <td>108102</td>\n",
              "      <td>0</td>\n",
              "      <td>0</td>\n",
              "    </tr>\n",
              "    <tr>\n",
              "      <td>62874</td>\n",
              "      <td>0</td>\n",
              "      <td>0</td>\n",
              "    </tr>\n",
              "    <tr>\n",
              "      <td>20534</td>\n",
              "      <td>1</td>\n",
              "      <td>4</td>\n",
              "    </tr>\n",
              "    <tr>\n",
              "      <td>37351</td>\n",
              "      <td>0</td>\n",
              "      <td>0</td>\n",
              "    </tr>\n",
              "    <tr>\n",
              "      <td>49907</td>\n",
              "      <td>0</td>\n",
              "      <td>0</td>\n",
              "    </tr>\n",
              "    <tr>\n",
              "      <td>70965</td>\n",
              "      <td>0</td>\n",
              "      <td>0</td>\n",
              "    </tr>\n",
              "    <tr>\n",
              "      <td>54435</td>\n",
              "      <td>0</td>\n",
              "      <td>0</td>\n",
              "    </tr>\n",
              "    <tr>\n",
              "      <td>50721</td>\n",
              "      <td>1</td>\n",
              "      <td>1</td>\n",
              "    </tr>\n",
              "    <tr>\n",
              "      <td>48487</td>\n",
              "      <td>0</td>\n",
              "      <td>0</td>\n",
              "    </tr>\n",
              "    <tr>\n",
              "      <td>42557</td>\n",
              "      <td>0</td>\n",
              "      <td>0</td>\n",
              "    </tr>\n",
              "    <tr>\n",
              "      <td>102636</td>\n",
              "      <td>0</td>\n",
              "      <td>0</td>\n",
              "    </tr>\n",
              "    <tr>\n",
              "      <td>98078</td>\n",
              "      <td>0</td>\n",
              "      <td>0</td>\n",
              "    </tr>\n",
              "    <tr>\n",
              "      <td>19980</td>\n",
              "      <td>0</td>\n",
              "      <td>0</td>\n",
              "    </tr>\n",
              "    <tr>\n",
              "      <td>50692</td>\n",
              "      <td>0</td>\n",
              "      <td>0</td>\n",
              "    </tr>\n",
              "    <tr>\n",
              "      <td>751</td>\n",
              "      <td>0</td>\n",
              "      <td>0</td>\n",
              "    </tr>\n",
              "    <tr>\n",
              "      <td>96050</td>\n",
              "      <td>0</td>\n",
              "      <td>0</td>\n",
              "    </tr>\n",
              "    <tr>\n",
              "      <td>3055</td>\n",
              "      <td>0</td>\n",
              "      <td>0</td>\n",
              "    </tr>\n",
              "    <tr>\n",
              "      <td>88440</td>\n",
              "      <td>1</td>\n",
              "      <td>2</td>\n",
              "    </tr>\n",
              "  </tbody>\n",
              "</table>\n",
              "</div>"
            ],
            "text/plain": [
              "        is_change  booking_changes\n",
              "69888           0                0\n",
              "22052           0                0\n",
              "108102          0                0\n",
              "62874           0                0\n",
              "20534           1                4\n",
              "37351           0                0\n",
              "49907           0                0\n",
              "70965           0                0\n",
              "54435           0                0\n",
              "50721           1                1\n",
              "48487           0                0\n",
              "42557           0                0\n",
              "102636          0                0\n",
              "98078           0                0\n",
              "19980           0                0\n",
              "50692           0                0\n",
              "751             0                0\n",
              "96050           0                0\n",
              "3055            0                0\n",
              "88440           1                2"
            ]
          },
          "metadata": {
            "tags": []
          },
          "execution_count": 48
        }
      ]
    },
    {
      "cell_type": "code",
      "metadata": {
        "id": "TCa-gyS4GeMO",
        "colab_type": "code",
        "colab": {},
        "outputId": "22929af5-b1b0-4105-df5c-1170bc7fc2df"
      },
      "source": [
        "train.corr()[['is_change','booking_changes']]"
      ],
      "execution_count": null,
      "outputs": [
        {
          "output_type": "execute_result",
          "data": {
            "text/html": [
              "<div>\n",
              "<style scoped>\n",
              "    .dataframe tbody tr th:only-of-type {\n",
              "        vertical-align: middle;\n",
              "    }\n",
              "\n",
              "    .dataframe tbody tr th {\n",
              "        vertical-align: top;\n",
              "    }\n",
              "\n",
              "    .dataframe thead th {\n",
              "        text-align: right;\n",
              "    }\n",
              "</style>\n",
              "<table border=\"1\" class=\"dataframe\">\n",
              "  <thead>\n",
              "    <tr style=\"text-align: right;\">\n",
              "      <th></th>\n",
              "      <th>is_change</th>\n",
              "      <th>booking_changes</th>\n",
              "    </tr>\n",
              "  </thead>\n",
              "  <tbody>\n",
              "    <tr>\n",
              "      <td>is_canceled</td>\n",
              "      <td>-0.187802</td>\n",
              "      <td>-0.151178</td>\n",
              "    </tr>\n",
              "    <tr>\n",
              "      <td>lead_time</td>\n",
              "      <td>-0.010221</td>\n",
              "      <td>0.001183</td>\n",
              "    </tr>\n",
              "    <tr>\n",
              "      <td>arrival_date_year</td>\n",
              "      <td>0.021439</td>\n",
              "      <td>0.033234</td>\n",
              "    </tr>\n",
              "    <tr>\n",
              "      <td>arrival_date_week_number</td>\n",
              "      <td>0.009226</td>\n",
              "      <td>0.008097</td>\n",
              "    </tr>\n",
              "    <tr>\n",
              "      <td>arrival_date_day_of_month</td>\n",
              "      <td>0.013376</td>\n",
              "      <td>0.011185</td>\n",
              "    </tr>\n",
              "    <tr>\n",
              "      <td>stays_in_weekend_nights</td>\n",
              "      <td>0.043972</td>\n",
              "      <td>0.058195</td>\n",
              "    </tr>\n",
              "    <tr>\n",
              "      <td>stays_in_week_nights</td>\n",
              "      <td>0.065684</td>\n",
              "      <td>0.088755</td>\n",
              "    </tr>\n",
              "    <tr>\n",
              "      <td>adults</td>\n",
              "      <td>-0.071656</td>\n",
              "      <td>-0.052302</td>\n",
              "    </tr>\n",
              "    <tr>\n",
              "      <td>children</td>\n",
              "      <td>0.054121</td>\n",
              "      <td>0.049915</td>\n",
              "    </tr>\n",
              "    <tr>\n",
              "      <td>babies</td>\n",
              "      <td>0.114892</td>\n",
              "      <td>0.094887</td>\n",
              "    </tr>\n",
              "    <tr>\n",
              "      <td>is_repeated_guest</td>\n",
              "      <td>0.018676</td>\n",
              "      <td>0.013473</td>\n",
              "    </tr>\n",
              "    <tr>\n",
              "      <td>previous_cancellations</td>\n",
              "      <td>-0.031558</td>\n",
              "      <td>-0.028185</td>\n",
              "    </tr>\n",
              "    <tr>\n",
              "      <td>previous_bookings_not_canceled</td>\n",
              "      <td>0.019037</td>\n",
              "      <td>0.011990</td>\n",
              "    </tr>\n",
              "    <tr>\n",
              "      <td>booking_changes</td>\n",
              "      <td>0.843170</td>\n",
              "      <td>1.000000</td>\n",
              "    </tr>\n",
              "    <tr>\n",
              "      <td>days_in_waiting_list</td>\n",
              "      <td>-0.011791</td>\n",
              "      <td>-0.012959</td>\n",
              "    </tr>\n",
              "    <tr>\n",
              "      <td>adr</td>\n",
              "      <td>0.021620</td>\n",
              "      <td>0.023639</td>\n",
              "    </tr>\n",
              "    <tr>\n",
              "      <td>required_car_parking_spaces</td>\n",
              "      <td>0.073733</td>\n",
              "      <td>0.070223</td>\n",
              "    </tr>\n",
              "    <tr>\n",
              "      <td>total_of_special_requests</td>\n",
              "      <td>0.048683</td>\n",
              "      <td>0.056926</td>\n",
              "    </tr>\n",
              "    <tr>\n",
              "      <td>is_change</td>\n",
              "      <td>1.000000</td>\n",
              "      <td>0.843170</td>\n",
              "    </tr>\n",
              "  </tbody>\n",
              "</table>\n",
              "</div>"
            ],
            "text/plain": [
              "                                is_change  booking_changes\n",
              "is_canceled                     -0.187802        -0.151178\n",
              "lead_time                       -0.010221         0.001183\n",
              "arrival_date_year                0.021439         0.033234\n",
              "arrival_date_week_number         0.009226         0.008097\n",
              "arrival_date_day_of_month        0.013376         0.011185\n",
              "stays_in_weekend_nights          0.043972         0.058195\n",
              "stays_in_week_nights             0.065684         0.088755\n",
              "adults                          -0.071656        -0.052302\n",
              "children                         0.054121         0.049915\n",
              "babies                           0.114892         0.094887\n",
              "is_repeated_guest                0.018676         0.013473\n",
              "previous_cancellations          -0.031558        -0.028185\n",
              "previous_bookings_not_canceled   0.019037         0.011990\n",
              "booking_changes                  0.843170         1.000000\n",
              "days_in_waiting_list            -0.011791        -0.012959\n",
              "adr                              0.021620         0.023639\n",
              "required_car_parking_spaces      0.073733         0.070223\n",
              "total_of_special_requests        0.048683         0.056926\n",
              "is_change                        1.000000         0.843170"
            ]
          },
          "metadata": {
            "tags": []
          },
          "execution_count": 49
        }
      ]
    },
    {
      "cell_type": "code",
      "metadata": {
        "id": "V7koBLyrGeMS",
        "colab_type": "code",
        "colab": {},
        "outputId": "f03fedec-a40f-42af-fd54-9fc88d34b28d"
      },
      "source": [
        "np.abs(train.corr()['is_change']-train.corr()['booking_changes']).sort_values(ascending=False)[2:]"
      ],
      "execution_count": null,
      "outputs": [
        {
          "output_type": "execute_result",
          "data": {
            "text/plain": [
              "is_canceled                       0.036624\n",
              "stays_in_week_nights              0.023070\n",
              "babies                            0.020005\n",
              "adults                            0.019354\n",
              "stays_in_weekend_nights           0.014223\n",
              "arrival_date_year                 0.011795\n",
              "lead_time                         0.011405\n",
              "total_of_special_requests         0.008243\n",
              "previous_bookings_not_canceled    0.007046\n",
              "is_repeated_guest                 0.005204\n",
              "children                          0.004205\n",
              "required_car_parking_spaces       0.003510\n",
              "previous_cancellations            0.003374\n",
              "arrival_date_day_of_month         0.002191\n",
              "adr                               0.002019\n",
              "days_in_waiting_list              0.001167\n",
              "arrival_date_week_number          0.001129\n",
              "dtype: float64"
            ]
          },
          "metadata": {
            "tags": []
          },
          "execution_count": 50
        }
      ]
    },
    {
      "cell_type": "markdown",
      "metadata": {
        "id": "c1EZUt55GeMW",
        "colab_type": "text"
      },
      "source": [
        "Is_change is not very diffrent from booking_changes, however it is more correlated to cancelation and babies/adults and less correlated to stays_in_week_nights. It is worth while to check the correlation between adults/babies to week nights/weekend nights"
      ]
    },
    {
      "cell_type": "code",
      "metadata": {
        "id": "bJLzkKhnGeMW",
        "colab_type": "code",
        "colab": {},
        "outputId": "42bee62a-6f2f-41ec-d2da-d8f678398fdf"
      },
      "source": [
        "# Replace booking_changes by is_change and apply changes to validation and test sets\n",
        "val['is_change']=0\n",
        "test['is_change']=0\n",
        "val.loc[val['booking_changes']>0,'is_change']=1\n",
        "test.loc[test['booking_changes']>0,'is_change']=1\n",
        "\n",
        "train = train.drop('booking_changes',axis=1)\n",
        "val = val.drop('booking_changes',axis=1)\n",
        "test = test.drop('booking_changes',axis=1)\n",
        "\n",
        "train.head()"
      ],
      "execution_count": null,
      "outputs": [
        {
          "output_type": "stream",
          "text": [
            "C:\\Users\\omrig\\Anaconda3\\lib\\site-packages\\ipykernel_launcher.py:2: SettingWithCopyWarning: \n",
            "A value is trying to be set on a copy of a slice from a DataFrame.\n",
            "Try using .loc[row_indexer,col_indexer] = value instead\n",
            "\n",
            "See the caveats in the documentation: http://pandas.pydata.org/pandas-docs/stable/user_guide/indexing.html#returning-a-view-versus-a-copy\n",
            "  \n",
            "C:\\Users\\omrig\\Anaconda3\\lib\\site-packages\\ipykernel_launcher.py:3: SettingWithCopyWarning: \n",
            "A value is trying to be set on a copy of a slice from a DataFrame.\n",
            "Try using .loc[row_indexer,col_indexer] = value instead\n",
            "\n",
            "See the caveats in the documentation: http://pandas.pydata.org/pandas-docs/stable/user_guide/indexing.html#returning-a-view-versus-a-copy\n",
            "  This is separate from the ipykernel package so we can avoid doing imports until\n"
          ],
          "name": "stderr"
        },
        {
          "output_type": "execute_result",
          "data": {
            "text/html": [
              "<div>\n",
              "<style scoped>\n",
              "    .dataframe tbody tr th:only-of-type {\n",
              "        vertical-align: middle;\n",
              "    }\n",
              "\n",
              "    .dataframe tbody tr th {\n",
              "        vertical-align: top;\n",
              "    }\n",
              "\n",
              "    .dataframe thead th {\n",
              "        text-align: right;\n",
              "    }\n",
              "</style>\n",
              "<table border=\"1\" class=\"dataframe\">\n",
              "  <thead>\n",
              "    <tr style=\"text-align: right;\">\n",
              "      <th></th>\n",
              "      <th>hotel</th>\n",
              "      <th>is_canceled</th>\n",
              "      <th>lead_time</th>\n",
              "      <th>arrival_date_year</th>\n",
              "      <th>arrival_date_month</th>\n",
              "      <th>arrival_date_week_number</th>\n",
              "      <th>arrival_date_day_of_month</th>\n",
              "      <th>stays_in_weekend_nights</th>\n",
              "      <th>stays_in_week_nights</th>\n",
              "      <th>adults</th>\n",
              "      <th>...</th>\n",
              "      <th>assigned_room_type</th>\n",
              "      <th>deposit_type</th>\n",
              "      <th>days_in_waiting_list</th>\n",
              "      <th>customer_type</th>\n",
              "      <th>adr</th>\n",
              "      <th>required_car_parking_spaces</th>\n",
              "      <th>total_of_special_requests</th>\n",
              "      <th>reservation_status</th>\n",
              "      <th>reservation_status_date</th>\n",
              "      <th>is_change</th>\n",
              "    </tr>\n",
              "  </thead>\n",
              "  <tbody>\n",
              "    <tr>\n",
              "      <td>17776</td>\n",
              "      <td>Resort Hotel</td>\n",
              "      <td>0</td>\n",
              "      <td>11</td>\n",
              "      <td>2015</td>\n",
              "      <td>October</td>\n",
              "      <td>42</td>\n",
              "      <td>14</td>\n",
              "      <td>2</td>\n",
              "      <td>5</td>\n",
              "      <td>2</td>\n",
              "      <td>...</td>\n",
              "      <td>E</td>\n",
              "      <td>No Deposit</td>\n",
              "      <td>0</td>\n",
              "      <td>Transient</td>\n",
              "      <td>116.71</td>\n",
              "      <td>1</td>\n",
              "      <td>3</td>\n",
              "      <td>Check-Out</td>\n",
              "      <td>2015-10-21</td>\n",
              "      <td>0</td>\n",
              "    </tr>\n",
              "    <tr>\n",
              "      <td>44109</td>\n",
              "      <td>City Hotel</td>\n",
              "      <td>1</td>\n",
              "      <td>30</td>\n",
              "      <td>2015</td>\n",
              "      <td>September</td>\n",
              "      <td>40</td>\n",
              "      <td>30</td>\n",
              "      <td>0</td>\n",
              "      <td>2</td>\n",
              "      <td>2</td>\n",
              "      <td>...</td>\n",
              "      <td>A</td>\n",
              "      <td>Non Refund</td>\n",
              "      <td>0</td>\n",
              "      <td>Transient</td>\n",
              "      <td>121.00</td>\n",
              "      <td>0</td>\n",
              "      <td>0</td>\n",
              "      <td>Canceled</td>\n",
              "      <td>2015-09-15</td>\n",
              "      <td>0</td>\n",
              "    </tr>\n",
              "    <tr>\n",
              "      <td>77071</td>\n",
              "      <td>City Hotel</td>\n",
              "      <td>0</td>\n",
              "      <td>219</td>\n",
              "      <td>2015</td>\n",
              "      <td>September</td>\n",
              "      <td>36</td>\n",
              "      <td>4</td>\n",
              "      <td>0</td>\n",
              "      <td>1</td>\n",
              "      <td>2</td>\n",
              "      <td>...</td>\n",
              "      <td>A</td>\n",
              "      <td>No Deposit</td>\n",
              "      <td>0</td>\n",
              "      <td>Transient-Party</td>\n",
              "      <td>108.00</td>\n",
              "      <td>0</td>\n",
              "      <td>0</td>\n",
              "      <td>Check-Out</td>\n",
              "      <td>2015-09-05</td>\n",
              "      <td>0</td>\n",
              "    </tr>\n",
              "    <tr>\n",
              "      <td>76770</td>\n",
              "      <td>City Hotel</td>\n",
              "      <td>1</td>\n",
              "      <td>395</td>\n",
              "      <td>2016</td>\n",
              "      <td>March</td>\n",
              "      <td>13</td>\n",
              "      <td>21</td>\n",
              "      <td>1</td>\n",
              "      <td>2</td>\n",
              "      <td>2</td>\n",
              "      <td>...</td>\n",
              "      <td>A</td>\n",
              "      <td>Non Refund</td>\n",
              "      <td>0</td>\n",
              "      <td>Transient</td>\n",
              "      <td>62.80</td>\n",
              "      <td>0</td>\n",
              "      <td>0</td>\n",
              "      <td>Canceled</td>\n",
              "      <td>2015-08-10</td>\n",
              "      <td>0</td>\n",
              "    </tr>\n",
              "    <tr>\n",
              "      <td>58274</td>\n",
              "      <td>City Hotel</td>\n",
              "      <td>1</td>\n",
              "      <td>42</td>\n",
              "      <td>2016</td>\n",
              "      <td>October</td>\n",
              "      <td>42</td>\n",
              "      <td>10</td>\n",
              "      <td>1</td>\n",
              "      <td>0</td>\n",
              "      <td>2</td>\n",
              "      <td>...</td>\n",
              "      <td>A</td>\n",
              "      <td>No Deposit</td>\n",
              "      <td>0</td>\n",
              "      <td>Transient</td>\n",
              "      <td>126.00</td>\n",
              "      <td>0</td>\n",
              "      <td>1</td>\n",
              "      <td>Canceled</td>\n",
              "      <td>2016-10-09</td>\n",
              "      <td>0</td>\n",
              "    </tr>\n",
              "  </tbody>\n",
              "</table>\n",
              "<p>5 rows × 29 columns</p>\n",
              "</div>"
            ],
            "text/plain": [
              "              hotel  is_canceled  lead_time  arrival_date_year  \\\n",
              "17776  Resort Hotel            0         11               2015   \n",
              "44109    City Hotel            1         30               2015   \n",
              "77071    City Hotel            0        219               2015   \n",
              "76770    City Hotel            1        395               2016   \n",
              "58274    City Hotel            1         42               2016   \n",
              "\n",
              "      arrival_date_month  arrival_date_week_number  arrival_date_day_of_month  \\\n",
              "17776            October                        42                         14   \n",
              "44109          September                        40                         30   \n",
              "77071          September                        36                          4   \n",
              "76770              March                        13                         21   \n",
              "58274            October                        42                         10   \n",
              "\n",
              "       stays_in_weekend_nights  stays_in_week_nights  adults  ...  \\\n",
              "17776                        2                     5       2  ...   \n",
              "44109                        0                     2       2  ...   \n",
              "77071                        0                     1       2  ...   \n",
              "76770                        1                     2       2  ...   \n",
              "58274                        1                     0       2  ...   \n",
              "\n",
              "       assigned_room_type  deposit_type days_in_waiting_list    customer_type  \\\n",
              "17776                   E    No Deposit                    0        Transient   \n",
              "44109                   A    Non Refund                    0        Transient   \n",
              "77071                   A    No Deposit                    0  Transient-Party   \n",
              "76770                   A    Non Refund                    0        Transient   \n",
              "58274                   A    No Deposit                    0        Transient   \n",
              "\n",
              "          adr  required_car_parking_spaces  total_of_special_requests  \\\n",
              "17776  116.71                            1                          3   \n",
              "44109  121.00                            0                          0   \n",
              "77071  108.00                            0                          0   \n",
              "76770   62.80                            0                          0   \n",
              "58274  126.00                            0                          1   \n",
              "\n",
              "       reservation_status reservation_status_date is_change  \n",
              "17776           Check-Out              2015-10-21         0  \n",
              "44109            Canceled              2015-09-15         0  \n",
              "77071           Check-Out              2015-09-05         0  \n",
              "76770            Canceled              2015-08-10         0  \n",
              "58274            Canceled              2016-10-09         0  \n",
              "\n",
              "[5 rows x 29 columns]"
            ]
          },
          "metadata": {
            "tags": []
          },
          "execution_count": 51
        }
      ]
    },
    {
      "cell_type": "code",
      "metadata": {
        "id": "7vcO9APZGeMa",
        "colab_type": "code",
        "colab": {},
        "outputId": "4645cd87-685e-481b-e033-a02a89ae4593"
      },
      "source": [
        "train.corr()['is_change'].sort_values(ascending=False)[1:7]"
      ],
      "execution_count": null,
      "outputs": [
        {
          "output_type": "execute_result",
          "data": {
            "text/plain": [
              "babies                         0.114892\n",
              "required_car_parking_spaces    0.073733\n",
              "stays_in_week_nights           0.065684\n",
              "children                       0.054121\n",
              "total_of_special_requests      0.048683\n",
              "stays_in_weekend_nights        0.043972\n",
              "Name: is_change, dtype: float64"
            ]
          },
          "metadata": {
            "tags": []
          },
          "execution_count": 52
        }
      ]
    },
    {
      "cell_type": "code",
      "metadata": {
        "id": "mOfUE5y9GeMg",
        "colab_type": "code",
        "colab": {},
        "outputId": "773a9f44-0e1d-4bf3-ef09-444f6de3962e"
      },
      "source": [
        "train.corr()['is_change'].sort_values(ascending=True)[:7]"
      ],
      "execution_count": null,
      "outputs": [
        {
          "output_type": "execute_result",
          "data": {
            "text/plain": [
              "is_canceled                 -0.187802\n",
              "adults                      -0.071656\n",
              "previous_cancellations      -0.031558\n",
              "days_in_waiting_list        -0.011791\n",
              "lead_time                   -0.010221\n",
              "arrival_date_week_number     0.009226\n",
              "arrival_date_day_of_month    0.013376\n",
              "Name: is_change, dtype: float64"
            ]
          },
          "metadata": {
            "tags": []
          },
          "execution_count": 53
        }
      ]
    },
    {
      "cell_type": "markdown",
      "metadata": {
        "id": "MXIY-8DZGeMl",
        "colab_type": "text"
      },
      "source": [
        "changes are slightly correlated to babies/car_space and children and negatively correlated to cancelations and adults\n",
        "It is worth analyzing if changes without children and babies are different from other cancelations"
      ]
    },
    {
      "cell_type": "code",
      "metadata": {
        "id": "bArKVV18GeMm",
        "colab_type": "code",
        "colab": {},
        "outputId": "0645afdd-3b39-4f2e-ea85-308b4cd8c127"
      },
      "source": [
        "train.pivot_table(index='is_change', columns='babies',values='is_canceled')"
      ],
      "execution_count": null,
      "outputs": [
        {
          "output_type": "execute_result",
          "data": {
            "text/html": [
              "<div>\n",
              "<style scoped>\n",
              "    .dataframe tbody tr th:only-of-type {\n",
              "        vertical-align: middle;\n",
              "    }\n",
              "\n",
              "    .dataframe tbody tr th {\n",
              "        vertical-align: top;\n",
              "    }\n",
              "\n",
              "    .dataframe thead th {\n",
              "        text-align: right;\n",
              "    }\n",
              "</style>\n",
              "<table border=\"1\" class=\"dataframe\">\n",
              "  <thead>\n",
              "    <tr style=\"text-align: right;\">\n",
              "      <th>babies</th>\n",
              "      <th>0</th>\n",
              "      <th>1</th>\n",
              "      <th>2</th>\n",
              "    </tr>\n",
              "    <tr>\n",
              "      <th>is_change</th>\n",
              "      <th></th>\n",
              "      <th></th>\n",
              "      <th></th>\n",
              "    </tr>\n",
              "  </thead>\n",
              "  <tbody>\n",
              "    <tr>\n",
              "      <td>0</td>\n",
              "      <td>0.408294</td>\n",
              "      <td>0.218182</td>\n",
              "      <td>0.250000</td>\n",
              "    </tr>\n",
              "    <tr>\n",
              "      <td>1</td>\n",
              "      <td>0.155537</td>\n",
              "      <td>0.151982</td>\n",
              "      <td>0.142857</td>\n",
              "    </tr>\n",
              "  </tbody>\n",
              "</table>\n",
              "</div>"
            ],
            "text/plain": [
              "babies            0         1         2\n",
              "is_change                              \n",
              "0          0.408294  0.218182  0.250000\n",
              "1          0.155537  0.151982  0.142857"
            ]
          },
          "metadata": {
            "tags": []
          },
          "execution_count": 54
        }
      ]
    },
    {
      "cell_type": "markdown",
      "metadata": {
        "id": "9yZribQmGeMo",
        "colab_type": "text"
      },
      "source": [
        "Focusing on the population that makes changes, it does not matter if they have babies or not"
      ]
    },
    {
      "cell_type": "markdown",
      "metadata": {
        "id": "6bhe0qdLGeMo",
        "colab_type": "text"
      },
      "source": [
        "### previous_cancellations\n",
        "Number of previous bookings that were cancelled by the customer prior to the current booking"
      ]
    },
    {
      "cell_type": "code",
      "metadata": {
        "id": "Bs5xK-L8GeMp",
        "colab_type": "code",
        "colab": {},
        "outputId": "45585569-0c92-4b6f-ae08-15a768a75b67"
      },
      "source": [
        "train['previous_cancellations'].value_counts().sort_index()"
      ],
      "execution_count": null,
      "outputs": [
        {
          "output_type": "execute_result",
          "data": {
            "text/plain": [
              "0     90458\n",
              "1      4816\n",
              "2        98\n",
              "3        51\n",
              "4        27\n",
              "5        15\n",
              "6        20\n",
              "11       26\n",
              "13       10\n",
              "14       13\n",
              "19       15\n",
              "21        1\n",
              "24       43\n",
              "25       19\n",
              "26       19\n",
              "Name: previous_cancellations, dtype: int64"
            ]
          },
          "metadata": {
            "tags": []
          },
          "execution_count": 55
        }
      ]
    },
    {
      "cell_type": "code",
      "metadata": {
        "id": "sACmY-GJGeMs",
        "colab_type": "code",
        "colab": {},
        "outputId": "33aae150-dada-4a15-973b-1ed5bdde6d18"
      },
      "source": [
        "train['previous_cancellations'].value_counts().sort_index()[2:].plot()"
      ],
      "execution_count": null,
      "outputs": [
        {
          "output_type": "execute_result",
          "data": {
            "text/plain": [
              "<matplotlib.axes._subplots.AxesSubplot at 0x2c1d3406a88>"
            ]
          },
          "metadata": {
            "tags": []
          },
          "execution_count": 56
        },
        {
          "output_type": "display_data",
          "data": {
            "image/png": "[encoded data removed]",
            "text/plain": [
              "<Figure size 432x288 with 1 Axes>"
            ]
          },
          "metadata": {
            "tags": [],
            "needs_background": "light"
          }
        }
      ]
    },
    {
      "cell_type": "code",
      "metadata": {
        "id": "cFtVNw_DGeMx",
        "colab_type": "code",
        "colab": {},
        "outputId": "4abb39f5-fdf8-41df-a817-abec851aa3a9"
      },
      "source": [
        "train['previous_cancellations'].value_counts().sort_index()[3:].plot(kind='bar')"
      ],
      "execution_count": null,
      "outputs": [
        {
          "output_type": "execute_result",
          "data": {
            "text/plain": [
              "<matplotlib.axes._subplots.AxesSubplot at 0x2c1cba4d588>"
            ]
          },
          "metadata": {
            "tags": []
          },
          "execution_count": 57
        },
        {
          "output_type": "display_data",
          "data": {
            "image/png": "[encoded data removed]",
            "text/plain": [
              "<Figure size 432x288 with 1 Axes>"
            ]
          },
          "metadata": {
            "tags": [],
            "needs_background": "light"
          }
        }
      ]
    },
    {
      "cell_type": "code",
      "metadata": {
        "id": "GpPO8O19GeM0",
        "colab_type": "code",
        "colab": {},
        "outputId": "5d647e90-77c6-426f-c190-12f2471e5a6b"
      },
      "source": [
        "prc = train['previous_cancellations']\n",
        "sns.barplot(x='previous_cancellations',y='is_canceled',data=train)"
      ],
      "execution_count": null,
      "outputs": [
        {
          "output_type": "execute_result",
          "data": {
            "text/plain": [
              "<matplotlib.axes._subplots.AxesSubplot at 0x2c1cbaca548>"
            ]
          },
          "metadata": {
            "tags": []
          },
          "execution_count": 58
        },
        {
          "output_type": "display_data",
          "data": {
            "image/png": "[encoded data removed]",
            "text/plain": [
              "<Figure size 432x288 with 1 Axes>"
            ]
          },
          "metadata": {
            "tags": [],
            "needs_background": "light"
          }
        }
      ]
    },
    {
      "cell_type": "markdown",
      "metadata": {
        "id": "TE95YSkMGeM4",
        "colab_type": "text"
      },
      "source": [
        "It is clear that cancelation is varying with previous_cancellations in a non-monotonic manner, it can be categorized into 4 populations: \n",
        "* 0 : with ~30% cancelations\n",
        "* 1 : with ~90% cancelations! \n",
        "* 2 - 11 : with higly varying cancelations of 10%-50%\n",
        "* more than 12 : with 100% cancelations\n",
        "\n",
        "We can categorize the data accordingly all to a new scale of categories: 0,1,2,3, however the data is too small and the distribtion does not make a lot of sense. It appears that other parameter may be involved.\n",
        "We can engineer the features in a way they will make more sense by checking correlation with other features"
      ]
    },
    {
      "cell_type": "code",
      "metadata": {
        "id": "MaJihxqWGeM5",
        "colab_type": "code",
        "colab": {},
        "outputId": "d82334fc-82c0-403f-adef-d19c6469cceb"
      },
      "source": [
        "np.abs(train.corr()['previous_cancellations']).sort_values(ascending=False)[1:]"
      ],
      "execution_count": null,
      "outputs": [
        {
          "output_type": "execute_result",
          "data": {
            "text/plain": [
              "previous_bookings_not_canceled    0.153742\n",
              "arrival_date_year                 0.119770\n",
              "is_canceled                       0.110444\n",
              "lead_time                         0.085560\n",
              "is_repeated_guest                 0.081881\n",
              "adr                               0.065349\n",
              "total_of_special_requests         0.048272\n",
              "arrival_date_week_number          0.035267\n",
              "is_change                         0.031558\n",
              "arrival_date_day_of_month         0.027001\n",
              "children                          0.024284\n",
              "required_car_parking_spaces       0.019343\n",
              "stays_in_weekend_nights           0.012344\n",
              "stays_in_week_nights              0.012096\n",
              "babies                            0.007928\n",
              "adults                            0.006511\n",
              "days_in_waiting_list              0.005593\n",
              "Name: previous_cancellations, dtype: float64"
            ]
          },
          "metadata": {
            "tags": []
          },
          "execution_count": 59
        }
      ]
    },
    {
      "cell_type": "code",
      "metadata": {
        "id": "so0DwaxsGeM7",
        "colab_type": "code",
        "colab": {},
        "outputId": "f58271f9-c797-49e2-cde2-ae0f53b13ea3"
      },
      "source": [
        "train['previous_bookings_not_canceled'].value_counts()"
      ],
      "execution_count": null,
      "outputs": [
        {
          "output_type": "execute_result",
          "data": {
            "text/plain": [
              "0     92682\n",
              "1      1252\n",
              "2       478\n",
              "3       276\n",
              "4       182\n",
              "      ...  \n",
              "35        1\n",
              "34        1\n",
              "33        1\n",
              "62        1\n",
              "63        1\n",
              "Name: previous_bookings_not_canceled, Length: 62, dtype: int64"
            ]
          },
          "metadata": {
            "tags": []
          },
          "execution_count": 60
        }
      ]
    },
    {
      "cell_type": "code",
      "metadata": {
        "id": "pLmmEZQoGeM-",
        "colab_type": "code",
        "colab": {},
        "outputId": "782a716c-edd1-47a9-8d23-a18d0cdf825e"
      },
      "source": [
        "# we will create a new feature of the cancelation percentage\n",
        "total_canc = train['previous_bookings_not_canceled'] + train['previous_cancellations']\n",
        "train['previous_cancellation_per'] =  train['previous_cancellations'].div(total_canc)\n",
        "train['previous_cancellation_per'] = train['previous_cancellation_per'].fillna(0)\n",
        "train[['previous_cancellations','previous_bookings_not_canceled','previous_cancellation_per']]"
      ],
      "execution_count": null,
      "outputs": [
        {
          "output_type": "execute_result",
          "data": {
            "text/html": [
              "<div>\n",
              "<style scoped>\n",
              "    .dataframe tbody tr th:only-of-type {\n",
              "        vertical-align: middle;\n",
              "    }\n",
              "\n",
              "    .dataframe tbody tr th {\n",
              "        vertical-align: top;\n",
              "    }\n",
              "\n",
              "    .dataframe thead th {\n",
              "        text-align: right;\n",
              "    }\n",
              "</style>\n",
              "<table border=\"1\" class=\"dataframe\">\n",
              "  <thead>\n",
              "    <tr style=\"text-align: right;\">\n",
              "      <th></th>\n",
              "      <th>previous_cancellations</th>\n",
              "      <th>previous_bookings_not_canceled</th>\n",
              "      <th>previous_cancellation_per</th>\n",
              "    </tr>\n",
              "  </thead>\n",
              "  <tbody>\n",
              "    <tr>\n",
              "      <td>17776</td>\n",
              "      <td>0</td>\n",
              "      <td>0</td>\n",
              "      <td>0.0</td>\n",
              "    </tr>\n",
              "    <tr>\n",
              "      <td>44109</td>\n",
              "      <td>0</td>\n",
              "      <td>0</td>\n",
              "      <td>0.0</td>\n",
              "    </tr>\n",
              "    <tr>\n",
              "      <td>77071</td>\n",
              "      <td>0</td>\n",
              "      <td>0</td>\n",
              "      <td>0.0</td>\n",
              "    </tr>\n",
              "    <tr>\n",
              "      <td>76770</td>\n",
              "      <td>1</td>\n",
              "      <td>0</td>\n",
              "      <td>1.0</td>\n",
              "    </tr>\n",
              "    <tr>\n",
              "      <td>58274</td>\n",
              "      <td>0</td>\n",
              "      <td>0</td>\n",
              "      <td>0.0</td>\n",
              "    </tr>\n",
              "    <tr>\n",
              "      <td>...</td>\n",
              "      <td>...</td>\n",
              "      <td>...</td>\n",
              "      <td>...</td>\n",
              "    </tr>\n",
              "    <tr>\n",
              "      <td>69605</td>\n",
              "      <td>0</td>\n",
              "      <td>0</td>\n",
              "      <td>0.0</td>\n",
              "    </tr>\n",
              "    <tr>\n",
              "      <td>60772</td>\n",
              "      <td>0</td>\n",
              "      <td>0</td>\n",
              "      <td>0.0</td>\n",
              "    </tr>\n",
              "    <tr>\n",
              "      <td>1898</td>\n",
              "      <td>0</td>\n",
              "      <td>0</td>\n",
              "      <td>0.0</td>\n",
              "    </tr>\n",
              "    <tr>\n",
              "      <td>74743</td>\n",
              "      <td>1</td>\n",
              "      <td>0</td>\n",
              "      <td>1.0</td>\n",
              "    </tr>\n",
              "    <tr>\n",
              "      <td>82769</td>\n",
              "      <td>1</td>\n",
              "      <td>0</td>\n",
              "      <td>1.0</td>\n",
              "    </tr>\n",
              "  </tbody>\n",
              "</table>\n",
              "<p>95631 rows × 3 columns</p>\n",
              "</div>"
            ],
            "text/plain": [
              "       previous_cancellations  previous_bookings_not_canceled  \\\n",
              "17776                       0                               0   \n",
              "44109                       0                               0   \n",
              "77071                       0                               0   \n",
              "76770                       1                               0   \n",
              "58274                       0                               0   \n",
              "...                       ...                             ...   \n",
              "69605                       0                               0   \n",
              "60772                       0                               0   \n",
              "1898                        0                               0   \n",
              "74743                       1                               0   \n",
              "82769                       1                               0   \n",
              "\n",
              "       previous_cancellation_per  \n",
              "17776                        0.0  \n",
              "44109                        0.0  \n",
              "77071                        0.0  \n",
              "76770                        1.0  \n",
              "58274                        0.0  \n",
              "...                          ...  \n",
              "69605                        0.0  \n",
              "60772                        0.0  \n",
              "1898                         0.0  \n",
              "74743                        1.0  \n",
              "82769                        1.0  \n",
              "\n",
              "[95631 rows x 3 columns]"
            ]
          },
          "metadata": {
            "tags": []
          },
          "execution_count": 61
        }
      ]
    },
    {
      "cell_type": "code",
      "metadata": {
        "id": "ml7wEQtnGeNA",
        "colab_type": "code",
        "colab": {},
        "outputId": "c770da57-4b77-4575-8f8b-e9b28ec6d73f"
      },
      "source": [
        "train['previous_cancellation_per'].value_counts()"
      ],
      "execution_count": null,
      "outputs": [
        {
          "output_type": "execute_result",
          "data": {
            "text/plain": [
              "0.000000    90458\n",
              "1.000000     4641\n",
              "0.500000       53\n",
              "0.250000       41\n",
              "0.166667       39\n",
              "            ...  \n",
              "0.129032        1\n",
              "0.555556        1\n",
              "0.063830        1\n",
              "0.407407        1\n",
              "0.214286        1\n",
              "Name: previous_cancellation_per, Length: 99, dtype: int64"
            ]
          },
          "metadata": {
            "tags": []
          },
          "execution_count": 62
        }
      ]
    },
    {
      "cell_type": "code",
      "metadata": {
        "id": "F6PCfhLoGeNC",
        "colab_type": "code",
        "colab": {},
        "outputId": "bfd74cbb-15c3-4be0-997b-6f4d668e3c87"
      },
      "source": [
        "bins = [-1,0,0.5,1]\n",
        "train['previous_cancellation_per'] =  pd.cut(train['previous_cancellation_per'], bins, labels = [0,1,2])\n",
        "sns.barplot(x='previous_cancellation_per',y='is_canceled',data=train)"
      ],
      "execution_count": null,
      "outputs": [
        {
          "output_type": "execute_result",
          "data": {
            "text/plain": [
              "<matplotlib.axes._subplots.AxesSubplot at 0x2c1d16bf608>"
            ]
          },
          "metadata": {
            "tags": []
          },
          "execution_count": 63
        },
        {
          "output_type": "display_data",
          "data": {
            "image/png": "[encoded data removed]",
            "text/plain": [
              "<Figure size 432x288 with 1 Axes>"
            ]
          },
          "metadata": {
            "tags": [],
            "needs_background": "light"
          }
        }
      ]
    },
    {
      "cell_type": "code",
      "metadata": {
        "id": "FL1zu3QTGeNE",
        "colab_type": "code",
        "colab": {},
        "outputId": "71dc250d-936c-4029-938a-dc9531edf2a9"
      },
      "source": [
        "train['previous_cancellation_per'] = train['previous_cancellation_per'].astype('int64')\n",
        "train.info()"
      ],
      "execution_count": null,
      "outputs": [
        {
          "output_type": "stream",
          "text": [
            "<class 'pandas.core.frame.DataFrame'>\n",
            "Int64Index: 95631 entries, 17776 to 82769\n",
            "Data columns (total 30 columns):\n",
            "hotel                             95631 non-null object\n",
            "is_canceled                       95631 non-null int64\n",
            "lead_time                         95631 non-null int64\n",
            "arrival_date_year                 95631 non-null int64\n",
            "arrival_date_month                95631 non-null object\n",
            "arrival_date_week_number          95631 non-null int64\n",
            "arrival_date_day_of_month         95631 non-null int64\n",
            "stays_in_weekend_nights           95631 non-null int64\n",
            "stays_in_week_nights              95631 non-null int64\n",
            "adults                            95631 non-null int64\n",
            "children                          95627 non-null float64\n",
            "babies                            95631 non-null int64\n",
            "meal                              95631 non-null object\n",
            "market_segment                    95631 non-null object\n",
            "distribution_channel              95631 non-null object\n",
            "is_repeated_guest                 95631 non-null int64\n",
            "previous_cancellations            95631 non-null int64\n",
            "previous_bookings_not_canceled    95631 non-null int64\n",
            "reserved_room_type                95631 non-null object\n",
            "assigned_room_type                95631 non-null object\n",
            "deposit_type                      95631 non-null object\n",
            "days_in_waiting_list              95631 non-null int64\n",
            "customer_type                     95631 non-null object\n",
            "adr                               95631 non-null float64\n",
            "required_car_parking_spaces       95631 non-null int64\n",
            "total_of_special_requests         95631 non-null int64\n",
            "reservation_status                95631 non-null object\n",
            "reservation_status_date           95631 non-null object\n",
            "is_change                         95631 non-null int64\n",
            "previous_cancellation_per         95631 non-null int64\n",
            "dtypes: float64(2), int64(17), object(11)\n",
            "memory usage: 25.1+ MB\n"
          ],
          "name": "stdout"
        }
      ]
    },
    {
      "cell_type": "code",
      "metadata": {
        "id": "GkYORc6rGeNG",
        "colab_type": "code",
        "colab": {},
        "outputId": "985c5642-7e78-458f-e189-07a52d0a292c"
      },
      "source": [
        "np.abs(train.corr()[['previous_cancellation_per','previous_cancellations']]).sort_values(ascending=False,by='previous_cancellation_per')\n",
        "train[['previous_cancellation_per','previous_cancellations','previous_bookings_not_canceled','is_canceled']].corr()"
      ],
      "execution_count": null,
      "outputs": [
        {
          "output_type": "execute_result",
          "data": {
            "text/html": [
              "<div>\n",
              "<style scoped>\n",
              "    .dataframe tbody tr th:only-of-type {\n",
              "        vertical-align: middle;\n",
              "    }\n",
              "\n",
              "    .dataframe tbody tr th {\n",
              "        vertical-align: top;\n",
              "    }\n",
              "\n",
              "    .dataframe thead th {\n",
              "        text-align: right;\n",
              "    }\n",
              "</style>\n",
              "<table border=\"1\" class=\"dataframe\">\n",
              "  <thead>\n",
              "    <tr style=\"text-align: right;\">\n",
              "      <th></th>\n",
              "      <th>previous_cancellation_per</th>\n",
              "      <th>previous_cancellations</th>\n",
              "      <th>previous_bookings_not_canceled</th>\n",
              "      <th>is_canceled</th>\n",
              "    </tr>\n",
              "  </thead>\n",
              "  <tbody>\n",
              "    <tr>\n",
              "      <td>previous_cancellation_per</td>\n",
              "      <td>1.000000</td>\n",
              "      <td>0.420492</td>\n",
              "      <td>0.076717</td>\n",
              "      <td>0.285071</td>\n",
              "    </tr>\n",
              "    <tr>\n",
              "      <td>previous_cancellations</td>\n",
              "      <td>0.420492</td>\n",
              "      <td>1.000000</td>\n",
              "      <td>0.153742</td>\n",
              "      <td>0.110444</td>\n",
              "    </tr>\n",
              "    <tr>\n",
              "      <td>previous_bookings_not_canceled</td>\n",
              "      <td>0.076717</td>\n",
              "      <td>0.153742</td>\n",
              "      <td>1.000000</td>\n",
              "      <td>-0.057145</td>\n",
              "    </tr>\n",
              "    <tr>\n",
              "      <td>is_canceled</td>\n",
              "      <td>0.285071</td>\n",
              "      <td>0.110444</td>\n",
              "      <td>-0.057145</td>\n",
              "      <td>1.000000</td>\n",
              "    </tr>\n",
              "  </tbody>\n",
              "</table>\n",
              "</div>"
            ],
            "text/plain": [
              "                                previous_cancellation_per  \\\n",
              "previous_cancellation_per                        1.000000   \n",
              "previous_cancellations                           0.420492   \n",
              "previous_bookings_not_canceled                   0.076717   \n",
              "is_canceled                                      0.285071   \n",
              "\n",
              "                                previous_cancellations  \\\n",
              "previous_cancellation_per                     0.420492   \n",
              "previous_cancellations                        1.000000   \n",
              "previous_bookings_not_canceled                0.153742   \n",
              "is_canceled                                   0.110444   \n",
              "\n",
              "                                previous_bookings_not_canceled  is_canceled  \n",
              "previous_cancellation_per                             0.076717     0.285071  \n",
              "previous_cancellations                                0.153742     0.110444  \n",
              "previous_bookings_not_canceled                        1.000000    -0.057145  \n",
              "is_canceled                                          -0.057145     1.000000  "
            ]
          },
          "metadata": {
            "tags": []
          },
          "execution_count": 65
        }
      ]
    },
    {
      "cell_type": "markdown",
      "metadata": {
        "id": "v6-bXRvNGeNJ",
        "colab_type": "text"
      },
      "source": [
        "The new feature 'previous_cancellation_per' which was constructed from 'previous_cancellations' and 'previous_bookings_not_canceled' is correlated much better to the target parameter 'is_canceled'. It comes as no surprise as its distribution in relation to cancelation makes more sense. As 'previous_bookings_not_canceled' still hold some information 'previous_cancellations' can only confuse the model, therefore we will use 'previous_cancellation_per' instead."
      ]
    },
    {
      "cell_type": "code",
      "metadata": {
        "id": "Ur2reUAHGeNJ",
        "colab_type": "code",
        "colab": {}
      },
      "source": [
        "def add_previous_cancelation_per(df):\n",
        "    total_canc = df['previous_bookings_not_canceled'] + df['previous_cancellations']\n",
        "    df['previous_cancellation_per'] =  df['previous_cancellations'].div(total_canc)\n",
        "    df['previous_cancellation_per'] = df['previous_cancellation_per'].fillna(0)\n",
        "    bins = [-1,0,0.5,1]\n",
        "    df['previous_cancellation_per'] =  pd.cut(df['previous_cancellation_per'], bins, labels = [0,1,2])\n",
        "    df['previous_cancellation_per'] = df['previous_cancellation_per'].astype('int64')\n",
        "    df = df.drop('previous_cancellations',axis=1)\n",
        "    return df\n",
        "\n",
        "val = add_previous_cancelation_per(val)\n",
        "test = add_previous_cancelation_per(test)\n",
        "train = train.drop('previous_cancellations',axis=1)"
      ],
      "execution_count": null,
      "outputs": []
    },
    {
      "cell_type": "code",
      "metadata": {
        "id": "V1zyA35mGeNO",
        "colab_type": "code",
        "colab": {},
        "outputId": "1b14e29d-3b51-4e12-a5ea-7176ae36b066"
      },
      "source": [
        "val['previous_cancellation_per'].value_counts()"
      ],
      "execution_count": null,
      "outputs": [
        {
          "output_type": "execute_result",
          "data": {
            "text/plain": [
              "0    11174\n",
              "2      598\n",
              "1       48\n",
              "Name: previous_cancellation_per, dtype: int64"
            ]
          },
          "metadata": {
            "tags": []
          },
          "execution_count": 67
        }
      ]
    },
    {
      "cell_type": "markdown",
      "metadata": {
        "id": "hqYox9RIGeNQ",
        "colab_type": "text"
      },
      "source": [
        "### is_repeated_guest"
      ]
    },
    {
      "cell_type": "code",
      "metadata": {
        "id": "l-mGdr5uGeNR",
        "colab_type": "code",
        "colab": {},
        "outputId": "dc21148c-3d7c-44b5-8d0d-8af2faae7e66"
      },
      "source": [
        "train['is_repeated_guest'].value_counts(normalize=True)"
      ],
      "execution_count": null,
      "outputs": [
        {
          "output_type": "execute_result",
          "data": {
            "text/plain": [
              "0    0.967699\n",
              "1    0.032301\n",
              "Name: is_repeated_guest, dtype: float64"
            ]
          },
          "metadata": {
            "tags": []
          },
          "execution_count": 68
        }
      ]
    },
    {
      "cell_type": "code",
      "metadata": {
        "id": "EcPf_bq2GeNU",
        "colab_type": "code",
        "colab": {},
        "outputId": "53e5d8b4-7334-4778-9338-dbc65e398fef"
      },
      "source": [
        "train['is_canceled'].groupby(train['is_repeated_guest']).value_counts(normalize=True)"
      ],
      "execution_count": null,
      "outputs": [
        {
          "output_type": "execute_result",
          "data": {
            "text/plain": [
              "is_repeated_guest  is_canceled\n",
              "0                  0              0.623177\n",
              "                   1              0.376823\n",
              "1                  0              0.858530\n",
              "                   1              0.141470\n",
              "Name: is_canceled, dtype: float64"
            ]
          },
          "metadata": {
            "tags": []
          },
          "execution_count": 69
        }
      ]
    },
    {
      "cell_type": "code",
      "metadata": {
        "id": "4ji4bwrBGeNW",
        "colab_type": "code",
        "colab": {},
        "outputId": "8392826c-b950-4788-fbe8-806f32939fe1"
      },
      "source": [
        "sns.barplot(x='is_repeated_guest',y='is_canceled',data=train)"
      ],
      "execution_count": null,
      "outputs": [
        {
          "output_type": "execute_result",
          "data": {
            "text/plain": [
              "<matplotlib.axes._subplots.AxesSubplot at 0x2c1c9e58b48>"
            ]
          },
          "metadata": {
            "tags": []
          },
          "execution_count": 70
        },
        {
          "output_type": "display_data",
          "data": {
            "image/png": "[encoded data removed]",
            "text/plain": [
              "<Figure size 432x288 with 1 Axes>"
            ]
          },
          "metadata": {
            "tags": [],
            "needs_background": "light"
          }
        }
      ]
    },
    {
      "cell_type": "markdown",
      "metadata": {
        "id": "GTQuqXrxGeNY",
        "colab_type": "text"
      },
      "source": [
        "Repeated guests tend to cancel less"
      ]
    },
    {
      "cell_type": "markdown",
      "metadata": {
        "id": "lNHYHXSxGeNY",
        "colab_type": "text"
      },
      "source": [
        "## Other Numerical Features"
      ]
    },
    {
      "cell_type": "code",
      "metadata": {
        "id": "YB-54PkXGeNZ",
        "colab_type": "code",
        "colab": {},
        "outputId": "5adcb47e-20a1-4627-917a-d540eae6d140"
      },
      "source": [
        "num_feat = list(train.columns[(train.dtypes.values=='int64')|(train.dtypes.values=='float64')])\n",
        "non_num_feat = list(train.columns[(train.dtypes.values!='int64')&(train.dtypes.values!='float64')])\n",
        "num_feat, non_num_feat"
      ],
      "execution_count": null,
      "outputs": [
        {
          "output_type": "execute_result",
          "data": {
            "text/plain": [
              "(['is_canceled',\n",
              "  'lead_time',\n",
              "  'arrival_date_year',\n",
              "  'arrival_date_week_number',\n",
              "  'arrival_date_day_of_month',\n",
              "  'stays_in_weekend_nights',\n",
              "  'stays_in_week_nights',\n",
              "  'adults',\n",
              "  'children',\n",
              "  'babies',\n",
              "  'is_repeated_guest',\n",
              "  'previous_bookings_not_canceled',\n",
              "  'days_in_waiting_list',\n",
              "  'adr',\n",
              "  'required_car_parking_spaces',\n",
              "  'total_of_special_requests',\n",
              "  'is_change',\n",
              "  'previous_cancellation_per'],\n",
              " ['hotel',\n",
              "  'arrival_date_month',\n",
              "  'meal',\n",
              "  'market_segment',\n",
              "  'distribution_channel',\n",
              "  'reserved_room_type',\n",
              "  'assigned_room_type',\n",
              "  'deposit_type',\n",
              "  'customer_type',\n",
              "  'reservation_status',\n",
              "  'reservation_status_date'])"
            ]
          },
          "metadata": {
            "tags": []
          },
          "execution_count": 71
        }
      ]
    },
    {
      "cell_type": "code",
      "metadata": {
        "id": "PdiMX8HBGeNf",
        "colab_type": "code",
        "colab": {},
        "outputId": "fe4c61c2-a614-4c81-f0ec-8d20de6e1860"
      },
      "source": [
        "if 'is_canceled' in num_feat:\n",
        "    num_feat.remove('is_canceled')\n",
        "if 'is_change' in num_feat:\n",
        "    num_feat.remove('is_change')\n",
        "if 'previous_cancellation_per' in num_feat:\n",
        "    num_feat.remove('previous_cancellation_per')\n",
        "if 'previous_bookings_not_canceled' in num_feat:\n",
        "    num_feat.remove('previous_bookings_not_canceled')\n",
        "    \n",
        "for item in list(most_corr.index):\n",
        "    if item in num_feat:\n",
        "        num_feat.remove(item)\n",
        "num_feat"
      ],
      "execution_count": null,
      "outputs": [
        {
          "output_type": "execute_result",
          "data": {
            "text/plain": [
              "['arrival_date_year',\n",
              " 'arrival_date_week_number',\n",
              " 'arrival_date_day_of_month',\n",
              " 'stays_in_weekend_nights',\n",
              " 'stays_in_week_nights',\n",
              " 'adults',\n",
              " 'children',\n",
              " 'babies',\n",
              " 'days_in_waiting_list',\n",
              " 'adr']"
            ]
          },
          "metadata": {
            "tags": []
          },
          "execution_count": 72
        }
      ]
    },
    {
      "cell_type": "code",
      "metadata": {
        "id": "yOCenCWHGeNj",
        "colab_type": "code",
        "colab": {},
        "outputId": "a156f975-f649-4efe-9c1a-868d8e64ef4a"
      },
      "source": [
        "train[num_feat]"
      ],
      "execution_count": null,
      "outputs": [
        {
          "output_type": "execute_result",
          "data": {
            "text/html": [
              "<div>\n",
              "<style scoped>\n",
              "    .dataframe tbody tr th:only-of-type {\n",
              "        vertical-align: middle;\n",
              "    }\n",
              "\n",
              "    .dataframe tbody tr th {\n",
              "        vertical-align: top;\n",
              "    }\n",
              "\n",
              "    .dataframe thead th {\n",
              "        text-align: right;\n",
              "    }\n",
              "</style>\n",
              "<table border=\"1\" class=\"dataframe\">\n",
              "  <thead>\n",
              "    <tr style=\"text-align: right;\">\n",
              "      <th></th>\n",
              "      <th>arrival_date_year</th>\n",
              "      <th>arrival_date_week_number</th>\n",
              "      <th>arrival_date_day_of_month</th>\n",
              "      <th>stays_in_weekend_nights</th>\n",
              "      <th>stays_in_week_nights</th>\n",
              "      <th>adults</th>\n",
              "      <th>children</th>\n",
              "      <th>babies</th>\n",
              "      <th>days_in_waiting_list</th>\n",
              "      <th>adr</th>\n",
              "    </tr>\n",
              "  </thead>\n",
              "  <tbody>\n",
              "    <tr>\n",
              "      <td>17776</td>\n",
              "      <td>2015</td>\n",
              "      <td>42</td>\n",
              "      <td>14</td>\n",
              "      <td>2</td>\n",
              "      <td>5</td>\n",
              "      <td>2</td>\n",
              "      <td>0.0</td>\n",
              "      <td>0</td>\n",
              "      <td>0</td>\n",
              "      <td>116.71</td>\n",
              "    </tr>\n",
              "    <tr>\n",
              "      <td>44109</td>\n",
              "      <td>2015</td>\n",
              "      <td>40</td>\n",
              "      <td>30</td>\n",
              "      <td>0</td>\n",
              "      <td>2</td>\n",
              "      <td>2</td>\n",
              "      <td>0.0</td>\n",
              "      <td>0</td>\n",
              "      <td>0</td>\n",
              "      <td>121.00</td>\n",
              "    </tr>\n",
              "    <tr>\n",
              "      <td>77071</td>\n",
              "      <td>2015</td>\n",
              "      <td>36</td>\n",
              "      <td>4</td>\n",
              "      <td>0</td>\n",
              "      <td>1</td>\n",
              "      <td>2</td>\n",
              "      <td>0.0</td>\n",
              "      <td>0</td>\n",
              "      <td>0</td>\n",
              "      <td>108.00</td>\n",
              "    </tr>\n",
              "    <tr>\n",
              "      <td>76770</td>\n",
              "      <td>2016</td>\n",
              "      <td>13</td>\n",
              "      <td>21</td>\n",
              "      <td>1</td>\n",
              "      <td>2</td>\n",
              "      <td>2</td>\n",
              "      <td>0.0</td>\n",
              "      <td>0</td>\n",
              "      <td>0</td>\n",
              "      <td>62.80</td>\n",
              "    </tr>\n",
              "    <tr>\n",
              "      <td>58274</td>\n",
              "      <td>2016</td>\n",
              "      <td>42</td>\n",
              "      <td>10</td>\n",
              "      <td>1</td>\n",
              "      <td>0</td>\n",
              "      <td>2</td>\n",
              "      <td>0.0</td>\n",
              "      <td>0</td>\n",
              "      <td>0</td>\n",
              "      <td>126.00</td>\n",
              "    </tr>\n",
              "    <tr>\n",
              "      <td>...</td>\n",
              "      <td>...</td>\n",
              "      <td>...</td>\n",
              "      <td>...</td>\n",
              "      <td>...</td>\n",
              "      <td>...</td>\n",
              "      <td>...</td>\n",
              "      <td>...</td>\n",
              "      <td>...</td>\n",
              "      <td>...</td>\n",
              "      <td>...</td>\n",
              "    </tr>\n",
              "    <tr>\n",
              "      <td>69605</td>\n",
              "      <td>2017</td>\n",
              "      <td>22</td>\n",
              "      <td>2</td>\n",
              "      <td>1</td>\n",
              "      <td>2</td>\n",
              "      <td>2</td>\n",
              "      <td>0.0</td>\n",
              "      <td>0</td>\n",
              "      <td>0</td>\n",
              "      <td>130.00</td>\n",
              "    </tr>\n",
              "    <tr>\n",
              "      <td>60772</td>\n",
              "      <td>2016</td>\n",
              "      <td>48</td>\n",
              "      <td>20</td>\n",
              "      <td>2</td>\n",
              "      <td>3</td>\n",
              "      <td>2</td>\n",
              "      <td>0.0</td>\n",
              "      <td>0</td>\n",
              "      <td>0</td>\n",
              "      <td>85.00</td>\n",
              "    </tr>\n",
              "    <tr>\n",
              "      <td>1898</td>\n",
              "      <td>2015</td>\n",
              "      <td>39</td>\n",
              "      <td>20</td>\n",
              "      <td>2</td>\n",
              "      <td>5</td>\n",
              "      <td>2</td>\n",
              "      <td>0.0</td>\n",
              "      <td>0</td>\n",
              "      <td>0</td>\n",
              "      <td>66.60</td>\n",
              "    </tr>\n",
              "    <tr>\n",
              "      <td>74743</td>\n",
              "      <td>2015</td>\n",
              "      <td>37</td>\n",
              "      <td>11</td>\n",
              "      <td>2</td>\n",
              "      <td>3</td>\n",
              "      <td>1</td>\n",
              "      <td>0.0</td>\n",
              "      <td>0</td>\n",
              "      <td>0</td>\n",
              "      <td>80.00</td>\n",
              "    </tr>\n",
              "    <tr>\n",
              "      <td>82769</td>\n",
              "      <td>2016</td>\n",
              "      <td>8</td>\n",
              "      <td>17</td>\n",
              "      <td>0</td>\n",
              "      <td>2</td>\n",
              "      <td>2</td>\n",
              "      <td>0.0</td>\n",
              "      <td>0</td>\n",
              "      <td>0</td>\n",
              "      <td>75.00</td>\n",
              "    </tr>\n",
              "  </tbody>\n",
              "</table>\n",
              "<p>95631 rows × 10 columns</p>\n",
              "</div>"
            ],
            "text/plain": [
              "       arrival_date_year  arrival_date_week_number  arrival_date_day_of_month  \\\n",
              "17776               2015                        42                         14   \n",
              "44109               2015                        40                         30   \n",
              "77071               2015                        36                          4   \n",
              "76770               2016                        13                         21   \n",
              "58274               2016                        42                         10   \n",
              "...                  ...                       ...                        ...   \n",
              "69605               2017                        22                          2   \n",
              "60772               2016                        48                         20   \n",
              "1898                2015                        39                         20   \n",
              "74743               2015                        37                         11   \n",
              "82769               2016                         8                         17   \n",
              "\n",
              "       stays_in_weekend_nights  stays_in_week_nights  adults  children  \\\n",
              "17776                        2                     5       2       0.0   \n",
              "44109                        0                     2       2       0.0   \n",
              "77071                        0                     1       2       0.0   \n",
              "76770                        1                     2       2       0.0   \n",
              "58274                        1                     0       2       0.0   \n",
              "...                        ...                   ...     ...       ...   \n",
              "69605                        1                     2       2       0.0   \n",
              "60772                        2                     3       2       0.0   \n",
              "1898                         2                     5       2       0.0   \n",
              "74743                        2                     3       1       0.0   \n",
              "82769                        0                     2       2       0.0   \n",
              "\n",
              "       babies  days_in_waiting_list     adr  \n",
              "17776       0                     0  116.71  \n",
              "44109       0                     0  121.00  \n",
              "77071       0                     0  108.00  \n",
              "76770       0                     0   62.80  \n",
              "58274       0                     0  126.00  \n",
              "...       ...                   ...     ...  \n",
              "69605       0                     0  130.00  \n",
              "60772       0                     0   85.00  \n",
              "1898        0                     0   66.60  \n",
              "74743       0                     0   80.00  \n",
              "82769       0                     0   75.00  \n",
              "\n",
              "[95631 rows x 10 columns]"
            ]
          },
          "metadata": {
            "tags": []
          },
          "execution_count": 73
        }
      ]
    },
    {
      "cell_type": "markdown",
      "metadata": {
        "id": "76jIxaTPGeNn",
        "colab_type": "text"
      },
      "source": [
        "The rest of the columns can be classified to three:\n",
        "* date (year,weak number,day)\n",
        "* stays in week/weekends nights\n",
        "* number of guests (adults/children/babies)\n",
        "* address"
      ]
    },
    {
      "cell_type": "code",
      "metadata": {
        "id": "NKxTu120GeNo",
        "colab_type": "code",
        "colab": {},
        "outputId": "397422d3-1cab-45bc-f6f4-0913766c9888"
      },
      "source": [
        "train[num_feat].isna().sum()"
      ],
      "execution_count": null,
      "outputs": [
        {
          "output_type": "execute_result",
          "data": {
            "text/plain": [
              "arrival_date_year            0\n",
              "arrival_date_week_number     0\n",
              "arrival_date_day_of_month    0\n",
              "stays_in_weekend_nights      0\n",
              "stays_in_week_nights         0\n",
              "adults                       0\n",
              "children                     4\n",
              "babies                       0\n",
              "days_in_waiting_list         0\n",
              "adr                          0\n",
              "dtype: int64"
            ]
          },
          "metadata": {
            "tags": []
          },
          "execution_count": 74
        }
      ]
    },
    {
      "cell_type": "markdown",
      "metadata": {
        "id": "p3EAyn-jGeNq",
        "colab_type": "text"
      },
      "source": [
        "Four points of missing values are insignificant, however, as it is the only missing values to fill I will demonstrate data cleaning on them by correlating to another feature"
      ]
    },
    {
      "cell_type": "markdown",
      "metadata": {
        "id": "k3M2fL35GeNr",
        "colab_type": "text"
      },
      "source": [
        "### Children"
      ]
    },
    {
      "cell_type": "code",
      "metadata": {
        "id": "hzbxMxJsGeNr",
        "colab_type": "code",
        "colab": {},
        "outputId": "1fe53cc4-ee90-4975-e2d9-6e756b71d9fd"
      },
      "source": [
        "np.abs(train.corr()['children']).sort_values(ascending=False)[1:6]"
      ],
      "execution_count": null,
      "outputs": [
        {
          "output_type": "execute_result",
          "data": {
            "text/plain": [
              "adr                            0.317737\n",
              "total_of_special_requests      0.082646\n",
              "required_car_parking_spaces    0.059141\n",
              "is_change                      0.054121\n",
              "arrival_date_year              0.053611\n",
              "Name: children, dtype: float64"
            ]
          },
          "metadata": {
            "tags": []
          },
          "execution_count": 75
        }
      ]
    },
    {
      "cell_type": "markdown",
      "metadata": {
        "id": "Z4NjBWsFGeNt",
        "colab_type": "text"
      },
      "source": [
        "Most correlated feature: adr\n",
        "* adr : Average Daily Rate as defined by dividing the sum of all lodging transactions by the total number of staying nights"
      ]
    },
    {
      "cell_type": "code",
      "metadata": {
        "id": "rUyecw7KGeNu",
        "colab_type": "code",
        "colab": {},
        "outputId": "7d40fbec-69a6-4661-a8be-cf3911b0604b"
      },
      "source": [
        "train['adr'].groupby(train['children']).median()"
      ],
      "execution_count": null,
      "outputs": [
        {
          "output_type": "execute_result",
          "data": {
            "text/plain": [
              "children\n",
              "0.0     90.67\n",
              "1.0    134.10\n",
              "2.0    180.00\n",
              "3.0    218.80\n",
              "Name: adr, dtype: float64"
            ]
          },
          "metadata": {
            "tags": []
          },
          "execution_count": 76
        }
      ]
    },
    {
      "cell_type": "code",
      "metadata": {
        "id": "LO0WSBJNGeNw",
        "colab_type": "code",
        "colab": {},
        "outputId": "4fa90757-ee1b-4220-bc8a-d62c9d25b43f"
      },
      "source": [
        "sns.barplot(x='children', y='adr', data=train)"
      ],
      "execution_count": null,
      "outputs": [
        {
          "output_type": "execute_result",
          "data": {
            "text/plain": [
              "<matplotlib.axes._subplots.AxesSubplot at 0x2c1d18b6a88>"
            ]
          },
          "metadata": {
            "tags": []
          },
          "execution_count": 77
        },
        {
          "output_type": "display_data",
          "data": {
            "image/png": "[encoded data removed]",
            "text/plain": [
              "<Figure size 432x288 with 1 Axes>"
            ]
          },
          "metadata": {
            "tags": [],
            "needs_background": "light"
          }
        }
      ]
    },
    {
      "cell_type": "markdown",
      "metadata": {
        "id": "UrIeBB9LGeN0",
        "colab_type": "text"
      },
      "source": [
        "In the absence of a better measure and given the fact that the 'adr' is extremely low we will predict children=0 for all na samples"
      ]
    },
    {
      "cell_type": "code",
      "metadata": {
        "id": "zWu3Z1bdGeN1",
        "colab_type": "code",
        "colab": {},
        "outputId": "a530467c-ea3a-498d-8ca1-1a1b6f775bc2"
      },
      "source": [
        "train.loc[train['children'].isnull(),'children']=0\n",
        "train.isna().sum()"
      ],
      "execution_count": null,
      "outputs": [
        {
          "output_type": "execute_result",
          "data": {
            "text/plain": [
              "hotel                             0\n",
              "is_canceled                       0\n",
              "lead_time                         0\n",
              "arrival_date_year                 0\n",
              "arrival_date_month                0\n",
              "arrival_date_week_number          0\n",
              "arrival_date_day_of_month         0\n",
              "stays_in_weekend_nights           0\n",
              "stays_in_week_nights              0\n",
              "adults                            0\n",
              "children                          0\n",
              "babies                            0\n",
              "meal                              0\n",
              "market_segment                    0\n",
              "distribution_channel              0\n",
              "is_repeated_guest                 0\n",
              "previous_bookings_not_canceled    0\n",
              "reserved_room_type                0\n",
              "assigned_room_type                0\n",
              "deposit_type                      0\n",
              "days_in_waiting_list              0\n",
              "customer_type                     0\n",
              "adr                               0\n",
              "required_car_parking_spaces       0\n",
              "total_of_special_requests         0\n",
              "reservation_status                0\n",
              "reservation_status_date           0\n",
              "is_change                         0\n",
              "previous_cancellation_per         0\n",
              "dtype: int64"
            ]
          },
          "metadata": {
            "tags": []
          },
          "execution_count": 78
        }
      ]
    },
    {
      "cell_type": "markdown",
      "metadata": {
        "id": "8Di2X9tFGeN3",
        "colab_type": "text"
      },
      "source": [
        "## None numerical features\n",
        "None numerical features were not considered when the most correlated features were calculated\\\n",
        "The category encoders that may be used:\n",
        "* Simple encoding for ordinal features -> 0,1,2...\n",
        "* get_dummies, split a category to binary features\n",
        "* Target encoding - mean value of a category in relation to the target, to avoid overfitting we will use Leave-One-Out"
      ]
    },
    {
      "cell_type": "markdown",
      "metadata": {
        "id": "SgyRac-8GeN3",
        "colab_type": "text"
      },
      "source": [
        "The features are:\n",
        "* hotel : Hotel (H1 = Resort Hotel or H2 = City Hotel)\n",
        "* arrival_date_month : Month of arrival date\n",
        "* meal : Type of meal booked. Categories are presented in standard hospitality meal packages: Undefined/SC – no meal package; BB – Bed & Breakfast; HB – Half board (breakfast and one other meal – usually dinner); FB – Full board (breakfast, lunch and dinner)\n",
        "* market_segment : Market segment designation. In categories, the term “TA” means “Travel Agents” and “TO” means “Tour Operators”\n",
        "* distribution_channel: Booking distribution channel. The term “TA” means “Travel Agents” and “TO” means “Tour Operators”\n",
        "* reserved_room_type : Code of room type reserved. Code is presented instead of designation for anonymity reasons.\n",
        "* assigned_room_type : Code for the type of room assigned to the booking. Sometimes the assigned room type differs from the reserved room type due to hotel operation reasons (e.g. overbooking) or by customer request. Code is presented instead of designation for anonymity reasons.\n",
        "* deposit_type : Indication on if the customer made a deposit to guarantee the booking. This variable can assume three categories: No Deposit – no deposit was made; Non Refund – a deposit was made in the value of the total stay cost; Refundable – a deposit was made with a value under the total cost of stay.\n",
        "* customer_type : Type of booking, assuming one of four categories: Contract - when the booking has an allotment or other type of contract associated to it; Group – when the booking is associated to a group; Transient – when the booking is not part of a group or contract, and is not associated to other transient booking; Transient-party – when the booking is transient, but is associated to at least other transient booking\n",
        "* reservation_status : Reservation last status, assuming one of three categories: Canceled – booking was canceled by the customer; Check-Out – customer has checked in but already departed; No-Show – customer did not check-in and did inform the hotel of the reason why"
      ]
    },
    {
      "cell_type": "code",
      "metadata": {
        "id": "8VzOvyFHGeN4",
        "colab_type": "code",
        "colab": {},
        "outputId": "77a60037-87cf-4c0f-d8f4-469df15ebcd5"
      },
      "source": [
        "cat_flag = False\n",
        "train[non_num_feat].head()"
      ],
      "execution_count": null,
      "outputs": [
        {
          "output_type": "execute_result",
          "data": {
            "text/html": [
              "<div>\n",
              "<style scoped>\n",
              "    .dataframe tbody tr th:only-of-type {\n",
              "        vertical-align: middle;\n",
              "    }\n",
              "\n",
              "    .dataframe tbody tr th {\n",
              "        vertical-align: top;\n",
              "    }\n",
              "\n",
              "    .dataframe thead th {\n",
              "        text-align: right;\n",
              "    }\n",
              "</style>\n",
              "<table border=\"1\" class=\"dataframe\">\n",
              "  <thead>\n",
              "    <tr style=\"text-align: right;\">\n",
              "      <th></th>\n",
              "      <th>hotel</th>\n",
              "      <th>arrival_date_month</th>\n",
              "      <th>meal</th>\n",
              "      <th>market_segment</th>\n",
              "      <th>distribution_channel</th>\n",
              "      <th>reserved_room_type</th>\n",
              "      <th>assigned_room_type</th>\n",
              "      <th>deposit_type</th>\n",
              "      <th>customer_type</th>\n",
              "      <th>reservation_status</th>\n",
              "      <th>reservation_status_date</th>\n",
              "    </tr>\n",
              "  </thead>\n",
              "  <tbody>\n",
              "    <tr>\n",
              "      <td>17776</td>\n",
              "      <td>Resort Hotel</td>\n",
              "      <td>October</td>\n",
              "      <td>HB</td>\n",
              "      <td>Online TA</td>\n",
              "      <td>TA/TO</td>\n",
              "      <td>E</td>\n",
              "      <td>E</td>\n",
              "      <td>No Deposit</td>\n",
              "      <td>Transient</td>\n",
              "      <td>Check-Out</td>\n",
              "      <td>2015-10-21</td>\n",
              "    </tr>\n",
              "    <tr>\n",
              "      <td>44109</td>\n",
              "      <td>City Hotel</td>\n",
              "      <td>September</td>\n",
              "      <td>HB</td>\n",
              "      <td>Offline TA/TO</td>\n",
              "      <td>TA/TO</td>\n",
              "      <td>A</td>\n",
              "      <td>A</td>\n",
              "      <td>Non Refund</td>\n",
              "      <td>Transient</td>\n",
              "      <td>Canceled</td>\n",
              "      <td>2015-09-15</td>\n",
              "    </tr>\n",
              "    <tr>\n",
              "      <td>77071</td>\n",
              "      <td>City Hotel</td>\n",
              "      <td>September</td>\n",
              "      <td>HB</td>\n",
              "      <td>Offline TA/TO</td>\n",
              "      <td>TA/TO</td>\n",
              "      <td>A</td>\n",
              "      <td>A</td>\n",
              "      <td>No Deposit</td>\n",
              "      <td>Transient-Party</td>\n",
              "      <td>Check-Out</td>\n",
              "      <td>2015-09-05</td>\n",
              "    </tr>\n",
              "    <tr>\n",
              "      <td>76770</td>\n",
              "      <td>City Hotel</td>\n",
              "      <td>March</td>\n",
              "      <td>BB</td>\n",
              "      <td>Groups</td>\n",
              "      <td>TA/TO</td>\n",
              "      <td>A</td>\n",
              "      <td>A</td>\n",
              "      <td>Non Refund</td>\n",
              "      <td>Transient</td>\n",
              "      <td>Canceled</td>\n",
              "      <td>2015-08-10</td>\n",
              "    </tr>\n",
              "    <tr>\n",
              "      <td>58274</td>\n",
              "      <td>City Hotel</td>\n",
              "      <td>October</td>\n",
              "      <td>BB</td>\n",
              "      <td>Online TA</td>\n",
              "      <td>TA/TO</td>\n",
              "      <td>A</td>\n",
              "      <td>A</td>\n",
              "      <td>No Deposit</td>\n",
              "      <td>Transient</td>\n",
              "      <td>Canceled</td>\n",
              "      <td>2016-10-09</td>\n",
              "    </tr>\n",
              "  </tbody>\n",
              "</table>\n",
              "</div>"
            ],
            "text/plain": [
              "              hotel arrival_date_month meal market_segment  \\\n",
              "17776  Resort Hotel            October   HB      Online TA   \n",
              "44109    City Hotel          September   HB  Offline TA/TO   \n",
              "77071    City Hotel          September   HB  Offline TA/TO   \n",
              "76770    City Hotel              March   BB         Groups   \n",
              "58274    City Hotel            October   BB      Online TA   \n",
              "\n",
              "      distribution_channel reserved_room_type assigned_room_type deposit_type  \\\n",
              "17776                TA/TO                  E                  E   No Deposit   \n",
              "44109                TA/TO                  A                  A   Non Refund   \n",
              "77071                TA/TO                  A                  A   No Deposit   \n",
              "76770                TA/TO                  A                  A   Non Refund   \n",
              "58274                TA/TO                  A                  A   No Deposit   \n",
              "\n",
              "         customer_type reservation_status reservation_status_date  \n",
              "17776        Transient          Check-Out              2015-10-21  \n",
              "44109        Transient           Canceled              2015-09-15  \n",
              "77071  Transient-Party          Check-Out              2015-09-05  \n",
              "76770        Transient           Canceled              2015-08-10  \n",
              "58274        Transient           Canceled              2016-10-09  "
            ]
          },
          "metadata": {
            "tags": []
          },
          "execution_count": 79
        }
      ]
    },
    {
      "cell_type": "code",
      "metadata": {
        "id": "g2RqXgTPGeN6",
        "colab_type": "code",
        "colab": {},
        "outputId": "f932a81a-7049-45e9-9f74-e89ad463ebe4"
      },
      "source": [
        "# Create a dataframe of all the unique categories\n",
        "cat_df = pd.DataFrame(index = non_num_feat, columns = ['Unique Values', 'Number of Categories'])\n",
        "for feature in non_num_feat:\n",
        "    cat_df.loc[feature,'Unique Values'] = train[feature].unique()\n",
        "    cat_df.loc[feature,'Number of Categories'] = len(train[feature].unique())\n",
        "cat_df.drop('reservation_status_date', axis=0, inplace=True)\n",
        "cat_df"
      ],
      "execution_count": null,
      "outputs": [
        {
          "output_type": "execute_result",
          "data": {
            "text/html": [
              "<div>\n",
              "<style scoped>\n",
              "    .dataframe tbody tr th:only-of-type {\n",
              "        vertical-align: middle;\n",
              "    }\n",
              "\n",
              "    .dataframe tbody tr th {\n",
              "        vertical-align: top;\n",
              "    }\n",
              "\n",
              "    .dataframe thead th {\n",
              "        text-align: right;\n",
              "    }\n",
              "</style>\n",
              "<table border=\"1\" class=\"dataframe\">\n",
              "  <thead>\n",
              "    <tr style=\"text-align: right;\">\n",
              "      <th></th>\n",
              "      <th>Unique Values</th>\n",
              "      <th>Number of Categories</th>\n",
              "    </tr>\n",
              "  </thead>\n",
              "  <tbody>\n",
              "    <tr>\n",
              "      <td>hotel</td>\n",
              "      <td>[Resort Hotel, City Hotel]</td>\n",
              "      <td>2</td>\n",
              "    </tr>\n",
              "    <tr>\n",
              "      <td>arrival_date_month</td>\n",
              "      <td>[October, September, March, February, December...</td>\n",
              "      <td>12</td>\n",
              "    </tr>\n",
              "    <tr>\n",
              "      <td>meal</td>\n",
              "      <td>[HB, BB, SC, FB, Undefined]</td>\n",
              "      <td>5</td>\n",
              "    </tr>\n",
              "    <tr>\n",
              "      <td>market_segment</td>\n",
              "      <td>[Online TA, Offline TA/TO, Groups, Corporate, ...</td>\n",
              "      <td>8</td>\n",
              "    </tr>\n",
              "    <tr>\n",
              "      <td>distribution_channel</td>\n",
              "      <td>[TA/TO, Corporate, Direct, GDS, Undefined]</td>\n",
              "      <td>5</td>\n",
              "    </tr>\n",
              "    <tr>\n",
              "      <td>reserved_room_type</td>\n",
              "      <td>[E, A, D, F, H, C, G, B, L, P]</td>\n",
              "      <td>10</td>\n",
              "    </tr>\n",
              "    <tr>\n",
              "      <td>assigned_room_type</td>\n",
              "      <td>[E, A, D, B, F, H, C, G, K, I, P, L]</td>\n",
              "      <td>12</td>\n",
              "    </tr>\n",
              "    <tr>\n",
              "      <td>deposit_type</td>\n",
              "      <td>[No Deposit, Non Refund, Refundable]</td>\n",
              "      <td>3</td>\n",
              "    </tr>\n",
              "    <tr>\n",
              "      <td>customer_type</td>\n",
              "      <td>[Transient, Transient-Party, Contract, Group]</td>\n",
              "      <td>4</td>\n",
              "    </tr>\n",
              "    <tr>\n",
              "      <td>reservation_status</td>\n",
              "      <td>[Check-Out, Canceled, No-Show]</td>\n",
              "      <td>3</td>\n",
              "    </tr>\n",
              "  </tbody>\n",
              "</table>\n",
              "</div>"
            ],
            "text/plain": [
              "                                                          Unique Values  \\\n",
              "hotel                                        [Resort Hotel, City Hotel]   \n",
              "arrival_date_month    [October, September, March, February, December...   \n",
              "meal                                        [HB, BB, SC, FB, Undefined]   \n",
              "market_segment        [Online TA, Offline TA/TO, Groups, Corporate, ...   \n",
              "distribution_channel         [TA/TO, Corporate, Direct, GDS, Undefined]   \n",
              "reserved_room_type                       [E, A, D, F, H, C, G, B, L, P]   \n",
              "assigned_room_type                 [E, A, D, B, F, H, C, G, K, I, P, L]   \n",
              "deposit_type                       [No Deposit, Non Refund, Refundable]   \n",
              "customer_type             [Transient, Transient-Party, Contract, Group]   \n",
              "reservation_status                       [Check-Out, Canceled, No-Show]   \n",
              "\n",
              "                     Number of Categories  \n",
              "hotel                                   2  \n",
              "arrival_date_month                     12  \n",
              "meal                                    5  \n",
              "market_segment                          8  \n",
              "distribution_channel                    5  \n",
              "reserved_room_type                     10  \n",
              "assigned_room_type                     12  \n",
              "deposit_type                            3  \n",
              "customer_type                           4  \n",
              "reservation_status                      3  "
            ]
          },
          "metadata": {
            "tags": []
          },
          "execution_count": 80
        }
      ]
    },
    {
      "cell_type": "code",
      "metadata": {
        "id": "SrT9N2QPGeN8",
        "colab_type": "code",
        "colab": {},
        "outputId": "32d92856-b8a9-43ae-80f1-7009c483adcb"
      },
      "source": [
        "train['deposit_type'].value_counts()"
      ],
      "execution_count": null,
      "outputs": [
        {
          "output_type": "execute_result",
          "data": {
            "text/plain": [
              "No Deposit    83854\n",
              "Non Refund    11652\n",
              "Refundable      125\n",
              "Name: deposit_type, dtype: int64"
            ]
          },
          "metadata": {
            "tags": []
          },
          "execution_count": 81
        }
      ]
    },
    {
      "cell_type": "code",
      "metadata": {
        "id": "Cwur6ovHGeN_",
        "colab_type": "code",
        "colab": {},
        "outputId": "5d40dfe2-9446-4fce-e92e-e4b46052b574"
      },
      "source": [
        "sns.barplot(x='deposit_type',y='is_canceled', data = train)"
      ],
      "execution_count": null,
      "outputs": [
        {
          "output_type": "execute_result",
          "data": {
            "text/plain": [
              "<matplotlib.axes._subplots.AxesSubplot at 0x2c1d1a5c0c8>"
            ]
          },
          "metadata": {
            "tags": []
          },
          "execution_count": 82
        },
        {
          "output_type": "display_data",
          "data": {
            "image/png": "[encoded data removed]",
            "text/plain": [
              "<Figure size 432x288 with 1 Axes>"
            ]
          },
          "metadata": {
            "tags": [],
            "needs_background": "light"
          }
        }
      ]
    },
    {
      "cell_type": "code",
      "metadata": {
        "id": "JcBa2fEzGeOB",
        "colab_type": "code",
        "colab": {},
        "outputId": "f0791744-ba12-4ca1-b292-126b31bf7cb7"
      },
      "source": [
        "train['reservation_status'].value_counts()"
      ],
      "execution_count": null,
      "outputs": [
        {
          "output_type": "execute_result",
          "data": {
            "text/plain": [
              "Check-Out    60322\n",
              "Canceled     34347\n",
              "No-Show        962\n",
              "Name: reservation_status, dtype: int64"
            ]
          },
          "metadata": {
            "tags": []
          },
          "execution_count": 83
        }
      ]
    },
    {
      "cell_type": "code",
      "metadata": {
        "id": "u9zEthrbGeOD",
        "colab_type": "code",
        "colab": {},
        "outputId": "caa8a8a0-f06c-4eaa-922b-f78c2f2e5169"
      },
      "source": [
        "sns.barplot(x='reservation_status', y='is_canceled', data = train)"
      ],
      "execution_count": null,
      "outputs": [
        {
          "output_type": "execute_result",
          "data": {
            "text/plain": [
              "<matplotlib.axes._subplots.AxesSubplot at 0x2c1d16c15c8>"
            ]
          },
          "metadata": {
            "tags": []
          },
          "execution_count": 84
        },
        {
          "output_type": "display_data",
          "data": {
            "image/png": "[encoded data removed]",
            "text/plain": [
              "<Figure size 432x288 with 1 Axes>"
            ]
          },
          "metadata": {
            "tags": [],
            "needs_background": "light"
          }
        }
      ]
    },
    {
      "cell_type": "markdown",
      "metadata": {
        "id": "QbXhenWaGeOF",
        "colab_type": "text"
      },
      "source": [
        "The correlation between the target and the reservation status  is much too high, suggesting that the feature is actually bound to the target, as it will probably cause data leakage we'll later remove it from the data"
      ]
    },
    {
      "cell_type": "code",
      "metadata": {
        "id": "BT9s-5ZgGeOF",
        "colab_type": "code",
        "colab": {}
      },
      "source": [
        "def dummies(df,var,prefix=None):\n",
        "    dummies = pd.get_dummies(df[var], prefix = prefix)\n",
        "    df = pd.concat([df, dummies], axis=1)\n",
        "    df = df.drop(var, axis=1)\n",
        "    return df\n",
        "\n",
        "def set_cat_feat(df):\n",
        "\n",
        "    #Ordinal/binary parameters   \n",
        "    month = {\n",
        "        'January':1, 'February':2, 'March':3, 'April':4, 'May':5, 'June':6, 'July':7,\\\n",
        "        'August':8, 'September':9, 'October':10, 'November':11, 'December':12}\n",
        "    hotel = { 'Resort Hotel' : 0, 'City Hotel' : 1}\n",
        "    df['arrival_date_month'] = df['arrival_date_month'].map(month)\n",
        "    df['hotel'] = df['hotel'].map(hotel)\n",
        "    \n",
        "    df['assigned/reserved'] = 0\n",
        "    df.loc[df['reserved_room_type']==df['assigned_room_type'],'assigned/reserved']=1\n",
        "    df = df.drop('reserved_room_type', axis=1)\n",
        "    df = df.drop('assigned_room_type', axis =1)\n",
        "    \n",
        "    df = df.drop('reservation_status', axis=1)\n",
        "    \n",
        "    dummy_feat = ['meal','market_segment','distribution_channel','customer_type','deposit_type']\n",
        "    dummy_prefix=['meal','MS','DC','CT','DT']\n",
        "    \n",
        "    # get_dummies for parameters with a few categories, as we face classification problem no need to drop any category\n",
        "    for i in range(len(dummy_feat)):\n",
        "        df = dummies(df,dummy_feat[i],dummy_prefix[i])\n",
        "\n",
        "    return df"
      ],
      "execution_count": null,
      "outputs": []
    },
    {
      "cell_type": "code",
      "metadata": {
        "id": "RZndNb2yGeOJ",
        "colab_type": "code",
        "colab": {},
        "outputId": "e41d7beb-16bb-46e2-cdd6-ed912874ce34"
      },
      "source": [
        "temp = train.loc[:,non_num_feat+ ['is_canceled']]\n",
        "temp"
      ],
      "execution_count": null,
      "outputs": [
        {
          "output_type": "execute_result",
          "data": {
            "text/html": [
              "<div>\n",
              "<style scoped>\n",
              "    .dataframe tbody tr th:only-of-type {\n",
              "        vertical-align: middle;\n",
              "    }\n",
              "\n",
              "    .dataframe tbody tr th {\n",
              "        vertical-align: top;\n",
              "    }\n",
              "\n",
              "    .dataframe thead th {\n",
              "        text-align: right;\n",
              "    }\n",
              "</style>\n",
              "<table border=\"1\" class=\"dataframe\">\n",
              "  <thead>\n",
              "    <tr style=\"text-align: right;\">\n",
              "      <th></th>\n",
              "      <th>hotel</th>\n",
              "      <th>arrival_date_month</th>\n",
              "      <th>meal</th>\n",
              "      <th>market_segment</th>\n",
              "      <th>distribution_channel</th>\n",
              "      <th>reserved_room_type</th>\n",
              "      <th>assigned_room_type</th>\n",
              "      <th>deposit_type</th>\n",
              "      <th>customer_type</th>\n",
              "      <th>reservation_status</th>\n",
              "      <th>reservation_status_date</th>\n",
              "      <th>is_canceled</th>\n",
              "    </tr>\n",
              "  </thead>\n",
              "  <tbody>\n",
              "    <tr>\n",
              "      <td>17776</td>\n",
              "      <td>Resort Hotel</td>\n",
              "      <td>October</td>\n",
              "      <td>HB</td>\n",
              "      <td>Online TA</td>\n",
              "      <td>TA/TO</td>\n",
              "      <td>E</td>\n",
              "      <td>E</td>\n",
              "      <td>No Deposit</td>\n",
              "      <td>Transient</td>\n",
              "      <td>Check-Out</td>\n",
              "      <td>2015-10-21</td>\n",
              "      <td>0</td>\n",
              "    </tr>\n",
              "    <tr>\n",
              "      <td>44109</td>\n",
              "      <td>City Hotel</td>\n",
              "      <td>September</td>\n",
              "      <td>HB</td>\n",
              "      <td>Offline TA/TO</td>\n",
              "      <td>TA/TO</td>\n",
              "      <td>A</td>\n",
              "      <td>A</td>\n",
              "      <td>Non Refund</td>\n",
              "      <td>Transient</td>\n",
              "      <td>Canceled</td>\n",
              "      <td>2015-09-15</td>\n",
              "      <td>1</td>\n",
              "    </tr>\n",
              "    <tr>\n",
              "      <td>77071</td>\n",
              "      <td>City Hotel</td>\n",
              "      <td>September</td>\n",
              "      <td>HB</td>\n",
              "      <td>Offline TA/TO</td>\n",
              "      <td>TA/TO</td>\n",
              "      <td>A</td>\n",
              "      <td>A</td>\n",
              "      <td>No Deposit</td>\n",
              "      <td>Transient-Party</td>\n",
              "      <td>Check-Out</td>\n",
              "      <td>2015-09-05</td>\n",
              "      <td>0</td>\n",
              "    </tr>\n",
              "    <tr>\n",
              "      <td>76770</td>\n",
              "      <td>City Hotel</td>\n",
              "      <td>March</td>\n",
              "      <td>BB</td>\n",
              "      <td>Groups</td>\n",
              "      <td>TA/TO</td>\n",
              "      <td>A</td>\n",
              "      <td>A</td>\n",
              "      <td>Non Refund</td>\n",
              "      <td>Transient</td>\n",
              "      <td>Canceled</td>\n",
              "      <td>2015-08-10</td>\n",
              "      <td>1</td>\n",
              "    </tr>\n",
              "    <tr>\n",
              "      <td>58274</td>\n",
              "      <td>City Hotel</td>\n",
              "      <td>October</td>\n",
              "      <td>BB</td>\n",
              "      <td>Online TA</td>\n",
              "      <td>TA/TO</td>\n",
              "      <td>A</td>\n",
              "      <td>A</td>\n",
              "      <td>No Deposit</td>\n",
              "      <td>Transient</td>\n",
              "      <td>Canceled</td>\n",
              "      <td>2016-10-09</td>\n",
              "      <td>1</td>\n",
              "    </tr>\n",
              "    <tr>\n",
              "      <td>...</td>\n",
              "      <td>...</td>\n",
              "      <td>...</td>\n",
              "      <td>...</td>\n",
              "      <td>...</td>\n",
              "      <td>...</td>\n",
              "      <td>...</td>\n",
              "      <td>...</td>\n",
              "      <td>...</td>\n",
              "      <td>...</td>\n",
              "      <td>...</td>\n",
              "      <td>...</td>\n",
              "      <td>...</td>\n",
              "    </tr>\n",
              "    <tr>\n",
              "      <td>69605</td>\n",
              "      <td>City Hotel</td>\n",
              "      <td>June</td>\n",
              "      <td>BB</td>\n",
              "      <td>Groups</td>\n",
              "      <td>TA/TO</td>\n",
              "      <td>A</td>\n",
              "      <td>A</td>\n",
              "      <td>Non Refund</td>\n",
              "      <td>Transient</td>\n",
              "      <td>Canceled</td>\n",
              "      <td>2017-01-24</td>\n",
              "      <td>1</td>\n",
              "    </tr>\n",
              "    <tr>\n",
              "      <td>60772</td>\n",
              "      <td>City Hotel</td>\n",
              "      <td>November</td>\n",
              "      <td>BB</td>\n",
              "      <td>Online TA</td>\n",
              "      <td>TA/TO</td>\n",
              "      <td>A</td>\n",
              "      <td>A</td>\n",
              "      <td>No Deposit</td>\n",
              "      <td>Transient</td>\n",
              "      <td>Canceled</td>\n",
              "      <td>2016-07-02</td>\n",
              "      <td>1</td>\n",
              "    </tr>\n",
              "    <tr>\n",
              "      <td>1898</td>\n",
              "      <td>Resort Hotel</td>\n",
              "      <td>September</td>\n",
              "      <td>BB</td>\n",
              "      <td>Online TA</td>\n",
              "      <td>TA/TO</td>\n",
              "      <td>A</td>\n",
              "      <td>A</td>\n",
              "      <td>No Deposit</td>\n",
              "      <td>Transient</td>\n",
              "      <td>Canceled</td>\n",
              "      <td>2015-04-18</td>\n",
              "      <td>1</td>\n",
              "    </tr>\n",
              "    <tr>\n",
              "      <td>74743</td>\n",
              "      <td>City Hotel</td>\n",
              "      <td>September</td>\n",
              "      <td>BB</td>\n",
              "      <td>Offline TA/TO</td>\n",
              "      <td>TA/TO</td>\n",
              "      <td>A</td>\n",
              "      <td>A</td>\n",
              "      <td>Non Refund</td>\n",
              "      <td>Transient</td>\n",
              "      <td>Canceled</td>\n",
              "      <td>2015-02-20</td>\n",
              "      <td>1</td>\n",
              "    </tr>\n",
              "    <tr>\n",
              "      <td>82769</td>\n",
              "      <td>City Hotel</td>\n",
              "      <td>February</td>\n",
              "      <td>BB</td>\n",
              "      <td>Groups</td>\n",
              "      <td>TA/TO</td>\n",
              "      <td>A</td>\n",
              "      <td>A</td>\n",
              "      <td>Non Refund</td>\n",
              "      <td>Transient</td>\n",
              "      <td>Canceled</td>\n",
              "      <td>2016-01-06</td>\n",
              "      <td>1</td>\n",
              "    </tr>\n",
              "  </tbody>\n",
              "</table>\n",
              "<p>95631 rows × 12 columns</p>\n",
              "</div>"
            ],
            "text/plain": [
              "              hotel arrival_date_month meal market_segment  \\\n",
              "17776  Resort Hotel            October   HB      Online TA   \n",
              "44109    City Hotel          September   HB  Offline TA/TO   \n",
              "77071    City Hotel          September   HB  Offline TA/TO   \n",
              "76770    City Hotel              March   BB         Groups   \n",
              "58274    City Hotel            October   BB      Online TA   \n",
              "...             ...                ...  ...            ...   \n",
              "69605    City Hotel               June   BB         Groups   \n",
              "60772    City Hotel           November   BB      Online TA   \n",
              "1898   Resort Hotel          September   BB      Online TA   \n",
              "74743    City Hotel          September   BB  Offline TA/TO   \n",
              "82769    City Hotel           February   BB         Groups   \n",
              "\n",
              "      distribution_channel reserved_room_type assigned_room_type deposit_type  \\\n",
              "17776                TA/TO                  E                  E   No Deposit   \n",
              "44109                TA/TO                  A                  A   Non Refund   \n",
              "77071                TA/TO                  A                  A   No Deposit   \n",
              "76770                TA/TO                  A                  A   Non Refund   \n",
              "58274                TA/TO                  A                  A   No Deposit   \n",
              "...                    ...                ...                ...          ...   \n",
              "69605                TA/TO                  A                  A   Non Refund   \n",
              "60772                TA/TO                  A                  A   No Deposit   \n",
              "1898                 TA/TO                  A                  A   No Deposit   \n",
              "74743                TA/TO                  A                  A   Non Refund   \n",
              "82769                TA/TO                  A                  A   Non Refund   \n",
              "\n",
              "         customer_type reservation_status reservation_status_date  is_canceled  \n",
              "17776        Transient          Check-Out              2015-10-21            0  \n",
              "44109        Transient           Canceled              2015-09-15            1  \n",
              "77071  Transient-Party          Check-Out              2015-09-05            0  \n",
              "76770        Transient           Canceled              2015-08-10            1  \n",
              "58274        Transient           Canceled              2016-10-09            1  \n",
              "...                ...                ...                     ...          ...  \n",
              "69605        Transient           Canceled              2017-01-24            1  \n",
              "60772        Transient           Canceled              2016-07-02            1  \n",
              "1898         Transient           Canceled              2015-04-18            1  \n",
              "74743        Transient           Canceled              2015-02-20            1  \n",
              "82769        Transient           Canceled              2016-01-06            1  \n",
              "\n",
              "[95631 rows x 12 columns]"
            ]
          },
          "metadata": {
            "tags": []
          },
          "execution_count": 86
        }
      ]
    },
    {
      "cell_type": "code",
      "metadata": {
        "id": "Tx3SGMx8GeOL",
        "colab_type": "code",
        "colab": {},
        "outputId": "12d81b93-6928-46a5-f61b-b369345e6a72"
      },
      "source": [
        "# Apply changes in all the datasets\n",
        "if cat_flag == False:\n",
        "    print('Perform encoding...')\n",
        "    train = set_cat_feat(train)\n",
        "    val = set_cat_feat(val)\n",
        "    test = set_cat_feat(test)\n",
        "    cat_flag=True\n",
        "\n",
        "train.head(10)"
      ],
      "execution_count": null,
      "outputs": [
        {
          "output_type": "stream",
          "text": [
            "Perform encoding...\n"
          ],
          "name": "stdout"
        },
        {
          "output_type": "execute_result",
          "data": {
            "text/html": [
              "<div>\n",
              "<style scoped>\n",
              "    .dataframe tbody tr th:only-of-type {\n",
              "        vertical-align: middle;\n",
              "    }\n",
              "\n",
              "    .dataframe tbody tr th {\n",
              "        vertical-align: top;\n",
              "    }\n",
              "\n",
              "    .dataframe thead th {\n",
              "        text-align: right;\n",
              "    }\n",
              "</style>\n",
              "<table border=\"1\" class=\"dataframe\">\n",
              "  <thead>\n",
              "    <tr style=\"text-align: right;\">\n",
              "      <th></th>\n",
              "      <th>hotel</th>\n",
              "      <th>is_canceled</th>\n",
              "      <th>lead_time</th>\n",
              "      <th>arrival_date_year</th>\n",
              "      <th>arrival_date_month</th>\n",
              "      <th>arrival_date_week_number</th>\n",
              "      <th>arrival_date_day_of_month</th>\n",
              "      <th>stays_in_weekend_nights</th>\n",
              "      <th>stays_in_week_nights</th>\n",
              "      <th>adults</th>\n",
              "      <th>...</th>\n",
              "      <th>DC_GDS</th>\n",
              "      <th>DC_TA/TO</th>\n",
              "      <th>DC_Undefined</th>\n",
              "      <th>CT_Contract</th>\n",
              "      <th>CT_Group</th>\n",
              "      <th>CT_Transient</th>\n",
              "      <th>CT_Transient-Party</th>\n",
              "      <th>DT_No Deposit</th>\n",
              "      <th>DT_Non Refund</th>\n",
              "      <th>DT_Refundable</th>\n",
              "    </tr>\n",
              "  </thead>\n",
              "  <tbody>\n",
              "    <tr>\n",
              "      <td>17776</td>\n",
              "      <td>0</td>\n",
              "      <td>0</td>\n",
              "      <td>11</td>\n",
              "      <td>2015</td>\n",
              "      <td>10</td>\n",
              "      <td>42</td>\n",
              "      <td>14</td>\n",
              "      <td>2</td>\n",
              "      <td>5</td>\n",
              "      <td>2</td>\n",
              "      <td>...</td>\n",
              "      <td>0</td>\n",
              "      <td>1</td>\n",
              "      <td>0</td>\n",
              "      <td>0</td>\n",
              "      <td>0</td>\n",
              "      <td>1</td>\n",
              "      <td>0</td>\n",
              "      <td>1</td>\n",
              "      <td>0</td>\n",
              "      <td>0</td>\n",
              "    </tr>\n",
              "    <tr>\n",
              "      <td>44109</td>\n",
              "      <td>1</td>\n",
              "      <td>1</td>\n",
              "      <td>30</td>\n",
              "      <td>2015</td>\n",
              "      <td>9</td>\n",
              "      <td>40</td>\n",
              "      <td>30</td>\n",
              "      <td>0</td>\n",
              "      <td>2</td>\n",
              "      <td>2</td>\n",
              "      <td>...</td>\n",
              "      <td>0</td>\n",
              "      <td>1</td>\n",
              "      <td>0</td>\n",
              "      <td>0</td>\n",
              "      <td>0</td>\n",
              "      <td>1</td>\n",
              "      <td>0</td>\n",
              "      <td>0</td>\n",
              "      <td>1</td>\n",
              "      <td>0</td>\n",
              "    </tr>\n",
              "    <tr>\n",
              "      <td>77071</td>\n",
              "      <td>1</td>\n",
              "      <td>0</td>\n",
              "      <td>219</td>\n",
              "      <td>2015</td>\n",
              "      <td>9</td>\n",
              "      <td>36</td>\n",
              "      <td>4</td>\n",
              "      <td>0</td>\n",
              "      <td>1</td>\n",
              "      <td>2</td>\n",
              "      <td>...</td>\n",
              "      <td>0</td>\n",
              "      <td>1</td>\n",
              "      <td>0</td>\n",
              "      <td>0</td>\n",
              "      <td>0</td>\n",
              "      <td>0</td>\n",
              "      <td>1</td>\n",
              "      <td>1</td>\n",
              "      <td>0</td>\n",
              "      <td>0</td>\n",
              "    </tr>\n",
              "    <tr>\n",
              "      <td>76770</td>\n",
              "      <td>1</td>\n",
              "      <td>1</td>\n",
              "      <td>395</td>\n",
              "      <td>2016</td>\n",
              "      <td>3</td>\n",
              "      <td>13</td>\n",
              "      <td>21</td>\n",
              "      <td>1</td>\n",
              "      <td>2</td>\n",
              "      <td>2</td>\n",
              "      <td>...</td>\n",
              "      <td>0</td>\n",
              "      <td>1</td>\n",
              "      <td>0</td>\n",
              "      <td>0</td>\n",
              "      <td>0</td>\n",
              "      <td>1</td>\n",
              "      <td>0</td>\n",
              "      <td>0</td>\n",
              "      <td>1</td>\n",
              "      <td>0</td>\n",
              "    </tr>\n",
              "    <tr>\n",
              "      <td>58274</td>\n",
              "      <td>1</td>\n",
              "      <td>1</td>\n",
              "      <td>42</td>\n",
              "      <td>2016</td>\n",
              "      <td>10</td>\n",
              "      <td>42</td>\n",
              "      <td>10</td>\n",
              "      <td>1</td>\n",
              "      <td>0</td>\n",
              "      <td>2</td>\n",
              "      <td>...</td>\n",
              "      <td>0</td>\n",
              "      <td>1</td>\n",
              "      <td>0</td>\n",
              "      <td>0</td>\n",
              "      <td>0</td>\n",
              "      <td>1</td>\n",
              "      <td>0</td>\n",
              "      <td>1</td>\n",
              "      <td>0</td>\n",
              "      <td>0</td>\n",
              "    </tr>\n",
              "    <tr>\n",
              "      <td>106377</td>\n",
              "      <td>1</td>\n",
              "      <td>0</td>\n",
              "      <td>7</td>\n",
              "      <td>2017</td>\n",
              "      <td>2</td>\n",
              "      <td>7</td>\n",
              "      <td>18</td>\n",
              "      <td>2</td>\n",
              "      <td>5</td>\n",
              "      <td>2</td>\n",
              "      <td>...</td>\n",
              "      <td>0</td>\n",
              "      <td>1</td>\n",
              "      <td>0</td>\n",
              "      <td>0</td>\n",
              "      <td>0</td>\n",
              "      <td>1</td>\n",
              "      <td>0</td>\n",
              "      <td>1</td>\n",
              "      <td>0</td>\n",
              "      <td>0</td>\n",
              "    </tr>\n",
              "    <tr>\n",
              "      <td>64294</td>\n",
              "      <td>1</td>\n",
              "      <td>1</td>\n",
              "      <td>85</td>\n",
              "      <td>2017</td>\n",
              "      <td>3</td>\n",
              "      <td>9</td>\n",
              "      <td>4</td>\n",
              "      <td>2</td>\n",
              "      <td>4</td>\n",
              "      <td>2</td>\n",
              "      <td>...</td>\n",
              "      <td>0</td>\n",
              "      <td>1</td>\n",
              "      <td>0</td>\n",
              "      <td>0</td>\n",
              "      <td>0</td>\n",
              "      <td>1</td>\n",
              "      <td>0</td>\n",
              "      <td>1</td>\n",
              "      <td>0</td>\n",
              "      <td>0</td>\n",
              "    </tr>\n",
              "    <tr>\n",
              "      <td>82467</td>\n",
              "      <td>1</td>\n",
              "      <td>0</td>\n",
              "      <td>53</td>\n",
              "      <td>2015</td>\n",
              "      <td>12</td>\n",
              "      <td>53</td>\n",
              "      <td>29</td>\n",
              "      <td>0</td>\n",
              "      <td>2</td>\n",
              "      <td>2</td>\n",
              "      <td>...</td>\n",
              "      <td>0</td>\n",
              "      <td>1</td>\n",
              "      <td>0</td>\n",
              "      <td>1</td>\n",
              "      <td>0</td>\n",
              "      <td>0</td>\n",
              "      <td>0</td>\n",
              "      <td>1</td>\n",
              "      <td>0</td>\n",
              "      <td>0</td>\n",
              "    </tr>\n",
              "    <tr>\n",
              "      <td>18481</td>\n",
              "      <td>0</td>\n",
              "      <td>0</td>\n",
              "      <td>0</td>\n",
              "      <td>2015</td>\n",
              "      <td>11</td>\n",
              "      <td>47</td>\n",
              "      <td>17</td>\n",
              "      <td>0</td>\n",
              "      <td>4</td>\n",
              "      <td>1</td>\n",
              "      <td>...</td>\n",
              "      <td>0</td>\n",
              "      <td>0</td>\n",
              "      <td>0</td>\n",
              "      <td>0</td>\n",
              "      <td>0</td>\n",
              "      <td>0</td>\n",
              "      <td>1</td>\n",
              "      <td>1</td>\n",
              "      <td>0</td>\n",
              "      <td>0</td>\n",
              "    </tr>\n",
              "    <tr>\n",
              "      <td>36692</td>\n",
              "      <td>0</td>\n",
              "      <td>0</td>\n",
              "      <td>13</td>\n",
              "      <td>2017</td>\n",
              "      <td>5</td>\n",
              "      <td>21</td>\n",
              "      <td>21</td>\n",
              "      <td>2</td>\n",
              "      <td>4</td>\n",
              "      <td>2</td>\n",
              "      <td>...</td>\n",
              "      <td>0</td>\n",
              "      <td>1</td>\n",
              "      <td>0</td>\n",
              "      <td>0</td>\n",
              "      <td>0</td>\n",
              "      <td>0</td>\n",
              "      <td>1</td>\n",
              "      <td>1</td>\n",
              "      <td>0</td>\n",
              "      <td>0</td>\n",
              "    </tr>\n",
              "  </tbody>\n",
              "</table>\n",
              "<p>10 rows × 47 columns</p>\n",
              "</div>"
            ],
            "text/plain": [
              "        hotel  is_canceled  lead_time  arrival_date_year  arrival_date_month  \\\n",
              "17776       0            0         11               2015                  10   \n",
              "44109       1            1         30               2015                   9   \n",
              "77071       1            0        219               2015                   9   \n",
              "76770       1            1        395               2016                   3   \n",
              "58274       1            1         42               2016                  10   \n",
              "106377      1            0          7               2017                   2   \n",
              "64294       1            1         85               2017                   3   \n",
              "82467       1            0         53               2015                  12   \n",
              "18481       0            0          0               2015                  11   \n",
              "36692       0            0         13               2017                   5   \n",
              "\n",
              "        arrival_date_week_number  arrival_date_day_of_month  \\\n",
              "17776                         42                         14   \n",
              "44109                         40                         30   \n",
              "77071                         36                          4   \n",
              "76770                         13                         21   \n",
              "58274                         42                         10   \n",
              "106377                         7                         18   \n",
              "64294                          9                          4   \n",
              "82467                         53                         29   \n",
              "18481                         47                         17   \n",
              "36692                         21                         21   \n",
              "\n",
              "        stays_in_weekend_nights  stays_in_week_nights  adults  ...  DC_GDS  \\\n",
              "17776                         2                     5       2  ...       0   \n",
              "44109                         0                     2       2  ...       0   \n",
              "77071                         0                     1       2  ...       0   \n",
              "76770                         1                     2       2  ...       0   \n",
              "58274                         1                     0       2  ...       0   \n",
              "106377                        2                     5       2  ...       0   \n",
              "64294                         2                     4       2  ...       0   \n",
              "82467                         0                     2       2  ...       0   \n",
              "18481                         0                     4       1  ...       0   \n",
              "36692                         2                     4       2  ...       0   \n",
              "\n",
              "        DC_TA/TO  DC_Undefined  CT_Contract  CT_Group  CT_Transient  \\\n",
              "17776          1             0            0         0             1   \n",
              "44109          1             0            0         0             1   \n",
              "77071          1             0            0         0             0   \n",
              "76770          1             0            0         0             1   \n",
              "58274          1             0            0         0             1   \n",
              "106377         1             0            0         0             1   \n",
              "64294          1             0            0         0             1   \n",
              "82467          1             0            1         0             0   \n",
              "18481          0             0            0         0             0   \n",
              "36692          1             0            0         0             0   \n",
              "\n",
              "        CT_Transient-Party  DT_No Deposit DT_Non Refund  DT_Refundable  \n",
              "17776                    0              1             0              0  \n",
              "44109                    0              0             1              0  \n",
              "77071                    1              1             0              0  \n",
              "76770                    0              0             1              0  \n",
              "58274                    0              1             0              0  \n",
              "106377                   0              1             0              0  \n",
              "64294                    0              1             0              0  \n",
              "82467                    0              1             0              0  \n",
              "18481                    1              1             0              0  \n",
              "36692                    1              1             0              0  \n",
              "\n",
              "[10 rows x 47 columns]"
            ]
          },
          "metadata": {
            "tags": []
          },
          "execution_count": 87
        }
      ]
    },
    {
      "cell_type": "code",
      "metadata": {
        "id": "GjKue9CPGeOP",
        "colab_type": "code",
        "colab": {},
        "outputId": "aa4122dc-c7a5-4c34-bbde-0b7672b60ac5"
      },
      "source": [
        "train.info()"
      ],
      "execution_count": null,
      "outputs": [
        {
          "output_type": "stream",
          "text": [
            "<class 'pandas.core.frame.DataFrame'>\n",
            "Int64Index: 95631 entries, 17776 to 82769\n",
            "Data columns (total 47 columns):\n",
            "hotel                             95631 non-null int64\n",
            "is_canceled                       95631 non-null int64\n",
            "lead_time                         95631 non-null int64\n",
            "arrival_date_year                 95631 non-null int64\n",
            "arrival_date_month                95631 non-null int64\n",
            "arrival_date_week_number          95631 non-null int64\n",
            "arrival_date_day_of_month         95631 non-null int64\n",
            "stays_in_weekend_nights           95631 non-null int64\n",
            "stays_in_week_nights              95631 non-null int64\n",
            "adults                            95631 non-null int64\n",
            "children                          95631 non-null float64\n",
            "babies                            95631 non-null int64\n",
            "is_repeated_guest                 95631 non-null int64\n",
            "previous_bookings_not_canceled    95631 non-null int64\n",
            "days_in_waiting_list              95631 non-null int64\n",
            "adr                               95631 non-null float64\n",
            "required_car_parking_spaces       95631 non-null int64\n",
            "total_of_special_requests         95631 non-null int64\n",
            "reservation_status_date           95631 non-null object\n",
            "is_change                         95631 non-null int64\n",
            "previous_cancellation_per         95631 non-null int64\n",
            "assigned/reserved                 95631 non-null int64\n",
            "meal_BB                           95631 non-null uint8\n",
            "meal_FB                           95631 non-null uint8\n",
            "meal_HB                           95631 non-null uint8\n",
            "meal_SC                           95631 non-null uint8\n",
            "meal_Undefined                    95631 non-null uint8\n",
            "MS_Aviation                       95631 non-null uint8\n",
            "MS_Complementary                  95631 non-null uint8\n",
            "MS_Corporate                      95631 non-null uint8\n",
            "MS_Direct                         95631 non-null uint8\n",
            "MS_Groups                         95631 non-null uint8\n",
            "MS_Offline TA/TO                  95631 non-null uint8\n",
            "MS_Online TA                      95631 non-null uint8\n",
            "MS_Undefined                      95631 non-null uint8\n",
            "DC_Corporate                      95631 non-null uint8\n",
            "DC_Direct                         95631 non-null uint8\n",
            "DC_GDS                            95631 non-null uint8\n",
            "DC_TA/TO                          95631 non-null uint8\n",
            "DC_Undefined                      95631 non-null uint8\n",
            "CT_Contract                       95631 non-null uint8\n",
            "CT_Group                          95631 non-null uint8\n",
            "CT_Transient                      95631 non-null uint8\n",
            "CT_Transient-Party                95631 non-null uint8\n",
            "DT_No Deposit                     95631 non-null uint8\n",
            "DT_Non Refund                     95631 non-null uint8\n",
            "DT_Refundable                     95631 non-null uint8\n",
            "dtypes: float64(2), int64(19), object(1), uint8(25)\n",
            "memory usage: 21.6+ MB\n"
          ],
          "name": "stdout"
        }
      ]
    },
    {
      "cell_type": "markdown",
      "metadata": {
        "id": "NTgFuNLkGeOR",
        "colab_type": "text"
      },
      "source": [
        "### Dates\n",
        "reservation_status_date \n",
        "* reservation_status : Reservation last status, assuming one of three categories: Canceled – booking was canceled by the customer; Check-Out – customer has checked in but already departed; No-Show – customer did not check-in and did inform the hotel of the reason why"
      ]
    },
    {
      "cell_type": "code",
      "metadata": {
        "id": "7nTOoUJXGeOR",
        "colab_type": "code",
        "colab": {},
        "outputId": "97527cea-3049-4a33-e742-3652549686a3"
      },
      "source": [
        "object_list = train.dtypes.index[train.dtypes=='object'].values\n",
        "object_list"
      ],
      "execution_count": null,
      "outputs": [
        {
          "output_type": "execute_result",
          "data": {
            "text/plain": [
              "array(['reservation_status_date'], dtype=object)"
            ]
          },
          "metadata": {
            "tags": []
          },
          "execution_count": 89
        }
      ]
    },
    {
      "cell_type": "code",
      "metadata": {
        "id": "ZSL-nX9mGeOT",
        "colab_type": "code",
        "colab": {},
        "outputId": "20175f52-4432-4afb-f8d0-041c10cbe30f"
      },
      "source": [
        "object_feat = object_list[0] # reservation_status_date\n",
        "minibatch = train.loc[:,[object_feat]]\n",
        "minibatch"
      ],
      "execution_count": null,
      "outputs": [
        {
          "output_type": "execute_result",
          "data": {
            "text/html": [
              "<div>\n",
              "<style scoped>\n",
              "    .dataframe tbody tr th:only-of-type {\n",
              "        vertical-align: middle;\n",
              "    }\n",
              "\n",
              "    .dataframe tbody tr th {\n",
              "        vertical-align: top;\n",
              "    }\n",
              "\n",
              "    .dataframe thead th {\n",
              "        text-align: right;\n",
              "    }\n",
              "</style>\n",
              "<table border=\"1\" class=\"dataframe\">\n",
              "  <thead>\n",
              "    <tr style=\"text-align: right;\">\n",
              "      <th></th>\n",
              "      <th>reservation_status_date</th>\n",
              "    </tr>\n",
              "  </thead>\n",
              "  <tbody>\n",
              "    <tr>\n",
              "      <td>17776</td>\n",
              "      <td>2015-10-21</td>\n",
              "    </tr>\n",
              "    <tr>\n",
              "      <td>44109</td>\n",
              "      <td>2015-09-15</td>\n",
              "    </tr>\n",
              "    <tr>\n",
              "      <td>77071</td>\n",
              "      <td>2015-09-05</td>\n",
              "    </tr>\n",
              "    <tr>\n",
              "      <td>76770</td>\n",
              "      <td>2015-08-10</td>\n",
              "    </tr>\n",
              "    <tr>\n",
              "      <td>58274</td>\n",
              "      <td>2016-10-09</td>\n",
              "    </tr>\n",
              "    <tr>\n",
              "      <td>...</td>\n",
              "      <td>...</td>\n",
              "    </tr>\n",
              "    <tr>\n",
              "      <td>69605</td>\n",
              "      <td>2017-01-24</td>\n",
              "    </tr>\n",
              "    <tr>\n",
              "      <td>60772</td>\n",
              "      <td>2016-07-02</td>\n",
              "    </tr>\n",
              "    <tr>\n",
              "      <td>1898</td>\n",
              "      <td>2015-04-18</td>\n",
              "    </tr>\n",
              "    <tr>\n",
              "      <td>74743</td>\n",
              "      <td>2015-02-20</td>\n",
              "    </tr>\n",
              "    <tr>\n",
              "      <td>82769</td>\n",
              "      <td>2016-01-06</td>\n",
              "    </tr>\n",
              "  </tbody>\n",
              "</table>\n",
              "<p>95631 rows × 1 columns</p>\n",
              "</div>"
            ],
            "text/plain": [
              "      reservation_status_date\n",
              "17776              2015-10-21\n",
              "44109              2015-09-15\n",
              "77071              2015-09-05\n",
              "76770              2015-08-10\n",
              "58274              2016-10-09\n",
              "...                       ...\n",
              "69605              2017-01-24\n",
              "60772              2016-07-02\n",
              "1898               2015-04-18\n",
              "74743              2015-02-20\n",
              "82769              2016-01-06\n",
              "\n",
              "[95631 rows x 1 columns]"
            ]
          },
          "metadata": {
            "tags": []
          },
          "execution_count": 90
        }
      ]
    },
    {
      "cell_type": "code",
      "metadata": {
        "id": "KVJhl520GeOY",
        "colab_type": "code",
        "colab": {},
        "outputId": "da2cb08b-2950-462e-db26-66c70bbe843c"
      },
      "source": [
        "minibatch[['res_year','res_month','res_day']] = minibatch[object_feat].str.split('-', expand=True).astype(int)\n",
        "minibatch"
      ],
      "execution_count": null,
      "outputs": [
        {
          "output_type": "execute_result",
          "data": {
            "text/html": [
              "<div>\n",
              "<style scoped>\n",
              "    .dataframe tbody tr th:only-of-type {\n",
              "        vertical-align: middle;\n",
              "    }\n",
              "\n",
              "    .dataframe tbody tr th {\n",
              "        vertical-align: top;\n",
              "    }\n",
              "\n",
              "    .dataframe thead th {\n",
              "        text-align: right;\n",
              "    }\n",
              "</style>\n",
              "<table border=\"1\" class=\"dataframe\">\n",
              "  <thead>\n",
              "    <tr style=\"text-align: right;\">\n",
              "      <th></th>\n",
              "      <th>reservation_status_date</th>\n",
              "      <th>res_year</th>\n",
              "      <th>res_month</th>\n",
              "      <th>res_day</th>\n",
              "    </tr>\n",
              "  </thead>\n",
              "  <tbody>\n",
              "    <tr>\n",
              "      <td>17776</td>\n",
              "      <td>2015-10-21</td>\n",
              "      <td>2015</td>\n",
              "      <td>10</td>\n",
              "      <td>21</td>\n",
              "    </tr>\n",
              "    <tr>\n",
              "      <td>44109</td>\n",
              "      <td>2015-09-15</td>\n",
              "      <td>2015</td>\n",
              "      <td>9</td>\n",
              "      <td>15</td>\n",
              "    </tr>\n",
              "    <tr>\n",
              "      <td>77071</td>\n",
              "      <td>2015-09-05</td>\n",
              "      <td>2015</td>\n",
              "      <td>9</td>\n",
              "      <td>5</td>\n",
              "    </tr>\n",
              "    <tr>\n",
              "      <td>76770</td>\n",
              "      <td>2015-08-10</td>\n",
              "      <td>2015</td>\n",
              "      <td>8</td>\n",
              "      <td>10</td>\n",
              "    </tr>\n",
              "    <tr>\n",
              "      <td>58274</td>\n",
              "      <td>2016-10-09</td>\n",
              "      <td>2016</td>\n",
              "      <td>10</td>\n",
              "      <td>9</td>\n",
              "    </tr>\n",
              "    <tr>\n",
              "      <td>...</td>\n",
              "      <td>...</td>\n",
              "      <td>...</td>\n",
              "      <td>...</td>\n",
              "      <td>...</td>\n",
              "    </tr>\n",
              "    <tr>\n",
              "      <td>69605</td>\n",
              "      <td>2017-01-24</td>\n",
              "      <td>2017</td>\n",
              "      <td>1</td>\n",
              "      <td>24</td>\n",
              "    </tr>\n",
              "    <tr>\n",
              "      <td>60772</td>\n",
              "      <td>2016-07-02</td>\n",
              "      <td>2016</td>\n",
              "      <td>7</td>\n",
              "      <td>2</td>\n",
              "    </tr>\n",
              "    <tr>\n",
              "      <td>1898</td>\n",
              "      <td>2015-04-18</td>\n",
              "      <td>2015</td>\n",
              "      <td>4</td>\n",
              "      <td>18</td>\n",
              "    </tr>\n",
              "    <tr>\n",
              "      <td>74743</td>\n",
              "      <td>2015-02-20</td>\n",
              "      <td>2015</td>\n",
              "      <td>2</td>\n",
              "      <td>20</td>\n",
              "    </tr>\n",
              "    <tr>\n",
              "      <td>82769</td>\n",
              "      <td>2016-01-06</td>\n",
              "      <td>2016</td>\n",
              "      <td>1</td>\n",
              "      <td>6</td>\n",
              "    </tr>\n",
              "  </tbody>\n",
              "</table>\n",
              "<p>95631 rows × 4 columns</p>\n",
              "</div>"
            ],
            "text/plain": [
              "      reservation_status_date  res_year  res_month  res_day\n",
              "17776              2015-10-21      2015         10       21\n",
              "44109              2015-09-15      2015          9       15\n",
              "77071              2015-09-05      2015          9        5\n",
              "76770              2015-08-10      2015          8       10\n",
              "58274              2016-10-09      2016         10        9\n",
              "...                       ...       ...        ...      ...\n",
              "69605              2017-01-24      2017          1       24\n",
              "60772              2016-07-02      2016          7        2\n",
              "1898               2015-04-18      2015          4       18\n",
              "74743              2015-02-20      2015          2       20\n",
              "82769              2016-01-06      2016          1        6\n",
              "\n",
              "[95631 rows x 4 columns]"
            ]
          },
          "metadata": {
            "tags": []
          },
          "execution_count": 91
        }
      ]
    },
    {
      "cell_type": "code",
      "metadata": {
        "id": "KG4svHBWGeOa",
        "colab_type": "code",
        "colab": {},
        "outputId": "926eb3c4-d481-4b38-bd32-c9eb0acf82a6"
      },
      "source": [
        "minibatch['res_year'].value_counts(normalize=True)"
      ],
      "execution_count": null,
      "outputs": [
        {
          "output_type": "execute_result",
          "data": {
            "text/plain": [
              "2016    0.484832\n",
              "2017    0.305476\n",
              "2015    0.208248\n",
              "2014    0.001443\n",
              "Name: res_year, dtype: float64"
            ]
          },
          "metadata": {
            "tags": []
          },
          "execution_count": 92
        }
      ]
    },
    {
      "cell_type": "code",
      "metadata": {
        "id": "5im1Gs90GeOd",
        "colab_type": "code",
        "colab": {},
        "outputId": "abb0fdcc-771c-490e-8c13-94d6bf201cd9"
      },
      "source": [
        "train['arrival_date_year' ].value_counts(normalize=True)"
      ],
      "execution_count": null,
      "outputs": [
        {
          "output_type": "execute_result",
          "data": {
            "text/plain": [
              "2016    0.475683\n",
              "2017    0.340423\n",
              "2015    0.183894\n",
              "Name: arrival_date_year, dtype: float64"
            ]
          },
          "metadata": {
            "tags": []
          },
          "execution_count": 93
        }
      ]
    },
    {
      "cell_type": "code",
      "metadata": {
        "id": "bnyY3b2BGeOh",
        "colab_type": "code",
        "colab": {}
      },
      "source": [
        "def adjust_dates(df):\n",
        "    object_feat = 'reservation_status_date'\n",
        "    df[['res_year','res_month','res_day']] = df[object_feat].str.split('-', expand=True).astype(int)\n",
        "    df = df.drop(object_feat, axis = 1)\n",
        "    years_dict = {2014:1,2015:2,2016:3,2017:4}\n",
        "    df['res_year'] = df['res_year'].map(years_dict)\n",
        "    df['arrival_date_year'] = df['arrival_date_year'].map(years_dict)\n",
        "    \n",
        "    return df"
      ],
      "execution_count": null,
      "outputs": []
    },
    {
      "cell_type": "code",
      "metadata": {
        "id": "BqJTnATaGeOj",
        "colab_type": "code",
        "colab": {}
      },
      "source": [
        "train = adjust_dates(train)\n",
        "val = adjust_dates(val)\n",
        "test = adjust_dates(test) "
      ],
      "execution_count": null,
      "outputs": []
    },
    {
      "cell_type": "markdown",
      "metadata": {
        "id": "4TXxiiEFGeOk",
        "colab_type": "text"
      },
      "source": [
        "## Final Preprocessing"
      ]
    },
    {
      "cell_type": "code",
      "metadata": {
        "id": "ZBvicV2aGeOl",
        "colab_type": "code",
        "colab": {},
        "outputId": "ed53e07d-145a-4263-8368-dc5c505a07c1"
      },
      "source": [
        "train.info()"
      ],
      "execution_count": null,
      "outputs": [
        {
          "output_type": "stream",
          "text": [
            "<class 'pandas.core.frame.DataFrame'>\n",
            "Int64Index: 95631 entries, 17776 to 82769\n",
            "Data columns (total 49 columns):\n",
            "hotel                             95631 non-null int64\n",
            "is_canceled                       95631 non-null int64\n",
            "lead_time                         95631 non-null int64\n",
            "arrival_date_year                 95631 non-null int64\n",
            "arrival_date_month                95631 non-null int64\n",
            "arrival_date_week_number          95631 non-null int64\n",
            "arrival_date_day_of_month         95631 non-null int64\n",
            "stays_in_weekend_nights           95631 non-null int64\n",
            "stays_in_week_nights              95631 non-null int64\n",
            "adults                            95631 non-null int64\n",
            "children                          95631 non-null float64\n",
            "babies                            95631 non-null int64\n",
            "is_repeated_guest                 95631 non-null int64\n",
            "previous_bookings_not_canceled    95631 non-null int64\n",
            "days_in_waiting_list              95631 non-null int64\n",
            "adr                               95631 non-null float64\n",
            "required_car_parking_spaces       95631 non-null int64\n",
            "total_of_special_requests         95631 non-null int64\n",
            "is_change                         95631 non-null int64\n",
            "previous_cancellation_per         95631 non-null int64\n",
            "assigned/reserved                 95631 non-null int64\n",
            "meal_BB                           95631 non-null uint8\n",
            "meal_FB                           95631 non-null uint8\n",
            "meal_HB                           95631 non-null uint8\n",
            "meal_SC                           95631 non-null uint8\n",
            "meal_Undefined                    95631 non-null uint8\n",
            "MS_Aviation                       95631 non-null uint8\n",
            "MS_Complementary                  95631 non-null uint8\n",
            "MS_Corporate                      95631 non-null uint8\n",
            "MS_Direct                         95631 non-null uint8\n",
            "MS_Groups                         95631 non-null uint8\n",
            "MS_Offline TA/TO                  95631 non-null uint8\n",
            "MS_Online TA                      95631 non-null uint8\n",
            "MS_Undefined                      95631 non-null uint8\n",
            "DC_Corporate                      95631 non-null uint8\n",
            "DC_Direct                         95631 non-null uint8\n",
            "DC_GDS                            95631 non-null uint8\n",
            "DC_TA/TO                          95631 non-null uint8\n",
            "DC_Undefined                      95631 non-null uint8\n",
            "CT_Contract                       95631 non-null uint8\n",
            "CT_Group                          95631 non-null uint8\n",
            "CT_Transient                      95631 non-null uint8\n",
            "CT_Transient-Party                95631 non-null uint8\n",
            "DT_No Deposit                     95631 non-null uint8\n",
            "DT_Non Refund                     95631 non-null uint8\n",
            "DT_Refundable                     95631 non-null uint8\n",
            "res_year                          95631 non-null int64\n",
            "res_month                         95631 non-null int32\n",
            "res_day                           95631 non-null int32\n",
            "dtypes: float64(2), int32(2), int64(20), uint8(25)\n",
            "memory usage: 22.3 MB\n"
          ],
          "name": "stdout"
        }
      ]
    },
    {
      "cell_type": "code",
      "metadata": {
        "id": "Oeje66DQGeOp",
        "colab_type": "code",
        "colab": {},
        "outputId": "ea96c75a-86dd-4c74-c210-d845402d00e5"
      },
      "source": [
        "missing_test = train.columns.values.tolist()\n",
        "for i in train.columns.values:\n",
        "    for j in test.columns.values:\n",
        "        if i==j:\n",
        "            missing_test.remove(i)\n",
        "missing_val = train.columns.values.tolist()\n",
        "for i in train.columns.values:\n",
        "    for j in val.columns.values:\n",
        "        if i==j:\n",
        "            missing_val.remove(i)\n",
        "missing_test, missing_val"
      ],
      "execution_count": null,
      "outputs": [
        {
          "output_type": "execute_result",
          "data": {
            "text/plain": [
              "(['MS_Undefined', 'DC_Undefined'], ['MS_Undefined', 'DC_Undefined'])"
            ]
          },
          "metadata": {
            "tags": []
          },
          "execution_count": 97
        }
      ]
    },
    {
      "cell_type": "code",
      "metadata": {
        "id": "LaxCefjVGeOr",
        "colab_type": "code",
        "colab": {},
        "outputId": "8c0dd73b-8577-4729-b247-4df629bcecf6"
      },
      "source": [
        "for col in missing_val:\n",
        "    val[col]=0\n",
        "for col in missing_test:\n",
        "    test[col]=0\n",
        "\n",
        "test.head()"
      ],
      "execution_count": null,
      "outputs": [
        {
          "output_type": "execute_result",
          "data": {
            "text/html": [
              "<div>\n",
              "<style scoped>\n",
              "    .dataframe tbody tr th:only-of-type {\n",
              "        vertical-align: middle;\n",
              "    }\n",
              "\n",
              "    .dataframe tbody tr th {\n",
              "        vertical-align: top;\n",
              "    }\n",
              "\n",
              "    .dataframe thead th {\n",
              "        text-align: right;\n",
              "    }\n",
              "</style>\n",
              "<table border=\"1\" class=\"dataframe\">\n",
              "  <thead>\n",
              "    <tr style=\"text-align: right;\">\n",
              "      <th></th>\n",
              "      <th>hotel</th>\n",
              "      <th>is_canceled</th>\n",
              "      <th>lead_time</th>\n",
              "      <th>arrival_date_year</th>\n",
              "      <th>arrival_date_month</th>\n",
              "      <th>arrival_date_week_number</th>\n",
              "      <th>arrival_date_day_of_month</th>\n",
              "      <th>stays_in_weekend_nights</th>\n",
              "      <th>stays_in_week_nights</th>\n",
              "      <th>adults</th>\n",
              "      <th>...</th>\n",
              "      <th>CT_Transient</th>\n",
              "      <th>CT_Transient-Party</th>\n",
              "      <th>DT_No Deposit</th>\n",
              "      <th>DT_Non Refund</th>\n",
              "      <th>DT_Refundable</th>\n",
              "      <th>res_year</th>\n",
              "      <th>res_month</th>\n",
              "      <th>res_day</th>\n",
              "      <th>MS_Undefined</th>\n",
              "      <th>DC_Undefined</th>\n",
              "    </tr>\n",
              "  </thead>\n",
              "  <tbody>\n",
              "    <tr>\n",
              "      <td>30946</td>\n",
              "      <td>0</td>\n",
              "      <td>0</td>\n",
              "      <td>203</td>\n",
              "      <td>3</td>\n",
              "      <td>12</td>\n",
              "      <td>49</td>\n",
              "      <td>2</td>\n",
              "      <td>2</td>\n",
              "      <td>5</td>\n",
              "      <td>2</td>\n",
              "      <td>...</td>\n",
              "      <td>1</td>\n",
              "      <td>0</td>\n",
              "      <td>1</td>\n",
              "      <td>0</td>\n",
              "      <td>0</td>\n",
              "      <td>3</td>\n",
              "      <td>12</td>\n",
              "      <td>9</td>\n",
              "      <td>0</td>\n",
              "      <td>0</td>\n",
              "    </tr>\n",
              "    <tr>\n",
              "      <td>40207</td>\n",
              "      <td>1</td>\n",
              "      <td>1</td>\n",
              "      <td>82</td>\n",
              "      <td>2</td>\n",
              "      <td>7</td>\n",
              "      <td>29</td>\n",
              "      <td>16</td>\n",
              "      <td>0</td>\n",
              "      <td>3</td>\n",
              "      <td>2</td>\n",
              "      <td>...</td>\n",
              "      <td>1</td>\n",
              "      <td>0</td>\n",
              "      <td>1</td>\n",
              "      <td>0</td>\n",
              "      <td>0</td>\n",
              "      <td>2</td>\n",
              "      <td>7</td>\n",
              "      <td>16</td>\n",
              "      <td>0</td>\n",
              "      <td>0</td>\n",
              "    </tr>\n",
              "    <tr>\n",
              "      <td>103708</td>\n",
              "      <td>1</td>\n",
              "      <td>0</td>\n",
              "      <td>25</td>\n",
              "      <td>3</td>\n",
              "      <td>12</td>\n",
              "      <td>53</td>\n",
              "      <td>27</td>\n",
              "      <td>0</td>\n",
              "      <td>3</td>\n",
              "      <td>3</td>\n",
              "      <td>...</td>\n",
              "      <td>0</td>\n",
              "      <td>1</td>\n",
              "      <td>1</td>\n",
              "      <td>0</td>\n",
              "      <td>0</td>\n",
              "      <td>3</td>\n",
              "      <td>12</td>\n",
              "      <td>30</td>\n",
              "      <td>0</td>\n",
              "      <td>0</td>\n",
              "    </tr>\n",
              "    <tr>\n",
              "      <td>85144</td>\n",
              "      <td>1</td>\n",
              "      <td>0</td>\n",
              "      <td>1</td>\n",
              "      <td>3</td>\n",
              "      <td>3</td>\n",
              "      <td>11</td>\n",
              "      <td>9</td>\n",
              "      <td>0</td>\n",
              "      <td>1</td>\n",
              "      <td>1</td>\n",
              "      <td>...</td>\n",
              "      <td>0</td>\n",
              "      <td>1</td>\n",
              "      <td>1</td>\n",
              "      <td>0</td>\n",
              "      <td>0</td>\n",
              "      <td>3</td>\n",
              "      <td>3</td>\n",
              "      <td>10</td>\n",
              "      <td>0</td>\n",
              "      <td>0</td>\n",
              "    </tr>\n",
              "    <tr>\n",
              "      <td>109991</td>\n",
              "      <td>1</td>\n",
              "      <td>0</td>\n",
              "      <td>70</td>\n",
              "      <td>4</td>\n",
              "      <td>4</td>\n",
              "      <td>16</td>\n",
              "      <td>16</td>\n",
              "      <td>2</td>\n",
              "      <td>2</td>\n",
              "      <td>2</td>\n",
              "      <td>...</td>\n",
              "      <td>1</td>\n",
              "      <td>0</td>\n",
              "      <td>1</td>\n",
              "      <td>0</td>\n",
              "      <td>0</td>\n",
              "      <td>4</td>\n",
              "      <td>4</td>\n",
              "      <td>20</td>\n",
              "      <td>0</td>\n",
              "      <td>0</td>\n",
              "    </tr>\n",
              "  </tbody>\n",
              "</table>\n",
              "<p>5 rows × 49 columns</p>\n",
              "</div>"
            ],
            "text/plain": [
              "        hotel  is_canceled  lead_time  arrival_date_year  arrival_date_month  \\\n",
              "30946       0            0        203                  3                  12   \n",
              "40207       1            1         82                  2                   7   \n",
              "103708      1            0         25                  3                  12   \n",
              "85144       1            0          1                  3                   3   \n",
              "109991      1            0         70                  4                   4   \n",
              "\n",
              "        arrival_date_week_number  arrival_date_day_of_month  \\\n",
              "30946                         49                          2   \n",
              "40207                         29                         16   \n",
              "103708                        53                         27   \n",
              "85144                         11                          9   \n",
              "109991                        16                         16   \n",
              "\n",
              "        stays_in_weekend_nights  stays_in_week_nights  adults  ...  \\\n",
              "30946                         2                     5       2  ...   \n",
              "40207                         0                     3       2  ...   \n",
              "103708                        0                     3       3  ...   \n",
              "85144                         0                     1       1  ...   \n",
              "109991                        2                     2       2  ...   \n",
              "\n",
              "        CT_Transient  CT_Transient-Party  DT_No Deposit  DT_Non Refund  \\\n",
              "30946              1                   0              1              0   \n",
              "40207              1                   0              1              0   \n",
              "103708             0                   1              1              0   \n",
              "85144              0                   1              1              0   \n",
              "109991             1                   0              1              0   \n",
              "\n",
              "        DT_Refundable  res_year  res_month  res_day  MS_Undefined  \\\n",
              "30946               0         3         12        9             0   \n",
              "40207               0         2          7       16             0   \n",
              "103708              0         3         12       30             0   \n",
              "85144               0         3          3       10             0   \n",
              "109991              0         4          4       20             0   \n",
              "\n",
              "        DC_Undefined  \n",
              "30946              0  \n",
              "40207              0  \n",
              "103708             0  \n",
              "85144              0  \n",
              "109991             0  \n",
              "\n",
              "[5 rows x 49 columns]"
            ]
          },
          "metadata": {
            "tags": []
          },
          "execution_count": 98
        }
      ]
    },
    {
      "cell_type": "code",
      "metadata": {
        "id": "EMSPaELvGeOt",
        "colab_type": "code",
        "colab": {},
        "outputId": "6898596a-ac8a-4a00-b712-d0a441ac639b"
      },
      "source": [
        "# Resort the columns\n",
        "train = train.reindex(sorted(train.columns), axis=1)\n",
        "val = val.reindex(sorted(train.columns), axis=1)\n",
        "test = test.reindex(sorted(train.columns), axis=1)\n",
        "train.head()"
      ],
      "execution_count": null,
      "outputs": [
        {
          "output_type": "execute_result",
          "data": {
            "text/html": [
              "<div>\n",
              "<style scoped>\n",
              "    .dataframe tbody tr th:only-of-type {\n",
              "        vertical-align: middle;\n",
              "    }\n",
              "\n",
              "    .dataframe tbody tr th {\n",
              "        vertical-align: top;\n",
              "    }\n",
              "\n",
              "    .dataframe thead th {\n",
              "        text-align: right;\n",
              "    }\n",
              "</style>\n",
              "<table border=\"1\" class=\"dataframe\">\n",
              "  <thead>\n",
              "    <tr style=\"text-align: right;\">\n",
              "      <th></th>\n",
              "      <th>CT_Contract</th>\n",
              "      <th>CT_Group</th>\n",
              "      <th>CT_Transient</th>\n",
              "      <th>CT_Transient-Party</th>\n",
              "      <th>DC_Corporate</th>\n",
              "      <th>DC_Direct</th>\n",
              "      <th>DC_GDS</th>\n",
              "      <th>DC_TA/TO</th>\n",
              "      <th>DC_Undefined</th>\n",
              "      <th>DT_No Deposit</th>\n",
              "      <th>...</th>\n",
              "      <th>meal_Undefined</th>\n",
              "      <th>previous_bookings_not_canceled</th>\n",
              "      <th>previous_cancellation_per</th>\n",
              "      <th>required_car_parking_spaces</th>\n",
              "      <th>res_day</th>\n",
              "      <th>res_month</th>\n",
              "      <th>res_year</th>\n",
              "      <th>stays_in_week_nights</th>\n",
              "      <th>stays_in_weekend_nights</th>\n",
              "      <th>total_of_special_requests</th>\n",
              "    </tr>\n",
              "  </thead>\n",
              "  <tbody>\n",
              "    <tr>\n",
              "      <td>17776</td>\n",
              "      <td>0</td>\n",
              "      <td>0</td>\n",
              "      <td>1</td>\n",
              "      <td>0</td>\n",
              "      <td>0</td>\n",
              "      <td>0</td>\n",
              "      <td>0</td>\n",
              "      <td>1</td>\n",
              "      <td>0</td>\n",
              "      <td>1</td>\n",
              "      <td>...</td>\n",
              "      <td>0</td>\n",
              "      <td>0</td>\n",
              "      <td>0</td>\n",
              "      <td>1</td>\n",
              "      <td>21</td>\n",
              "      <td>10</td>\n",
              "      <td>2</td>\n",
              "      <td>5</td>\n",
              "      <td>2</td>\n",
              "      <td>3</td>\n",
              "    </tr>\n",
              "    <tr>\n",
              "      <td>44109</td>\n",
              "      <td>0</td>\n",
              "      <td>0</td>\n",
              "      <td>1</td>\n",
              "      <td>0</td>\n",
              "      <td>0</td>\n",
              "      <td>0</td>\n",
              "      <td>0</td>\n",
              "      <td>1</td>\n",
              "      <td>0</td>\n",
              "      <td>0</td>\n",
              "      <td>...</td>\n",
              "      <td>0</td>\n",
              "      <td>0</td>\n",
              "      <td>0</td>\n",
              "      <td>0</td>\n",
              "      <td>15</td>\n",
              "      <td>9</td>\n",
              "      <td>2</td>\n",
              "      <td>2</td>\n",
              "      <td>0</td>\n",
              "      <td>0</td>\n",
              "    </tr>\n",
              "    <tr>\n",
              "      <td>77071</td>\n",
              "      <td>0</td>\n",
              "      <td>0</td>\n",
              "      <td>0</td>\n",
              "      <td>1</td>\n",
              "      <td>0</td>\n",
              "      <td>0</td>\n",
              "      <td>0</td>\n",
              "      <td>1</td>\n",
              "      <td>0</td>\n",
              "      <td>1</td>\n",
              "      <td>...</td>\n",
              "      <td>0</td>\n",
              "      <td>0</td>\n",
              "      <td>0</td>\n",
              "      <td>0</td>\n",
              "      <td>5</td>\n",
              "      <td>9</td>\n",
              "      <td>2</td>\n",
              "      <td>1</td>\n",
              "      <td>0</td>\n",
              "      <td>0</td>\n",
              "    </tr>\n",
              "    <tr>\n",
              "      <td>76770</td>\n",
              "      <td>0</td>\n",
              "      <td>0</td>\n",
              "      <td>1</td>\n",
              "      <td>0</td>\n",
              "      <td>0</td>\n",
              "      <td>0</td>\n",
              "      <td>0</td>\n",
              "      <td>1</td>\n",
              "      <td>0</td>\n",
              "      <td>0</td>\n",
              "      <td>...</td>\n",
              "      <td>0</td>\n",
              "      <td>0</td>\n",
              "      <td>2</td>\n",
              "      <td>0</td>\n",
              "      <td>10</td>\n",
              "      <td>8</td>\n",
              "      <td>2</td>\n",
              "      <td>2</td>\n",
              "      <td>1</td>\n",
              "      <td>0</td>\n",
              "    </tr>\n",
              "    <tr>\n",
              "      <td>58274</td>\n",
              "      <td>0</td>\n",
              "      <td>0</td>\n",
              "      <td>1</td>\n",
              "      <td>0</td>\n",
              "      <td>0</td>\n",
              "      <td>0</td>\n",
              "      <td>0</td>\n",
              "      <td>1</td>\n",
              "      <td>0</td>\n",
              "      <td>1</td>\n",
              "      <td>...</td>\n",
              "      <td>0</td>\n",
              "      <td>0</td>\n",
              "      <td>0</td>\n",
              "      <td>0</td>\n",
              "      <td>9</td>\n",
              "      <td>10</td>\n",
              "      <td>3</td>\n",
              "      <td>0</td>\n",
              "      <td>1</td>\n",
              "      <td>1</td>\n",
              "    </tr>\n",
              "  </tbody>\n",
              "</table>\n",
              "<p>5 rows × 49 columns</p>\n",
              "</div>"
            ],
            "text/plain": [
              "       CT_Contract  CT_Group  CT_Transient  CT_Transient-Party  DC_Corporate  \\\n",
              "17776            0         0             1                   0             0   \n",
              "44109            0         0             1                   0             0   \n",
              "77071            0         0             0                   1             0   \n",
              "76770            0         0             1                   0             0   \n",
              "58274            0         0             1                   0             0   \n",
              "\n",
              "       DC_Direct  DC_GDS  DC_TA/TO  DC_Undefined  DT_No Deposit  ...  \\\n",
              "17776          0       0         1             0              1  ...   \n",
              "44109          0       0         1             0              0  ...   \n",
              "77071          0       0         1             0              1  ...   \n",
              "76770          0       0         1             0              0  ...   \n",
              "58274          0       0         1             0              1  ...   \n",
              "\n",
              "       meal_Undefined  previous_bookings_not_canceled  \\\n",
              "17776               0                               0   \n",
              "44109               0                               0   \n",
              "77071               0                               0   \n",
              "76770               0                               0   \n",
              "58274               0                               0   \n",
              "\n",
              "       previous_cancellation_per  required_car_parking_spaces  res_day  \\\n",
              "17776                          0                            1       21   \n",
              "44109                          0                            0       15   \n",
              "77071                          0                            0        5   \n",
              "76770                          2                            0       10   \n",
              "58274                          0                            0        9   \n",
              "\n",
              "       res_month  res_year  stays_in_week_nights  stays_in_weekend_nights  \\\n",
              "17776         10         2                     5                        2   \n",
              "44109          9         2                     2                        0   \n",
              "77071          9         2                     1                        0   \n",
              "76770          8         2                     2                        1   \n",
              "58274         10         3                     0                        1   \n",
              "\n",
              "       total_of_special_requests  \n",
              "17776                          3  \n",
              "44109                          0  \n",
              "77071                          0  \n",
              "76770                          0  \n",
              "58274                          1  \n",
              "\n",
              "[5 rows x 49 columns]"
            ]
          },
          "metadata": {
            "tags": []
          },
          "execution_count": 99
        }
      ]
    },
    {
      "cell_type": "code",
      "metadata": {
        "id": "06LPSRDqGeOv",
        "colab_type": "code",
        "colab": {},
        "outputId": "8bc99016-2c6c-42c5-92a0-c546b4c3bac7"
      },
      "source": [
        "val.head()"
      ],
      "execution_count": null,
      "outputs": [
        {
          "output_type": "execute_result",
          "data": {
            "text/html": [
              "<div>\n",
              "<style scoped>\n",
              "    .dataframe tbody tr th:only-of-type {\n",
              "        vertical-align: middle;\n",
              "    }\n",
              "\n",
              "    .dataframe tbody tr th {\n",
              "        vertical-align: top;\n",
              "    }\n",
              "\n",
              "    .dataframe thead th {\n",
              "        text-align: right;\n",
              "    }\n",
              "</style>\n",
              "<table border=\"1\" class=\"dataframe\">\n",
              "  <thead>\n",
              "    <tr style=\"text-align: right;\">\n",
              "      <th></th>\n",
              "      <th>CT_Contract</th>\n",
              "      <th>CT_Group</th>\n",
              "      <th>CT_Transient</th>\n",
              "      <th>CT_Transient-Party</th>\n",
              "      <th>DC_Corporate</th>\n",
              "      <th>DC_Direct</th>\n",
              "      <th>DC_GDS</th>\n",
              "      <th>DC_TA/TO</th>\n",
              "      <th>DC_Undefined</th>\n",
              "      <th>DT_No Deposit</th>\n",
              "      <th>...</th>\n",
              "      <th>meal_Undefined</th>\n",
              "      <th>previous_bookings_not_canceled</th>\n",
              "      <th>previous_cancellation_per</th>\n",
              "      <th>required_car_parking_spaces</th>\n",
              "      <th>res_day</th>\n",
              "      <th>res_month</th>\n",
              "      <th>res_year</th>\n",
              "      <th>stays_in_week_nights</th>\n",
              "      <th>stays_in_weekend_nights</th>\n",
              "      <th>total_of_special_requests</th>\n",
              "    </tr>\n",
              "  </thead>\n",
              "  <tbody>\n",
              "    <tr>\n",
              "      <td>79254</td>\n",
              "      <td>0</td>\n",
              "      <td>0</td>\n",
              "      <td>1</td>\n",
              "      <td>0</td>\n",
              "      <td>0</td>\n",
              "      <td>0</td>\n",
              "      <td>0</td>\n",
              "      <td>1</td>\n",
              "      <td>0</td>\n",
              "      <td>0</td>\n",
              "      <td>...</td>\n",
              "      <td>0</td>\n",
              "      <td>0</td>\n",
              "      <td>2</td>\n",
              "      <td>0</td>\n",
              "      <td>23</td>\n",
              "      <td>10</td>\n",
              "      <td>2</td>\n",
              "      <td>3</td>\n",
              "      <td>0</td>\n",
              "      <td>0</td>\n",
              "    </tr>\n",
              "    <tr>\n",
              "      <td>109300</td>\n",
              "      <td>0</td>\n",
              "      <td>0</td>\n",
              "      <td>1</td>\n",
              "      <td>0</td>\n",
              "      <td>0</td>\n",
              "      <td>0</td>\n",
              "      <td>0</td>\n",
              "      <td>1</td>\n",
              "      <td>0</td>\n",
              "      <td>1</td>\n",
              "      <td>...</td>\n",
              "      <td>0</td>\n",
              "      <td>0</td>\n",
              "      <td>0</td>\n",
              "      <td>0</td>\n",
              "      <td>9</td>\n",
              "      <td>4</td>\n",
              "      <td>4</td>\n",
              "      <td>5</td>\n",
              "      <td>0</td>\n",
              "      <td>2</td>\n",
              "    </tr>\n",
              "    <tr>\n",
              "      <td>56052</td>\n",
              "      <td>0</td>\n",
              "      <td>0</td>\n",
              "      <td>1</td>\n",
              "      <td>0</td>\n",
              "      <td>0</td>\n",
              "      <td>0</td>\n",
              "      <td>0</td>\n",
              "      <td>1</td>\n",
              "      <td>0</td>\n",
              "      <td>1</td>\n",
              "      <td>...</td>\n",
              "      <td>0</td>\n",
              "      <td>0</td>\n",
              "      <td>0</td>\n",
              "      <td>0</td>\n",
              "      <td>6</td>\n",
              "      <td>7</td>\n",
              "      <td>3</td>\n",
              "      <td>1</td>\n",
              "      <td>2</td>\n",
              "      <td>0</td>\n",
              "    </tr>\n",
              "    <tr>\n",
              "      <td>37917</td>\n",
              "      <td>0</td>\n",
              "      <td>0</td>\n",
              "      <td>1</td>\n",
              "      <td>0</td>\n",
              "      <td>0</td>\n",
              "      <td>0</td>\n",
              "      <td>0</td>\n",
              "      <td>1</td>\n",
              "      <td>0</td>\n",
              "      <td>1</td>\n",
              "      <td>...</td>\n",
              "      <td>0</td>\n",
              "      <td>0</td>\n",
              "      <td>0</td>\n",
              "      <td>0</td>\n",
              "      <td>3</td>\n",
              "      <td>7</td>\n",
              "      <td>4</td>\n",
              "      <td>2</td>\n",
              "      <td>1</td>\n",
              "      <td>1</td>\n",
              "    </tr>\n",
              "    <tr>\n",
              "      <td>96642</td>\n",
              "      <td>0</td>\n",
              "      <td>0</td>\n",
              "      <td>1</td>\n",
              "      <td>0</td>\n",
              "      <td>0</td>\n",
              "      <td>0</td>\n",
              "      <td>0</td>\n",
              "      <td>1</td>\n",
              "      <td>0</td>\n",
              "      <td>1</td>\n",
              "      <td>...</td>\n",
              "      <td>0</td>\n",
              "      <td>0</td>\n",
              "      <td>0</td>\n",
              "      <td>0</td>\n",
              "      <td>5</td>\n",
              "      <td>9</td>\n",
              "      <td>3</td>\n",
              "      <td>3</td>\n",
              "      <td>1</td>\n",
              "      <td>1</td>\n",
              "    </tr>\n",
              "  </tbody>\n",
              "</table>\n",
              "<p>5 rows × 49 columns</p>\n",
              "</div>"
            ],
            "text/plain": [
              "        CT_Contract  CT_Group  CT_Transient  CT_Transient-Party  DC_Corporate  \\\n",
              "79254             0         0             1                   0             0   \n",
              "109300            0         0             1                   0             0   \n",
              "56052             0         0             1                   0             0   \n",
              "37917             0         0             1                   0             0   \n",
              "96642             0         0             1                   0             0   \n",
              "\n",
              "        DC_Direct  DC_GDS  DC_TA/TO  DC_Undefined  DT_No Deposit  ...  \\\n",
              "79254           0       0         1             0              0  ...   \n",
              "109300          0       0         1             0              1  ...   \n",
              "56052           0       0         1             0              1  ...   \n",
              "37917           0       0         1             0              1  ...   \n",
              "96642           0       0         1             0              1  ...   \n",
              "\n",
              "        meal_Undefined  previous_bookings_not_canceled  \\\n",
              "79254                0                               0   \n",
              "109300               0                               0   \n",
              "56052                0                               0   \n",
              "37917                0                               0   \n",
              "96642                0                               0   \n",
              "\n",
              "        previous_cancellation_per  required_car_parking_spaces  res_day  \\\n",
              "79254                           2                            0       23   \n",
              "109300                          0                            0        9   \n",
              "56052                           0                            0        6   \n",
              "37917                           0                            0        3   \n",
              "96642                           0                            0        5   \n",
              "\n",
              "        res_month  res_year  stays_in_week_nights  stays_in_weekend_nights  \\\n",
              "79254          10         2                     3                        0   \n",
              "109300          4         4                     5                        0   \n",
              "56052           7         3                     1                        2   \n",
              "37917           7         4                     2                        1   \n",
              "96642           9         3                     3                        1   \n",
              "\n",
              "        total_of_special_requests  \n",
              "79254                           0  \n",
              "109300                          2  \n",
              "56052                           0  \n",
              "37917                           1  \n",
              "96642                           1  \n",
              "\n",
              "[5 rows x 49 columns]"
            ]
          },
          "metadata": {
            "tags": []
          },
          "execution_count": 100
        }
      ]
    },
    {
      "cell_type": "code",
      "metadata": {
        "id": "4mPyOLVyGeOw",
        "colab_type": "code",
        "colab": {},
        "outputId": "eef4eb05-e229-452b-c4c9-b4b6dec98914"
      },
      "source": [
        "np.abs(train.corr()['is_canceled']).sort_values(ascending = False)"
      ],
      "execution_count": null,
      "outputs": [
        {
          "output_type": "execute_result",
          "data": {
            "text/plain": [
              "is_canceled                       1.000000\n",
              "DT_Non Refund                     0.481700\n",
              "DT_No Deposit                     0.478231\n",
              "lead_time                         0.292255\n",
              "previous_cancellation_per         0.285071\n",
              "assigned/reserved                 0.246208\n",
              "total_of_special_requests         0.233232\n",
              "MS_Groups                         0.220563\n",
              "required_car_parking_spaces       0.197639\n",
              "is_change                         0.187802\n",
              "DC_TA/TO                          0.174981\n",
              "MS_Direct                         0.152102\n",
              "DC_Direct                         0.149954\n",
              "hotel                             0.136690\n",
              "CT_Transient                      0.133463\n",
              "CT_Transient-Party                0.124534\n",
              "res_year                          0.116325\n",
              "is_repeated_guest                 0.086222\n",
              "MS_Corporate                      0.082747\n",
              "DC_Corporate                      0.076414\n",
              "res_month                         0.068397\n",
              "adults                            0.059558\n",
              "previous_bookings_not_canceled    0.057145\n",
              "days_in_waiting_list              0.053526\n",
              "adr                               0.046539\n",
              "MS_Complementary                  0.039250\n",
              "CT_Group                          0.038710\n",
              "meal_FB                           0.037162\n",
              "babies                            0.034907\n",
              "res_day                           0.033941\n",
              "MS_Offline TA/TO                  0.028619\n",
              "meal_Undefined                    0.026636\n",
              "stays_in_week_nights              0.026532\n",
              "CT_Contract                       0.023651\n",
              "meal_HB                           0.017392\n",
              "arrival_date_year                 0.017229\n",
              "DC_GDS                            0.014203\n",
              "MS_Aviation                       0.014185\n",
              "arrival_date_month                0.011505\n",
              "DT_Refundable                     0.011486\n",
              "meal_BB                           0.009336\n",
              "arrival_date_week_number          0.008476\n",
              "arrival_date_day_of_month         0.007642\n",
              "DC_Undefined                      0.006455\n",
              "MS_Undefined                      0.005977\n",
              "MS_Online TA                      0.005806\n",
              "meal_SC                           0.004835\n",
              "children                          0.004293\n",
              "stays_in_weekend_nights           0.000132\n",
              "Name: is_canceled, dtype: float64"
            ]
          },
          "metadata": {
            "tags": []
          },
          "execution_count": 101
        }
      ]
    },
    {
      "cell_type": "code",
      "metadata": {
        "id": "C-IdIQ0IGeOy",
        "colab_type": "code",
        "colab": {},
        "outputId": "ca604072-ab9f-4a7e-d075-74cf7a8a24d0"
      },
      "source": [
        "df_prediction"
      ],
      "execution_count": null,
      "outputs": [
        {
          "output_type": "execute_result",
          "data": {
            "text/html": [
              "<div>\n",
              "<style scoped>\n",
              "    .dataframe tbody tr th:only-of-type {\n",
              "        vertical-align: middle;\n",
              "    }\n",
              "\n",
              "    .dataframe tbody tr th {\n",
              "        vertical-align: top;\n",
              "    }\n",
              "\n",
              "    .dataframe thead th {\n",
              "        text-align: right;\n",
              "    }\n",
              "</style>\n",
              "<table border=\"1\" class=\"dataframe\">\n",
              "  <thead>\n",
              "    <tr style=\"text-align: right;\">\n",
              "      <th></th>\n",
              "      <th>Score</th>\n",
              "    </tr>\n",
              "  </thead>\n",
              "  <tbody>\n",
              "    <tr>\n",
              "      <td>Top 1 Numeric Feat</td>\n",
              "      <td>65.22</td>\n",
              "    </tr>\n",
              "    <tr>\n",
              "      <td>Top 5 Numeric Feat</td>\n",
              "      <td>75.44</td>\n",
              "    </tr>\n",
              "  </tbody>\n",
              "</table>\n",
              "</div>"
            ],
            "text/plain": [
              "                    Score\n",
              "Top 1 Numeric Feat  65.22\n",
              "Top 5 Numeric Feat  75.44"
            ]
          },
          "metadata": {
            "tags": []
          },
          "execution_count": 102
        }
      ]
    },
    {
      "cell_type": "markdown",
      "metadata": {
        "id": "7ZXbHK49GeO0",
        "colab_type": "text"
      },
      "source": [
        "The best correlation is to \"deposit transfer\" (DT) where NON-refund and No-deposit are the most informative statuses"
      ]
    },
    {
      "cell_type": "code",
      "metadata": {
        "id": "-Kqvyj2sGeO0",
        "colab_type": "code",
        "colab": {},
        "outputId": "e038e4c5-e36f-49ab-d1f8-df9e51f6607d"
      },
      "source": [
        "score_deposit = np.round((np.sum(train['DT_Non Refund']==train['is_canceled'])/len(train))*100,2)\n",
        "df_prediction.loc['Top-1 Cat. Feat','Score']=score_deposit\n",
        "score_deposit"
      ],
      "execution_count": null,
      "outputs": [
        {
          "output_type": "execute_result",
          "data": {
            "text/plain": [
              "75.1"
            ]
          },
          "metadata": {
            "tags": []
          },
          "execution_count": 103
        }
      ]
    },
    {
      "cell_type": "code",
      "metadata": {
        "id": "wuUjUTYOGeO5",
        "colab_type": "code",
        "colab": {},
        "outputId": "6f8c9e1e-c0c6-400d-be81-f370b51b62fb"
      },
      "source": [
        "#feat_to_remove = train.columns[[\"RS\" in x for x in train.columns]].values\n",
        "train.columns.shape, val.columns.shape, test.columns.shape"
      ],
      "execution_count": null,
      "outputs": [
        {
          "output_type": "execute_result",
          "data": {
            "text/plain": [
              "((49,), (49,), (49,))"
            ]
          },
          "metadata": {
            "tags": []
          },
          "execution_count": 104
        }
      ]
    },
    {
      "cell_type": "markdown",
      "metadata": {
        "id": "PYD9IwJtGeO7",
        "colab_type": "text"
      },
      "source": [
        "Upon running the PCA for the first time, set 'n_components' to 'None' and then evaluate the 'explained_variance' variable for choosing the optimal number of n_components. In this case, 100 should be fine."
      ]
    },
    {
      "cell_type": "markdown",
      "metadata": {
        "id": "aha8LerQGeO7",
        "colab_type": "text"
      },
      "source": [
        "# 3. Model"
      ]
    },
    {
      "cell_type": "code",
      "metadata": {
        "id": "eZ31m2K8GeO7",
        "colab_type": "code",
        "colab": {}
      },
      "source": [
        "def get_Xy(df,target):\n",
        "    X = df.drop(target, axis=1) \n",
        "    y = df[target]\n",
        "    return X,y"
      ],
      "execution_count": null,
      "outputs": []
    },
    {
      "cell_type": "code",
      "metadata": {
        "id": "fbOs2mfuGePA",
        "colab_type": "code",
        "colab": {},
        "outputId": "07f44d5b-9adf-489b-8e9e-41571d27b361"
      },
      "source": [
        "X_train, y_train = get_Xy(train,'is_canceled')\n",
        "print('X dim = {}, y dim = {}'.format(X_train.shape, y_train.shape))\n",
        "print(y_train[:5])"
      ],
      "execution_count": null,
      "outputs": [
        {
          "output_type": "stream",
          "text": [
            "X dim = (95631, 48), y dim = (95631,)\n",
            "17776    0\n",
            "44109    1\n",
            "77071    0\n",
            "76770    1\n",
            "58274    1\n",
            "Name: is_canceled, dtype: int64\n"
          ],
          "name": "stdout"
        }
      ]
    },
    {
      "cell_type": "code",
      "metadata": {
        "id": "CMD2lcKkGePD",
        "colab_type": "code",
        "colab": {}
      },
      "source": [
        "X_test, y_test = get_Xy(test, 'is_canceled')\n",
        "X_val, y_val = get_Xy(val, 'is_canceled')"
      ],
      "execution_count": null,
      "outputs": []
    },
    {
      "cell_type": "code",
      "metadata": {
        "id": "AgIuWCMYGePE",
        "colab_type": "code",
        "colab": {}
      },
      "source": [
        "# Normalize input matrix\n",
        "sc = preprocessing.StandardScaler()\n",
        "X_train = sc.fit_transform(X_train)\n",
        "X_val = sc.transform(X_val)\n",
        "X_test = sc.transform(X_test)"
      ],
      "execution_count": null,
      "outputs": []
    },
    {
      "cell_type": "code",
      "metadata": {
        "id": "hDncGJpmGePG",
        "colab_type": "code",
        "colab": {},
        "outputId": "61c78651-9438-4b11-990b-3d1f5aaa1748"
      },
      "source": [
        "X_test.shape, X_val.shape"
      ],
      "execution_count": null,
      "outputs": [
        {
          "output_type": "execute_result",
          "data": {
            "text/plain": [
              "((11939, 48), (11820, 48))"
            ]
          },
          "metadata": {
            "tags": []
          },
          "execution_count": 109
        }
      ]
    },
    {
      "cell_type": "markdown",
      "metadata": {
        "id": "LfjJW2bBGePI",
        "colab_type": "text"
      },
      "source": [
        "### Model Selection"
      ]
    },
    {
      "cell_type": "markdown",
      "metadata": {
        "id": "kDL_SA01GePJ",
        "colab_type": "text"
      },
      "source": [
        "#### Random Forest"
      ]
    },
    {
      "cell_type": "code",
      "metadata": {
        "id": "2xz912WEGePJ",
        "colab_type": "code",
        "colab": {},
        "outputId": "c4c456b9-d93f-44cc-dc68-453c5dee56c5"
      },
      "source": [
        "# we will start by running Random Forest with default hypreparameters\n",
        "rf = RandomForestClassifier()\n",
        "rf.fit(X_train, y_train)"
      ],
      "execution_count": null,
      "outputs": [
        {
          "output_type": "stream",
          "text": [
            "C:\\Users\\omrig\\Anaconda3\\lib\\site-packages\\sklearn\\ensemble\\forest.py:245: FutureWarning: The default value of n_estimators will change from 10 in version 0.20 to 100 in 0.22.\n",
            "  \"10 in version 0.20 to 100 in 0.22.\", FutureWarning)\n"
          ],
          "name": "stderr"
        },
        {
          "output_type": "execute_result",
          "data": {
            "text/plain": [
              "RandomForestClassifier(bootstrap=True, class_weight=None, criterion='gini',\n",
              "                       max_depth=None, max_features='auto', max_leaf_nodes=None,\n",
              "                       min_impurity_decrease=0.0, min_impurity_split=None,\n",
              "                       min_samples_leaf=1, min_samples_split=2,\n",
              "                       min_weight_fraction_leaf=0.0, n_estimators=10,\n",
              "                       n_jobs=None, oob_score=False, random_state=None,\n",
              "                       verbose=0, warm_start=False)"
            ]
          },
          "metadata": {
            "tags": []
          },
          "execution_count": 110
        }
      ]
    },
    {
      "cell_type": "code",
      "metadata": {
        "id": "czqPicI4GePL",
        "colab_type": "code",
        "colab": {},
        "outputId": "da1b3287-c264-441f-9efa-c3c1c8957115"
      },
      "source": [
        "rf_pred = rf.predict(X_val)\n",
        "print_score(rf_pred, y_val, 'Random Forest')"
      ],
      "execution_count": null,
      "outputs": [
        {
          "output_type": "stream",
          "text": [
            "Accuracy Score :  94.43\n"
          ],
          "name": "stdout"
        },
        {
          "output_type": "execute_result",
          "data": {
            "text/plain": [
              "<matplotlib.axes._subplots.AxesSubplot at 0x2c1d35c7d48>"
            ]
          },
          "metadata": {
            "tags": []
          },
          "execution_count": 111
        },
        {
          "output_type": "display_data",
          "data": {
            "image/png": "[encoded data removed]",
            "text/plain": [
              "<Figure size 432x288 with 2 Axes>"
            ]
          },
          "metadata": {
            "tags": [],
            "needs_background": "light"
          }
        }
      ]
    },
    {
      "cell_type": "markdown",
      "metadata": {
        "id": "tL_UGBStGePM",
        "colab_type": "text"
      },
      "source": [
        "#### Gradient Boosting"
      ]
    },
    {
      "cell_type": "code",
      "metadata": {
        "id": "2f37BQWBGePN",
        "colab_type": "code",
        "colab": {},
        "outputId": "6c75fcff-a94e-4b9d-f118-bc1b3c6f7b49"
      },
      "source": [
        "gb = GradientBoostingClassifier()\n",
        "gb.fit(X_train, y_train)"
      ],
      "execution_count": null,
      "outputs": [
        {
          "output_type": "execute_result",
          "data": {
            "text/plain": [
              "GradientBoostingClassifier(criterion='friedman_mse', init=None,\n",
              "                           learning_rate=0.1, loss='deviance', max_depth=3,\n",
              "                           max_features=None, max_leaf_nodes=None,\n",
              "                           min_impurity_decrease=0.0, min_impurity_split=None,\n",
              "                           min_samples_leaf=1, min_samples_split=2,\n",
              "                           min_weight_fraction_leaf=0.0, n_estimators=100,\n",
              "                           n_iter_no_change=None, presort='auto',\n",
              "                           random_state=None, subsample=1.0, tol=0.0001,\n",
              "                           validation_fraction=0.1, verbose=0,\n",
              "                           warm_start=False)"
            ]
          },
          "metadata": {
            "tags": []
          },
          "execution_count": 112
        }
      ]
    },
    {
      "cell_type": "code",
      "metadata": {
        "id": "qb9Dn1XZGePP",
        "colab_type": "code",
        "colab": {},
        "outputId": "1a36be27-d95d-4ede-c075-ac85425bf3d3"
      },
      "source": [
        "gb_pred = gb.predict(X_val)\n",
        "print_score(gb_pred, y_val, 'Gradient Boosting')"
      ],
      "execution_count": null,
      "outputs": [
        {
          "output_type": "stream",
          "text": [
            "Accuracy Score :  91.93\n"
          ],
          "name": "stdout"
        },
        {
          "output_type": "execute_result",
          "data": {
            "text/plain": [
              "<matplotlib.axes._subplots.AxesSubplot at 0x2c1d8c4dc08>"
            ]
          },
          "metadata": {
            "tags": []
          },
          "execution_count": 113
        },
        {
          "output_type": "display_data",
          "data": {
            "image/png": "[encoded data removed]",
            "text/plain": [
              "<Figure size 432x288 with 2 Axes>"
            ]
          },
          "metadata": {
            "tags": [],
            "needs_background": "light"
          }
        }
      ]
    },
    {
      "cell_type": "markdown",
      "metadata": {
        "id": "oefgyp8iGePT",
        "colab_type": "text"
      },
      "source": [
        "#### Logistic Regression"
      ]
    },
    {
      "cell_type": "code",
      "metadata": {
        "id": "FO5PijoqGePT",
        "colab_type": "code",
        "colab": {},
        "outputId": "63b72a2f-11e9-4585-d2cb-56cc969f72e0"
      },
      "source": [
        "log = LogisticRegression()\n",
        "log.fit(X_train, y_train)"
      ],
      "execution_count": null,
      "outputs": [
        {
          "output_type": "stream",
          "text": [
            "C:\\Users\\omrig\\Anaconda3\\lib\\site-packages\\sklearn\\linear_model\\logistic.py:432: FutureWarning: Default solver will be changed to 'lbfgs' in 0.22. Specify a solver to silence this warning.\n",
            "  FutureWarning)\n"
          ],
          "name": "stderr"
        },
        {
          "output_type": "execute_result",
          "data": {
            "text/plain": [
              "LogisticRegression(C=1.0, class_weight=None, dual=False, fit_intercept=True,\n",
              "                   intercept_scaling=1, l1_ratio=None, max_iter=100,\n",
              "                   multi_class='warn', n_jobs=None, penalty='l2',\n",
              "                   random_state=None, solver='warn', tol=0.0001, verbose=0,\n",
              "                   warm_start=False)"
            ]
          },
          "metadata": {
            "tags": []
          },
          "execution_count": 114
        }
      ]
    },
    {
      "cell_type": "code",
      "metadata": {
        "id": "jTZ0rMqdGePW",
        "colab_type": "code",
        "colab": {},
        "outputId": "da8436e8-c9fb-4f4c-ca56-52a2e5823258"
      },
      "source": [
        "log_pred = log.predict(X_val)\n",
        "print_score(log_pred, y_val, 'Logistic Regression')"
      ],
      "execution_count": null,
      "outputs": [
        {
          "output_type": "stream",
          "text": [
            "Accuracy Score :  95.25\n"
          ],
          "name": "stdout"
        },
        {
          "output_type": "execute_result",
          "data": {
            "text/plain": [
              "<matplotlib.axes._subplots.AxesSubplot at 0x2c1d8c52e08>"
            ]
          },
          "metadata": {
            "tags": []
          },
          "execution_count": 115
        },
        {
          "output_type": "display_data",
          "data": {
            "image/png": "[encoded data removed]",
            "text/plain": [
              "<Figure size 432x288 with 2 Axes>"
            ]
          },
          "metadata": {
            "tags": [],
            "needs_background": "light"
          }
        }
      ]
    },
    {
      "cell_type": "markdown",
      "metadata": {
        "id": "aoSUcWW2GePZ",
        "colab_type": "text"
      },
      "source": [
        "#### Dimensionality Reduction"
      ]
    },
    {
      "cell_type": "code",
      "metadata": {
        "id": "hlK9-LjEGePZ",
        "colab_type": "code",
        "colab": {},
        "outputId": "3f727124-fa15-4605-afba-3d6d0c91d1bd"
      },
      "source": [
        "from sklearn.decomposition import PCA\n",
        "\n",
        "pca = PCA(n_components = None)\n",
        "Xp_train = pca.fit(X_train)\n",
        "\n",
        "target_var = 0.99\n",
        "explained_variance = pca.explained_variance_ratio_\n",
        "ev_curve = np.cumsum(explained_variance)\n",
        "plt.plot(ev_curve)\n",
        "plt.plot(np.arange(len(explained_variance)),np.ones(len(explained_variance))*target_var, color='red')"
      ],
      "execution_count": null,
      "outputs": [
        {
          "output_type": "execute_result",
          "data": {
            "text/plain": [
              "[<matplotlib.lines.Line2D at 0x2c1d1253808>]"
            ]
          },
          "metadata": {
            "tags": []
          },
          "execution_count": 116
        },
        {
          "output_type": "display_data",
          "data": {
            "image/png": "[encoded data removed]",
            "text/plain": [
              "<Figure size 432x288 with 1 Axes>"
            ]
          },
          "metadata": {
            "tags": [],
            "needs_background": "light"
          }
        }
      ]
    },
    {
      "cell_type": "code",
      "metadata": {
        "id": "f9qLC4idGePb",
        "colab_type": "code",
        "colab": {},
        "outputId": "d60ed852-4198-4a9e-e60a-3cbbe3b7afde"
      },
      "source": [
        "n_components = np.min(np.where(ev_curve>target_var))\n",
        "n_components"
      ],
      "execution_count": null,
      "outputs": [
        {
          "output_type": "execute_result",
          "data": {
            "text/plain": [
              "38"
            ]
          },
          "metadata": {
            "tags": []
          },
          "execution_count": 117
        }
      ]
    },
    {
      "cell_type": "code",
      "metadata": {
        "id": "-h8nof95GePd",
        "colab_type": "code",
        "colab": {}
      },
      "source": [
        "pca = PCA(n_components = n_components)\n",
        "Xp_train = pca.fit_transform(X_train)\n",
        "Xp_test = pca.transform(X_test)\n",
        "Xp_val = pca.transform(X_val)"
      ],
      "execution_count": null,
      "outputs": []
    },
    {
      "cell_type": "code",
      "metadata": {
        "id": "LMTE_CMaGePe",
        "colab_type": "code",
        "colab": {},
        "outputId": "6a37edb0-d10c-426d-c5c7-86a48cd80423"
      },
      "source": [
        "rfp = RandomForestClassifier()\n",
        "rfp.fit(Xp_train, y_train)"
      ],
      "execution_count": null,
      "outputs": [
        {
          "output_type": "stream",
          "text": [
            "C:\\Users\\omrig\\Anaconda3\\lib\\site-packages\\sklearn\\ensemble\\forest.py:245: FutureWarning: The default value of n_estimators will change from 10 in version 0.20 to 100 in 0.22.\n",
            "  \"10 in version 0.20 to 100 in 0.22.\", FutureWarning)\n"
          ],
          "name": "stderr"
        },
        {
          "output_type": "execute_result",
          "data": {
            "text/plain": [
              "RandomForestClassifier(bootstrap=True, class_weight=None, criterion='gini',\n",
              "                       max_depth=None, max_features='auto', max_leaf_nodes=None,\n",
              "                       min_impurity_decrease=0.0, min_impurity_split=None,\n",
              "                       min_samples_leaf=1, min_samples_split=2,\n",
              "                       min_weight_fraction_leaf=0.0, n_estimators=10,\n",
              "                       n_jobs=None, oob_score=False, random_state=None,\n",
              "                       verbose=0, warm_start=False)"
            ]
          },
          "metadata": {
            "tags": []
          },
          "execution_count": 119
        }
      ]
    },
    {
      "cell_type": "code",
      "metadata": {
        "id": "4nJQiLIQGePf",
        "colab_type": "code",
        "colab": {},
        "outputId": "11158ced-52d5-4425-ed12-26a24dcdec54"
      },
      "source": [
        "rfp_pred = rfp.predict(Xp_val)\n",
        "print_score(rfp_pred, y_val, 'Random Forest (PCA)')"
      ],
      "execution_count": null,
      "outputs": [
        {
          "output_type": "stream",
          "text": [
            "Accuracy Score :  93.2\n"
          ],
          "name": "stdout"
        },
        {
          "output_type": "execute_result",
          "data": {
            "text/plain": [
              "<matplotlib.axes._subplots.AxesSubplot at 0x2c1d130f2c8>"
            ]
          },
          "metadata": {
            "tags": []
          },
          "execution_count": 120
        },
        {
          "output_type": "display_data",
          "data": {
            "image/png": "[encoded data removed]",
            "text/plain": [
              "<Figure size 432x288 with 2 Axes>"
            ]
          },
          "metadata": {
            "tags": [],
            "needs_background": "light"
          }
        }
      ]
    },
    {
      "cell_type": "code",
      "metadata": {
        "id": "-3vdH9g3GePh",
        "colab_type": "code",
        "colab": {},
        "outputId": "f3184759-653e-4494-8c7a-5a0dbdbf378a"
      },
      "source": [
        "log_p = LogisticRegression()\n",
        "log_p.fit(Xp_train, y_train)"
      ],
      "execution_count": null,
      "outputs": [
        {
          "output_type": "stream",
          "text": [
            "C:\\Users\\omrig\\Anaconda3\\lib\\site-packages\\sklearn\\linear_model\\logistic.py:432: FutureWarning: Default solver will be changed to 'lbfgs' in 0.22. Specify a solver to silence this warning.\n",
            "  FutureWarning)\n"
          ],
          "name": "stderr"
        },
        {
          "output_type": "execute_result",
          "data": {
            "text/plain": [
              "LogisticRegression(C=1.0, class_weight=None, dual=False, fit_intercept=True,\n",
              "                   intercept_scaling=1, l1_ratio=None, max_iter=100,\n",
              "                   multi_class='warn', n_jobs=None, penalty='l2',\n",
              "                   random_state=None, solver='warn', tol=0.0001, verbose=0,\n",
              "                   warm_start=False)"
            ]
          },
          "metadata": {
            "tags": []
          },
          "execution_count": 121
        }
      ]
    },
    {
      "cell_type": "code",
      "metadata": {
        "id": "2PIlxSzmGePm",
        "colab_type": "code",
        "colab": {},
        "outputId": "682b35d2-d732-49b9-cc0b-bc1249df494d"
      },
      "source": [
        "log_p_pred = log_p.predict(Xp_val)\n",
        "print_score(log_p_pred, y_val, 'Logistic Regression (PCA)')"
      ],
      "execution_count": null,
      "outputs": [
        {
          "output_type": "stream",
          "text": [
            "Accuracy Score :  81.81\n"
          ],
          "name": "stdout"
        },
        {
          "output_type": "execute_result",
          "data": {
            "text/plain": [
              "<matplotlib.axes._subplots.AxesSubplot at 0x2c1d12b0088>"
            ]
          },
          "metadata": {
            "tags": []
          },
          "execution_count": 122
        },
        {
          "output_type": "display_data",
          "data": {
            "image/png": "[encoded data removed]",
            "text/plain": [
              "<Figure size 432x288 with 2 Axes>"
            ]
          },
          "metadata": {
            "tags": [],
            "needs_background": "light"
          }
        }
      ]
    },
    {
      "cell_type": "markdown",
      "metadata": {
        "id": "w61UA18dGePo",
        "colab_type": "text"
      },
      "source": [
        "At this point PCA doesn't seems very effective, especualy for logistic regression, therfore we'll procede with the original set of features"
      ]
    },
    {
      "cell_type": "markdown",
      "metadata": {
        "id": "98KvJACaGePo",
        "colab_type": "text"
      },
      "source": [
        "### Model Tuning"
      ]
    },
    {
      "cell_type": "code",
      "metadata": {
        "id": "PsJx4IN6GePp",
        "colab_type": "code",
        "colab": {},
        "outputId": "f4dbf795-551f-45e0-8765-9cfee3f80300"
      },
      "source": [
        "rf_model = RandomForestClassifier()\n",
        "#Run a gridsearch\n",
        "rf_params = {\"max_depth\": [10,20,30,40],\n",
        "            \"max_features\": [10,20,35],\n",
        "            \"n_estimators\": [10,500,1000],\n",
        "            \"min_samples_split\": [2,5,10]}\n",
        "            \n",
        "rf_val = GridSearchCV(rf_model, \n",
        "                           rf_params, \n",
        "                           cv = 5, \n",
        "                           n_jobs = -1, \n",
        "                           verbose = 2) \n",
        "\n",
        "rf_val.fit(X_val, y_val)"
      ],
      "execution_count": null,
      "outputs": [
        {
          "output_type": "stream",
          "text": [
            "Fitting 5 folds for each of 108 candidates, totalling 540 fits\n"
          ],
          "name": "stdout"
        },
        {
          "output_type": "stream",
          "text": [
            "[Parallel(n_jobs=-1)]: Using backend LokyBackend with 4 concurrent workers.\n",
            "[Parallel(n_jobs=-1)]: Done  33 tasks      | elapsed:  1.5min\n",
            "[Parallel(n_jobs=-1)]: Done 154 tasks      | elapsed: 11.7min\n",
            "[Parallel(n_jobs=-1)]: Done 357 tasks      | elapsed: 31.5min\n",
            "[Parallel(n_jobs=-1)]: Done 540 out of 540 | elapsed: 53.3min finished\n"
          ],
          "name": "stderr"
        },
        {
          "output_type": "execute_result",
          "data": {
            "text/plain": [
              "GridSearchCV(cv=5, error_score='raise-deprecating',\n",
              "             estimator=RandomForestClassifier(bootstrap=True, class_weight=None,\n",
              "                                              criterion='gini', max_depth=None,\n",
              "                                              max_features='auto',\n",
              "                                              max_leaf_nodes=None,\n",
              "                                              min_impurity_decrease=0.0,\n",
              "                                              min_impurity_split=None,\n",
              "                                              min_samples_leaf=1,\n",
              "                                              min_samples_split=2,\n",
              "                                              min_weight_fraction_leaf=0.0,\n",
              "                                              n_estimators='warn', n_jobs=None,\n",
              "                                              oob_score=False,\n",
              "                                              random_state=None, verbose=0,\n",
              "                                              warm_start=False),\n",
              "             iid='warn', n_jobs=-1,\n",
              "             param_grid={'max_depth': [10, 20, 30, 40],\n",
              "                         'max_features': [10, 20, 35],\n",
              "                         'min_samples_split': [2, 5, 10],\n",
              "                         'n_estimators': [10, 500, 1000]},\n",
              "             pre_dispatch='2*n_jobs', refit=True, return_train_score=False,\n",
              "             scoring=None, verbose=2)"
            ]
          },
          "metadata": {
            "tags": []
          },
          "execution_count": 123
        }
      ]
    },
    {
      "cell_type": "code",
      "metadata": {
        "id": "xIjFiAz6GePr",
        "colab_type": "code",
        "colab": {},
        "outputId": "38124214-0b29-402b-f3d3-4dfb8b3ddb07"
      },
      "source": [
        "rf_val.best_params_"
      ],
      "execution_count": null,
      "outputs": [
        {
          "output_type": "execute_result",
          "data": {
            "text/plain": [
              "{'max_depth': 30,\n",
              " 'max_features': 35,\n",
              " 'min_samples_split': 2,\n",
              " 'n_estimators': 1000}"
            ]
          },
          "metadata": {
            "tags": []
          },
          "execution_count": 124
        }
      ]
    },
    {
      "cell_type": "code",
      "metadata": {
        "id": "afT9-f88GePu",
        "colab_type": "code",
        "colab": {},
        "outputId": "07626d44-f7a8-4af8-bc77-ddead10da2ae"
      },
      "source": [
        "rf_tuned = RandomForestClassifier(max_depth = rf_val.best_params_.get('max_depth'), \n",
        "                                  max_features = rf_val.best_params_.get('max_features'), \n",
        "                                  min_samples_split = rf_val.best_params_.get('min_samples_split'),\n",
        "                                  n_estimators = rf_val.best_params_.get('n_estimators'))\n",
        "\n",
        "rf_tuned.fit(X_train, y_train)"
      ],
      "execution_count": null,
      "outputs": [
        {
          "output_type": "execute_result",
          "data": {
            "text/plain": [
              "RandomForestClassifier(bootstrap=True, class_weight=None, criterion='gini',\n",
              "                       max_depth=30, max_features=35, max_leaf_nodes=None,\n",
              "                       min_impurity_decrease=0.0, min_impurity_split=None,\n",
              "                       min_samples_leaf=1, min_samples_split=2,\n",
              "                       min_weight_fraction_leaf=0.0, n_estimators=1000,\n",
              "                       n_jobs=None, oob_score=False, random_state=None,\n",
              "                       verbose=0, warm_start=False)"
            ]
          },
          "metadata": {
            "tags": []
          },
          "execution_count": 125
        }
      ]
    },
    {
      "cell_type": "code",
      "metadata": {
        "id": "6xlSpG-0GePw",
        "colab_type": "code",
        "colab": {},
        "outputId": "945c65b3-2232-417e-a4f6-0d73aa8a9835"
      },
      "source": [
        "#Evaluation on Test set\n",
        "rft_pred = rf_tuned.predict(X_test)\n",
        "print_score(rft_pred,y_test,'Random Forest (tuned)')"
      ],
      "execution_count": null,
      "outputs": [
        {
          "output_type": "stream",
          "text": [
            "Accuracy Score :  97.18\n"
          ],
          "name": "stdout"
        },
        {
          "output_type": "execute_result",
          "data": {
            "text/plain": [
              "<matplotlib.axes._subplots.AxesSubplot at 0x2c1c9f18308>"
            ]
          },
          "metadata": {
            "tags": []
          },
          "execution_count": 126
        },
        {
          "output_type": "display_data",
          "data": {
            "image/png": "[encoded data removed]",
            "text/plain": [
              "<Figure size 432x288 with 2 Axes>"
            ]
          },
          "metadata": {
            "tags": [],
            "needs_background": "light"
          }
        }
      ]
    },
    {
      "cell_type": "code",
      "metadata": {
        "id": "TajOg6KFGePz",
        "colab_type": "code",
        "colab": {},
        "outputId": "42de8ae9-1ac0-4dd7-8b1e-d5badd6a4a26"
      },
      "source": [
        "C = np.logspace(2, 8, 4)\n",
        "penalty = ['l1', 'l2']\n",
        "max_iter = [100, 200, 500]\n",
        "#log_params = dict(C=C, penalty=penalty, max_iter=max_iter) \n",
        "log_params = dict(C=C, penalty=['l2'], solver = ['lbfgs'], max_iter = max_iter) \n",
        "log_params"
      ],
      "execution_count": null,
      "outputs": [
        {
          "output_type": "execute_result",
          "data": {
            "text/plain": [
              "{'C': array([1.e+02, 1.e+04, 1.e+06, 1.e+08]),\n",
              " 'penalty': ['l2'],\n",
              " 'solver': ['lbfgs'],\n",
              " 'max_iter': [100, 200, 500]}"
            ]
          },
          "metadata": {
            "tags": []
          },
          "execution_count": 127
        }
      ]
    },
    {
      "cell_type": "code",
      "metadata": {
        "id": "D2cd0_zAGeP2",
        "colab_type": "code",
        "colab": {},
        "outputId": "152eb3d9-8a60-4466-cdf1-8ce03387ce2e"
      },
      "source": [
        "log_model = LogisticRegression()\n",
        "#Run a gridsearch  \n",
        "#log_val = GridSearchCV(log_model, log_params, cv=5, verbose=0)\n",
        "log_val = GridSearchCV(log_model, log_params, cv=5, verbose=0)\n",
        "\n",
        "log_val.fit(X_val, y_val)"
      ],
      "execution_count": null,
      "outputs": [
        {
          "output_type": "stream",
          "text": [
            "C:\\Users\\omrig\\Anaconda3\\lib\\site-packages\\sklearn\\linear_model\\logistic.py:947: ConvergenceWarning: lbfgs failed to converge. Increase the number of iterations.\n",
            "  \"of iterations.\", ConvergenceWarning)\n",
            "C:\\Users\\omrig\\Anaconda3\\lib\\site-packages\\sklearn\\linear_model\\logistic.py:947: ConvergenceWarning: lbfgs failed to converge. Increase the number of iterations.\n",
            "  \"of iterations.\", ConvergenceWarning)\n",
            "C:\\Users\\omrig\\Anaconda3\\lib\\site-packages\\sklearn\\linear_model\\logistic.py:947: ConvergenceWarning: lbfgs failed to converge. Increase the number of iterations.\n",
            "  \"of iterations.\", ConvergenceWarning)\n",
            "C:\\Users\\omrig\\Anaconda3\\lib\\site-packages\\sklearn\\linear_model\\logistic.py:947: ConvergenceWarning: lbfgs failed to converge. Increase the number of iterations.\n",
            "  \"of iterations.\", ConvergenceWarning)\n",
            "C:\\Users\\omrig\\Anaconda3\\lib\\site-packages\\sklearn\\linear_model\\logistic.py:947: ConvergenceWarning: lbfgs failed to converge. Increase the number of iterations.\n",
            "  \"of iterations.\", ConvergenceWarning)\n",
            "C:\\Users\\omrig\\Anaconda3\\lib\\site-packages\\sklearn\\linear_model\\logistic.py:947: ConvergenceWarning: lbfgs failed to converge. Increase the number of iterations.\n",
            "  \"of iterations.\", ConvergenceWarning)\n",
            "C:\\Users\\omrig\\Anaconda3\\lib\\site-packages\\sklearn\\linear_model\\logistic.py:947: ConvergenceWarning: lbfgs failed to converge. Increase the number of iterations.\n",
            "  \"of iterations.\", ConvergenceWarning)\n",
            "C:\\Users\\omrig\\Anaconda3\\lib\\site-packages\\sklearn\\linear_model\\logistic.py:947: ConvergenceWarning: lbfgs failed to converge. Increase the number of iterations.\n",
            "  \"of iterations.\", ConvergenceWarning)\n",
            "C:\\Users\\omrig\\Anaconda3\\lib\\site-packages\\sklearn\\linear_model\\logistic.py:947: ConvergenceWarning: lbfgs failed to converge. Increase the number of iterations.\n",
            "  \"of iterations.\", ConvergenceWarning)\n",
            "C:\\Users\\omrig\\Anaconda3\\lib\\site-packages\\sklearn\\linear_model\\logistic.py:947: ConvergenceWarning: lbfgs failed to converge. Increase the number of iterations.\n",
            "  \"of iterations.\", ConvergenceWarning)\n",
            "C:\\Users\\omrig\\Anaconda3\\lib\\site-packages\\sklearn\\linear_model\\logistic.py:947: ConvergenceWarning: lbfgs failed to converge. Increase the number of iterations.\n",
            "  \"of iterations.\", ConvergenceWarning)\n",
            "C:\\Users\\omrig\\Anaconda3\\lib\\site-packages\\sklearn\\linear_model\\logistic.py:947: ConvergenceWarning: lbfgs failed to converge. Increase the number of iterations.\n",
            "  \"of iterations.\", ConvergenceWarning)\n",
            "C:\\Users\\omrig\\Anaconda3\\lib\\site-packages\\sklearn\\linear_model\\logistic.py:947: ConvergenceWarning: lbfgs failed to converge. Increase the number of iterations.\n",
            "  \"of iterations.\", ConvergenceWarning)\n",
            "C:\\Users\\omrig\\Anaconda3\\lib\\site-packages\\sklearn\\linear_model\\logistic.py:947: ConvergenceWarning: lbfgs failed to converge. Increase the number of iterations.\n",
            "  \"of iterations.\", ConvergenceWarning)\n",
            "C:\\Users\\omrig\\Anaconda3\\lib\\site-packages\\sklearn\\linear_model\\logistic.py:947: ConvergenceWarning: lbfgs failed to converge. Increase the number of iterations.\n",
            "  \"of iterations.\", ConvergenceWarning)\n",
            "C:\\Users\\omrig\\Anaconda3\\lib\\site-packages\\sklearn\\linear_model\\logistic.py:947: ConvergenceWarning: lbfgs failed to converge. Increase the number of iterations.\n",
            "  \"of iterations.\", ConvergenceWarning)\n",
            "C:\\Users\\omrig\\Anaconda3\\lib\\site-packages\\sklearn\\linear_model\\logistic.py:947: ConvergenceWarning: lbfgs failed to converge. Increase the number of iterations.\n",
            "  \"of iterations.\", ConvergenceWarning)\n",
            "C:\\Users\\omrig\\Anaconda3\\lib\\site-packages\\sklearn\\linear_model\\logistic.py:947: ConvergenceWarning: lbfgs failed to converge. Increase the number of iterations.\n",
            "  \"of iterations.\", ConvergenceWarning)\n",
            "C:\\Users\\omrig\\Anaconda3\\lib\\site-packages\\sklearn\\linear_model\\logistic.py:947: ConvergenceWarning: lbfgs failed to converge. Increase the number of iterations.\n",
            "  \"of iterations.\", ConvergenceWarning)\n",
            "C:\\Users\\omrig\\Anaconda3\\lib\\site-packages\\sklearn\\linear_model\\logistic.py:947: ConvergenceWarning: lbfgs failed to converge. Increase the number of iterations.\n",
            "  \"of iterations.\", ConvergenceWarning)\n",
            "C:\\Users\\omrig\\Anaconda3\\lib\\site-packages\\sklearn\\linear_model\\logistic.py:947: ConvergenceWarning: lbfgs failed to converge. Increase the number of iterations.\n",
            "  \"of iterations.\", ConvergenceWarning)\n",
            "C:\\Users\\omrig\\Anaconda3\\lib\\site-packages\\sklearn\\linear_model\\logistic.py:947: ConvergenceWarning: lbfgs failed to converge. Increase the number of iterations.\n",
            "  \"of iterations.\", ConvergenceWarning)\n",
            "C:\\Users\\omrig\\Anaconda3\\lib\\site-packages\\sklearn\\linear_model\\logistic.py:947: ConvergenceWarning: lbfgs failed to converge. Increase the number of iterations.\n",
            "  \"of iterations.\", ConvergenceWarning)\n",
            "C:\\Users\\omrig\\Anaconda3\\lib\\site-packages\\sklearn\\linear_model\\logistic.py:947: ConvergenceWarning: lbfgs failed to converge. Increase the number of iterations.\n",
            "  \"of iterations.\", ConvergenceWarning)\n",
            "C:\\Users\\omrig\\Anaconda3\\lib\\site-packages\\sklearn\\linear_model\\logistic.py:947: ConvergenceWarning: lbfgs failed to converge. Increase the number of iterations.\n",
            "  \"of iterations.\", ConvergenceWarning)\n",
            "C:\\Users\\omrig\\Anaconda3\\lib\\site-packages\\sklearn\\linear_model\\logistic.py:947: ConvergenceWarning: lbfgs failed to converge. Increase the number of iterations.\n",
            "  \"of iterations.\", ConvergenceWarning)\n",
            "C:\\Users\\omrig\\Anaconda3\\lib\\site-packages\\sklearn\\linear_model\\logistic.py:947: ConvergenceWarning: lbfgs failed to converge. Increase the number of iterations.\n",
            "  \"of iterations.\", ConvergenceWarning)\n",
            "C:\\Users\\omrig\\Anaconda3\\lib\\site-packages\\sklearn\\linear_model\\logistic.py:947: ConvergenceWarning: lbfgs failed to converge. Increase the number of iterations.\n",
            "  \"of iterations.\", ConvergenceWarning)\n",
            "C:\\Users\\omrig\\Anaconda3\\lib\\site-packages\\sklearn\\linear_model\\logistic.py:947: ConvergenceWarning: lbfgs failed to converge. Increase the number of iterations.\n",
            "  \"of iterations.\", ConvergenceWarning)\n",
            "C:\\Users\\omrig\\Anaconda3\\lib\\site-packages\\sklearn\\linear_model\\logistic.py:947: ConvergenceWarning: lbfgs failed to converge. Increase the number of iterations.\n",
            "  \"of iterations.\", ConvergenceWarning)\n",
            "C:\\Users\\omrig\\Anaconda3\\lib\\site-packages\\sklearn\\linear_model\\logistic.py:947: ConvergenceWarning: lbfgs failed to converge. Increase the number of iterations.\n",
            "  \"of iterations.\", ConvergenceWarning)\n",
            "C:\\Users\\omrig\\Anaconda3\\lib\\site-packages\\sklearn\\linear_model\\logistic.py:947: ConvergenceWarning: lbfgs failed to converge. Increase the number of iterations.\n",
            "  \"of iterations.\", ConvergenceWarning)\n",
            "C:\\Users\\omrig\\Anaconda3\\lib\\site-packages\\sklearn\\linear_model\\logistic.py:947: ConvergenceWarning: lbfgs failed to converge. Increase the number of iterations.\n",
            "  \"of iterations.\", ConvergenceWarning)\n",
            "C:\\Users\\omrig\\Anaconda3\\lib\\site-packages\\sklearn\\linear_model\\logistic.py:947: ConvergenceWarning: lbfgs failed to converge. Increase the number of iterations.\n",
            "  \"of iterations.\", ConvergenceWarning)\n",
            "C:\\Users\\omrig\\Anaconda3\\lib\\site-packages\\sklearn\\linear_model\\logistic.py:947: ConvergenceWarning: lbfgs failed to converge. Increase the number of iterations.\n",
            "  \"of iterations.\", ConvergenceWarning)\n",
            "C:\\Users\\omrig\\Anaconda3\\lib\\site-packages\\sklearn\\linear_model\\logistic.py:947: ConvergenceWarning: lbfgs failed to converge. Increase the number of iterations.\n",
            "  \"of iterations.\", ConvergenceWarning)\n",
            "C:\\Users\\omrig\\Anaconda3\\lib\\site-packages\\sklearn\\linear_model\\logistic.py:947: ConvergenceWarning: lbfgs failed to converge. Increase the number of iterations.\n",
            "  \"of iterations.\", ConvergenceWarning)\n",
            "C:\\Users\\omrig\\Anaconda3\\lib\\site-packages\\sklearn\\linear_model\\logistic.py:947: ConvergenceWarning: lbfgs failed to converge. Increase the number of iterations.\n",
            "  \"of iterations.\", ConvergenceWarning)\n",
            "C:\\Users\\omrig\\Anaconda3\\lib\\site-packages\\sklearn\\linear_model\\logistic.py:947: ConvergenceWarning: lbfgs failed to converge. Increase the number of iterations.\n",
            "  \"of iterations.\", ConvergenceWarning)\n",
            "C:\\Users\\omrig\\Anaconda3\\lib\\site-packages\\sklearn\\linear_model\\logistic.py:947: ConvergenceWarning: lbfgs failed to converge. Increase the number of iterations.\n",
            "  \"of iterations.\", ConvergenceWarning)\n",
            "C:\\Users\\omrig\\Anaconda3\\lib\\site-packages\\sklearn\\linear_model\\logistic.py:947: ConvergenceWarning: lbfgs failed to converge. Increase the number of iterations.\n",
            "  \"of iterations.\", ConvergenceWarning)\n",
            "C:\\Users\\omrig\\Anaconda3\\lib\\site-packages\\sklearn\\linear_model\\logistic.py:947: ConvergenceWarning: lbfgs failed to converge. Increase the number of iterations.\n",
            "  \"of iterations.\", ConvergenceWarning)\n",
            "C:\\Users\\omrig\\Anaconda3\\lib\\site-packages\\sklearn\\linear_model\\logistic.py:947: ConvergenceWarning: lbfgs failed to converge. Increase the number of iterations.\n",
            "  \"of iterations.\", ConvergenceWarning)\n",
            "C:\\Users\\omrig\\Anaconda3\\lib\\site-packages\\sklearn\\linear_model\\logistic.py:947: ConvergenceWarning: lbfgs failed to converge. Increase the number of iterations.\n",
            "  \"of iterations.\", ConvergenceWarning)\n",
            "C:\\Users\\omrig\\Anaconda3\\lib\\site-packages\\sklearn\\linear_model\\logistic.py:947: ConvergenceWarning: lbfgs failed to converge. Increase the number of iterations.\n",
            "  \"of iterations.\", ConvergenceWarning)\n",
            "C:\\Users\\omrig\\Anaconda3\\lib\\site-packages\\sklearn\\linear_model\\logistic.py:947: ConvergenceWarning: lbfgs failed to converge. Increase the number of iterations.\n",
            "  \"of iterations.\", ConvergenceWarning)\n",
            "C:\\Users\\omrig\\Anaconda3\\lib\\site-packages\\sklearn\\linear_model\\logistic.py:947: ConvergenceWarning: lbfgs failed to converge. Increase the number of iterations.\n",
            "  \"of iterations.\", ConvergenceWarning)\n",
            "C:\\Users\\omrig\\Anaconda3\\lib\\site-packages\\sklearn\\linear_model\\logistic.py:947: ConvergenceWarning: lbfgs failed to converge. Increase the number of iterations.\n",
            "  \"of iterations.\", ConvergenceWarning)\n",
            "C:\\Users\\omrig\\Anaconda3\\lib\\site-packages\\sklearn\\linear_model\\logistic.py:947: ConvergenceWarning: lbfgs failed to converge. Increase the number of iterations.\n",
            "  \"of iterations.\", ConvergenceWarning)\n",
            "C:\\Users\\omrig\\Anaconda3\\lib\\site-packages\\sklearn\\linear_model\\logistic.py:947: ConvergenceWarning: lbfgs failed to converge. Increase the number of iterations.\n",
            "  \"of iterations.\", ConvergenceWarning)\n",
            "C:\\Users\\omrig\\Anaconda3\\lib\\site-packages\\sklearn\\linear_model\\logistic.py:947: ConvergenceWarning: lbfgs failed to converge. Increase the number of iterations.\n",
            "  \"of iterations.\", ConvergenceWarning)\n",
            "C:\\Users\\omrig\\Anaconda3\\lib\\site-packages\\sklearn\\linear_model\\logistic.py:947: ConvergenceWarning: lbfgs failed to converge. Increase the number of iterations.\n",
            "  \"of iterations.\", ConvergenceWarning)\n",
            "C:\\Users\\omrig\\Anaconda3\\lib\\site-packages\\sklearn\\linear_model\\logistic.py:947: ConvergenceWarning: lbfgs failed to converge. Increase the number of iterations.\n",
            "  \"of iterations.\", ConvergenceWarning)\n",
            "C:\\Users\\omrig\\Anaconda3\\lib\\site-packages\\sklearn\\linear_model\\logistic.py:947: ConvergenceWarning: lbfgs failed to converge. Increase the number of iterations.\n",
            "  \"of iterations.\", ConvergenceWarning)\n",
            "C:\\Users\\omrig\\Anaconda3\\lib\\site-packages\\sklearn\\linear_model\\logistic.py:947: ConvergenceWarning: lbfgs failed to converge. Increase the number of iterations.\n",
            "  \"of iterations.\", ConvergenceWarning)\n",
            "C:\\Users\\omrig\\Anaconda3\\lib\\site-packages\\sklearn\\linear_model\\logistic.py:947: ConvergenceWarning: lbfgs failed to converge. Increase the number of iterations.\n",
            "  \"of iterations.\", ConvergenceWarning)\n",
            "C:\\Users\\omrig\\Anaconda3\\lib\\site-packages\\sklearn\\linear_model\\logistic.py:947: ConvergenceWarning: lbfgs failed to converge. Increase the number of iterations.\n",
            "  \"of iterations.\", ConvergenceWarning)\n",
            "C:\\Users\\omrig\\Anaconda3\\lib\\site-packages\\sklearn\\linear_model\\logistic.py:947: ConvergenceWarning: lbfgs failed to converge. Increase the number of iterations.\n",
            "  \"of iterations.\", ConvergenceWarning)\n"
          ],
          "name": "stderr"
        },
        {
          "output_type": "execute_result",
          "data": {
            "text/plain": [
              "GridSearchCV(cv=5, error_score='raise-deprecating',\n",
              "             estimator=LogisticRegression(C=1.0, class_weight=None, dual=False,\n",
              "                                          fit_intercept=True,\n",
              "                                          intercept_scaling=1, l1_ratio=None,\n",
              "                                          max_iter=100, multi_class='warn',\n",
              "                                          n_jobs=None, penalty='l2',\n",
              "                                          random_state=None, solver='warn',\n",
              "                                          tol=0.0001, verbose=0,\n",
              "                                          warm_start=False),\n",
              "             iid='warn', n_jobs=None,\n",
              "             param_grid={'C': array([1.e+02, 1.e+04, 1.e+06, 1.e+08]),\n",
              "                         'max_iter': [100, 200, 500], 'penalty': ['l2'],\n",
              "                         'solver': ['lbfgs']},\n",
              "             pre_dispatch='2*n_jobs', refit=True, return_train_score=False,\n",
              "             scoring=None, verbose=0)"
            ]
          },
          "metadata": {
            "tags": []
          },
          "execution_count": 128
        }
      ]
    },
    {
      "cell_type": "code",
      "metadata": {
        "id": "C3LwK4KEGeP5",
        "colab_type": "code",
        "colab": {},
        "outputId": "ba2e15ad-8c98-4dd9-c646-e6d9a9042184"
      },
      "source": [
        "log_val.best_params_"
      ],
      "execution_count": null,
      "outputs": [
        {
          "output_type": "execute_result",
          "data": {
            "text/plain": [
              "{'C': 1000000.0, 'max_iter': 500, 'penalty': 'l2', 'solver': 'lbfgs'}"
            ]
          },
          "metadata": {
            "tags": []
          },
          "execution_count": 129
        }
      ]
    },
    {
      "cell_type": "code",
      "metadata": {
        "id": "gDYEh4aDGeP7",
        "colab_type": "code",
        "colab": {},
        "outputId": "3741f166-0928-485d-c966-a00f03d163ad"
      },
      "source": [
        "log_val.best_params_.get('C')"
      ],
      "execution_count": null,
      "outputs": [
        {
          "output_type": "execute_result",
          "data": {
            "text/plain": [
              "1000000.0"
            ]
          },
          "metadata": {
            "tags": []
          },
          "execution_count": 130
        }
      ]
    },
    {
      "cell_type": "code",
      "metadata": {
        "id": "-zs6N5r4GeP9",
        "colab_type": "code",
        "colab": {},
        "outputId": "262b3919-c52b-4ba6-ce58-4983b6c911bb"
      },
      "source": [
        "log_tuned = LogisticRegression(C=log_val.best_params_.get('C'), max_iter=log_val.best_params_.get('max_iter'), solver= 'lbfgs')\n",
        "\n",
        "log_tuned.fit(X_train, y_train)"
      ],
      "execution_count": null,
      "outputs": [
        {
          "output_type": "stream",
          "text": [
            "C:\\Users\\omrig\\Anaconda3\\lib\\site-packages\\sklearn\\linear_model\\logistic.py:947: ConvergenceWarning: lbfgs failed to converge. Increase the number of iterations.\n",
            "  \"of iterations.\", ConvergenceWarning)\n"
          ],
          "name": "stderr"
        },
        {
          "output_type": "execute_result",
          "data": {
            "text/plain": [
              "LogisticRegression(C=1000000.0, class_weight=None, dual=False,\n",
              "                   fit_intercept=True, intercept_scaling=1, l1_ratio=None,\n",
              "                   max_iter=500, multi_class='warn', n_jobs=None, penalty='l2',\n",
              "                   random_state=None, solver='lbfgs', tol=0.0001, verbose=0,\n",
              "                   warm_start=False)"
            ]
          },
          "metadata": {
            "tags": []
          },
          "execution_count": 131
        }
      ]
    },
    {
      "cell_type": "code",
      "metadata": {
        "id": "VPgV_uD4GeQA",
        "colab_type": "code",
        "colab": {},
        "outputId": "bb79cc69-47ba-4103-d368-061a4142124d"
      },
      "source": [
        "#Evaluation on Test set\n",
        "log_t_pred = log_tuned.predict(X_test)\n",
        "print_score(log_t_pred,y_test,'Logistic Regression (tuned)')"
      ],
      "execution_count": null,
      "outputs": [
        {
          "output_type": "stream",
          "text": [
            "Accuracy Score :  99.94\n"
          ],
          "name": "stdout"
        },
        {
          "output_type": "execute_result",
          "data": {
            "text/plain": [
              "<matplotlib.axes._subplots.AxesSubplot at 0x2c1d13a4f48>"
            ]
          },
          "metadata": {
            "tags": []
          },
          "execution_count": 132
        },
        {
          "output_type": "display_data",
          "data": {
            "image/png": "[encoded data removed]",
            "text/plain": [
              "<Figure size 432x288 with 2 Axes>"
            ]
          },
          "metadata": {
            "tags": [],
            "needs_background": "light"
          }
        }
      ]
    },
    {
      "cell_type": "markdown",
      "metadata": {
        "id": "v1I0KgOJGeQB",
        "colab_type": "text"
      },
      "source": [
        "### Evaluation Summary"
      ]
    },
    {
      "cell_type": "code",
      "metadata": {
        "id": "l36lpwRsGeQB",
        "colab_type": "code",
        "colab": {},
        "outputId": "b0bfc7c6-79b6-416e-ef58-e5cba66369cb"
      },
      "source": [
        "df_prediction"
      ],
      "execution_count": null,
      "outputs": [
        {
          "output_type": "execute_result",
          "data": {
            "text/html": [
              "<div>\n",
              "<style scoped>\n",
              "    .dataframe tbody tr th:only-of-type {\n",
              "        vertical-align: middle;\n",
              "    }\n",
              "\n",
              "    .dataframe tbody tr th {\n",
              "        vertical-align: top;\n",
              "    }\n",
              "\n",
              "    .dataframe thead th {\n",
              "        text-align: right;\n",
              "    }\n",
              "</style>\n",
              "<table border=\"1\" class=\"dataframe\">\n",
              "  <thead>\n",
              "    <tr style=\"text-align: right;\">\n",
              "      <th></th>\n",
              "      <th>Score</th>\n",
              "    </tr>\n",
              "  </thead>\n",
              "  <tbody>\n",
              "    <tr>\n",
              "      <td>Top 1 Numeric Feat</td>\n",
              "      <td>65.22</td>\n",
              "    </tr>\n",
              "    <tr>\n",
              "      <td>Top 5 Numeric Feat</td>\n",
              "      <td>75.44</td>\n",
              "    </tr>\n",
              "    <tr>\n",
              "      <td>Top-1 Cat. Feat</td>\n",
              "      <td>75.1</td>\n",
              "    </tr>\n",
              "    <tr>\n",
              "      <td>Random Forest</td>\n",
              "      <td>94.43</td>\n",
              "    </tr>\n",
              "    <tr>\n",
              "      <td>Gradient Boosting</td>\n",
              "      <td>91.93</td>\n",
              "    </tr>\n",
              "    <tr>\n",
              "      <td>Logistic Regression</td>\n",
              "      <td>95.25</td>\n",
              "    </tr>\n",
              "    <tr>\n",
              "      <td>Random Forest (PCA)</td>\n",
              "      <td>93.2</td>\n",
              "    </tr>\n",
              "    <tr>\n",
              "      <td>Logistic Regression (PCA)</td>\n",
              "      <td>81.81</td>\n",
              "    </tr>\n",
              "    <tr>\n",
              "      <td>Random Forest (tuned)</td>\n",
              "      <td>97.18</td>\n",
              "    </tr>\n",
              "    <tr>\n",
              "      <td>Logistic Regression (tuned)</td>\n",
              "      <td>99.94</td>\n",
              "    </tr>\n",
              "  </tbody>\n",
              "</table>\n",
              "</div>"
            ],
            "text/plain": [
              "                             Score\n",
              "Top 1 Numeric Feat           65.22\n",
              "Top 5 Numeric Feat           75.44\n",
              "Top-1 Cat. Feat               75.1\n",
              "Random Forest                94.43\n",
              "Gradient Boosting            91.93\n",
              "Logistic Regression          95.25\n",
              "Random Forest (PCA)           93.2\n",
              "Logistic Regression (PCA)    81.81\n",
              "Random Forest (tuned)        97.18\n",
              "Logistic Regression (tuned)  99.94"
            ]
          },
          "metadata": {
            "tags": []
          },
          "execution_count": 133
        }
      ]
    },
    {
      "cell_type": "code",
      "metadata": {
        "id": "gyDWC1iwGeQE",
        "colab_type": "code",
        "colab": {},
        "outputId": "0654795e-def0-4314-d906-3491b7691057"
      },
      "source": [
        "df_prediction.plot(kind='bar')"
      ],
      "execution_count": null,
      "outputs": [
        {
          "output_type": "execute_result",
          "data": {
            "text/plain": [
              "<matplotlib.axes._subplots.AxesSubplot at 0x2c1d4177408>"
            ]
          },
          "metadata": {
            "tags": []
          },
          "execution_count": 134
        },
        {
          "output_type": "display_data",
          "data": {
            "image/png": "[encoded data removed]",
            "text/plain": [
              "<Figure size 432x288 with 1 Axes>"
            ]
          },
          "metadata": {
            "tags": [],
            "needs_background": "light"
          }
        }
      ]
    },
    {
      "cell_type": "code",
      "metadata": {
        "id": "jCfL4D47GeQF",
        "colab_type": "code",
        "colab": {},
        "outputId": "442c2296-5583-4418-9131-23cf4cb4a5bd"
      },
      "source": [
        "Importance = pd.DataFrame( {\"Importance\": rf_tuned.feature_importances_*100},\n",
        "                         index = train.drop('is_canceled',axis=1).columns)\n",
        "Importance.sort_values(by = \"Importance\", axis = 0, ascending = False)[:10].plot(kind =\"barh\", color = \"r\")\n",
        "\n",
        "plt.xlabel(\"Variable Importance Level\")"
      ],
      "execution_count": null,
      "outputs": [
        {
          "output_type": "execute_result",
          "data": {
            "text/plain": [
              "Text(0.5, 0, 'Variable Importance Level')"
            ]
          },
          "metadata": {
            "tags": []
          },
          "execution_count": 228
        },
        {
          "output_type": "display_data",
          "data": {
            "image/png": "[encoded data removed]",
            "text/plain": [
              "<Figure size 432x288 with 1 Axes>"
            ]
          },
          "metadata": {
            "tags": [],
            "needs_background": "light"
          }
        }
      ]
    },
    {
      "cell_type": "markdown",
      "metadata": {
        "id": "pA8CGYUlGeQH",
        "colab_type": "text"
      },
      "source": [
        "Check the wrongly classified example"
      ]
    },
    {
      "cell_type": "code",
      "metadata": {
        "id": "1SNm4NHzGeQH",
        "colab_type": "code",
        "colab": {}
      },
      "source": [
        "wrong = []\n",
        "for i in np.arange(len(y_test)):\n",
        "    if y_test.iloc[i]!=log_t_pred[i]:\n",
        "        wrong.append(i)"
      ],
      "execution_count": null,
      "outputs": []
    },
    {
      "cell_type": "code",
      "metadata": {
        "id": "fB9CiIFBGeQK",
        "colab_type": "code",
        "colab": {},
        "outputId": "4a88d9a3-2a7a-46f2-f6d3-7ff4c11e7dab"
      },
      "source": [
        "feat_ranked = Importance.sort_values(by = \"Importance\", axis = 0, ascending = True).index.values\n",
        "#pd.concat([test[feat_ranked],log_t_pred],axis=1)\n",
        "df_wrong = test[feat_ranked].iloc[wrong]\n",
        "df_wrong['Prediction'] = log_t_pred[wrong]\n",
        "df_wrong['Target'] = test['is_canceled'].iloc[wrong]\n",
        "df_wrong"
      ],
      "execution_count": null,
      "outputs": [
        {
          "output_type": "execute_result",
          "data": {
            "text/html": [
              "<div>\n",
              "<style scoped>\n",
              "    .dataframe tbody tr th:only-of-type {\n",
              "        vertical-align: middle;\n",
              "    }\n",
              "\n",
              "    .dataframe tbody tr th {\n",
              "        vertical-align: top;\n",
              "    }\n",
              "\n",
              "    .dataframe thead th {\n",
              "        text-align: right;\n",
              "    }\n",
              "</style>\n",
              "<table border=\"1\" class=\"dataframe\">\n",
              "  <thead>\n",
              "    <tr style=\"text-align: right;\">\n",
              "      <th></th>\n",
              "      <th>MS_Undefined</th>\n",
              "      <th>DC_Undefined</th>\n",
              "      <th>DC_GDS</th>\n",
              "      <th>CT_Group</th>\n",
              "      <th>meal_Undefined</th>\n",
              "      <th>MS_Complementary</th>\n",
              "      <th>MS_Aviation</th>\n",
              "      <th>DT_Refundable</th>\n",
              "      <th>babies</th>\n",
              "      <th>CT_Contract</th>\n",
              "      <th>...</th>\n",
              "      <th>total_of_special_requests</th>\n",
              "      <th>arrival_date_month</th>\n",
              "      <th>lead_time</th>\n",
              "      <th>arrival_date_day_of_month</th>\n",
              "      <th>res_day</th>\n",
              "      <th>arrival_date_week_number</th>\n",
              "      <th>res_month</th>\n",
              "      <th>DT_Non Refund</th>\n",
              "      <th>Prediction</th>\n",
              "      <th>Target</th>\n",
              "    </tr>\n",
              "  </thead>\n",
              "  <tbody>\n",
              "    <tr>\n",
              "      <td>113521</td>\n",
              "      <td>0</td>\n",
              "      <td>0</td>\n",
              "      <td>0</td>\n",
              "      <td>0</td>\n",
              "      <td>0</td>\n",
              "      <td>0</td>\n",
              "      <td>0</td>\n",
              "      <td>0</td>\n",
              "      <td>0</td>\n",
              "      <td>0</td>\n",
              "      <td>...</td>\n",
              "      <td>2</td>\n",
              "      <td>6</td>\n",
              "      <td>40</td>\n",
              "      <td>8</td>\n",
              "      <td>8</td>\n",
              "      <td>23</td>\n",
              "      <td>6</td>\n",
              "      <td>0</td>\n",
              "      <td>1</td>\n",
              "      <td>0</td>\n",
              "    </tr>\n",
              "    <tr>\n",
              "      <td>53481</td>\n",
              "      <td>0</td>\n",
              "      <td>0</td>\n",
              "      <td>0</td>\n",
              "      <td>0</td>\n",
              "      <td>0</td>\n",
              "      <td>1</td>\n",
              "      <td>0</td>\n",
              "      <td>0</td>\n",
              "      <td>0</td>\n",
              "      <td>0</td>\n",
              "      <td>...</td>\n",
              "      <td>1</td>\n",
              "      <td>6</td>\n",
              "      <td>0</td>\n",
              "      <td>22</td>\n",
              "      <td>22</td>\n",
              "      <td>26</td>\n",
              "      <td>6</td>\n",
              "      <td>0</td>\n",
              "      <td>1</td>\n",
              "      <td>0</td>\n",
              "    </tr>\n",
              "    <tr>\n",
              "      <td>35354</td>\n",
              "      <td>0</td>\n",
              "      <td>0</td>\n",
              "      <td>0</td>\n",
              "      <td>0</td>\n",
              "      <td>0</td>\n",
              "      <td>0</td>\n",
              "      <td>0</td>\n",
              "      <td>0</td>\n",
              "      <td>0</td>\n",
              "      <td>0</td>\n",
              "      <td>...</td>\n",
              "      <td>0</td>\n",
              "      <td>4</td>\n",
              "      <td>1</td>\n",
              "      <td>20</td>\n",
              "      <td>20</td>\n",
              "      <td>16</td>\n",
              "      <td>4</td>\n",
              "      <td>0</td>\n",
              "      <td>1</td>\n",
              "      <td>0</td>\n",
              "    </tr>\n",
              "    <tr>\n",
              "      <td>79667</td>\n",
              "      <td>0</td>\n",
              "      <td>0</td>\n",
              "      <td>0</td>\n",
              "      <td>0</td>\n",
              "      <td>0</td>\n",
              "      <td>0</td>\n",
              "      <td>0</td>\n",
              "      <td>0</td>\n",
              "      <td>0</td>\n",
              "      <td>0</td>\n",
              "      <td>...</td>\n",
              "      <td>1</td>\n",
              "      <td>11</td>\n",
              "      <td>3</td>\n",
              "      <td>12</td>\n",
              "      <td>12</td>\n",
              "      <td>46</td>\n",
              "      <td>11</td>\n",
              "      <td>0</td>\n",
              "      <td>0</td>\n",
              "      <td>1</td>\n",
              "    </tr>\n",
              "    <tr>\n",
              "      <td>7932</td>\n",
              "      <td>0</td>\n",
              "      <td>0</td>\n",
              "      <td>0</td>\n",
              "      <td>0</td>\n",
              "      <td>0</td>\n",
              "      <td>0</td>\n",
              "      <td>0</td>\n",
              "      <td>0</td>\n",
              "      <td>0</td>\n",
              "      <td>0</td>\n",
              "      <td>...</td>\n",
              "      <td>0</td>\n",
              "      <td>9</td>\n",
              "      <td>265</td>\n",
              "      <td>2</td>\n",
              "      <td>2</td>\n",
              "      <td>36</td>\n",
              "      <td>9</td>\n",
              "      <td>0</td>\n",
              "      <td>1</td>\n",
              "      <td>0</td>\n",
              "    </tr>\n",
              "    <tr>\n",
              "      <td>6755</td>\n",
              "      <td>0</td>\n",
              "      <td>0</td>\n",
              "      <td>0</td>\n",
              "      <td>0</td>\n",
              "      <td>0</td>\n",
              "      <td>0</td>\n",
              "      <td>0</td>\n",
              "      <td>0</td>\n",
              "      <td>0</td>\n",
              "      <td>0</td>\n",
              "      <td>...</td>\n",
              "      <td>2</td>\n",
              "      <td>6</td>\n",
              "      <td>186</td>\n",
              "      <td>29</td>\n",
              "      <td>29</td>\n",
              "      <td>27</td>\n",
              "      <td>6</td>\n",
              "      <td>0</td>\n",
              "      <td>1</td>\n",
              "      <td>0</td>\n",
              "    </tr>\n",
              "    <tr>\n",
              "      <td>111710</td>\n",
              "      <td>0</td>\n",
              "      <td>0</td>\n",
              "      <td>0</td>\n",
              "      <td>0</td>\n",
              "      <td>0</td>\n",
              "      <td>0</td>\n",
              "      <td>0</td>\n",
              "      <td>0</td>\n",
              "      <td>0</td>\n",
              "      <td>0</td>\n",
              "      <td>...</td>\n",
              "      <td>0</td>\n",
              "      <td>5</td>\n",
              "      <td>6</td>\n",
              "      <td>14</td>\n",
              "      <td>14</td>\n",
              "      <td>20</td>\n",
              "      <td>5</td>\n",
              "      <td>0</td>\n",
              "      <td>1</td>\n",
              "      <td>0</td>\n",
              "    </tr>\n",
              "  </tbody>\n",
              "</table>\n",
              "<p>7 rows × 50 columns</p>\n",
              "</div>"
            ],
            "text/plain": [
              "        MS_Undefined  DC_Undefined  DC_GDS  CT_Group  meal_Undefined  \\\n",
              "113521             0             0       0         0               0   \n",
              "53481              0             0       0         0               0   \n",
              "35354              0             0       0         0               0   \n",
              "79667              0             0       0         0               0   \n",
              "7932               0             0       0         0               0   \n",
              "6755               0             0       0         0               0   \n",
              "111710             0             0       0         0               0   \n",
              "\n",
              "        MS_Complementary  MS_Aviation  DT_Refundable  babies  CT_Contract  \\\n",
              "113521                 0            0              0       0            0   \n",
              "53481                  1            0              0       0            0   \n",
              "35354                  0            0              0       0            0   \n",
              "79667                  0            0              0       0            0   \n",
              "7932                   0            0              0       0            0   \n",
              "6755                   0            0              0       0            0   \n",
              "111710                 0            0              0       0            0   \n",
              "\n",
              "        ...  total_of_special_requests  arrival_date_month  lead_time  \\\n",
              "113521  ...                          2                   6         40   \n",
              "53481   ...                          1                   6          0   \n",
              "35354   ...                          0                   4          1   \n",
              "79667   ...                          1                  11          3   \n",
              "7932    ...                          0                   9        265   \n",
              "6755    ...                          2                   6        186   \n",
              "111710  ...                          0                   5          6   \n",
              "\n",
              "        arrival_date_day_of_month  res_day  arrival_date_week_number  \\\n",
              "113521                          8        8                        23   \n",
              "53481                          22       22                        26   \n",
              "35354                          20       20                        16   \n",
              "79667                          12       12                        46   \n",
              "7932                            2        2                        36   \n",
              "6755                           29       29                        27   \n",
              "111710                         14       14                        20   \n",
              "\n",
              "        res_month  DT_Non Refund  Prediction  Target  \n",
              "113521          6              0           1       0  \n",
              "53481           6              0           1       0  \n",
              "35354           4              0           1       0  \n",
              "79667          11              0           0       1  \n",
              "7932            9              0           1       0  \n",
              "6755            6              0           1       0  \n",
              "111710          5              0           1       0  \n",
              "\n",
              "[7 rows x 50 columns]"
            ]
          },
          "metadata": {
            "tags": []
          },
          "execution_count": 229
        }
      ]
    },
    {
      "cell_type": "markdown",
      "metadata": {
        "id": "iCzDZfQPGeQM",
        "colab_type": "text"
      },
      "source": [
        "### Conclusions\n",
        "Loistic Regression found to be the best model for cancellation prediction. Hyperparameters tuning of the model provided additional improvement while dimensionality reduction using PCA seemed to be counter-productive.\n",
        "The model was selected using the validation set and training was performed on the training set, the test set wan not used or analyzed until the final estimation which indicated more than 99.99% accuracy. The wrongly classified examples set (7) contains mostly false positive predictions in which all costumers did not have non-refundable deposit status (the most important feature) and the reservation was made on the day of the arrival. "
      ]
    },
    {
      "cell_type": "code",
      "metadata": {
        "id": "J77hbMqJGeQM",
        "colab_type": "code",
        "colab": {}
      },
      "source": [
        ""
      ],
      "execution_count": null,
      "outputs": []
    }
  ]
}